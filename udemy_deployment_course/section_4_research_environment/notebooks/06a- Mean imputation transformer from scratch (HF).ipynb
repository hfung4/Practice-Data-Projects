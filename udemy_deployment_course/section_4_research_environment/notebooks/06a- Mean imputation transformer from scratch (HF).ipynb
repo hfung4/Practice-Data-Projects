{
 "cells": [
  {
   "cell_type": "markdown",
   "id": "24f5f46c",
   "metadata": {},
   "source": [
    "## Implement a mean imputation class that is compatible with scikit-learn"
   ]
  },
  {
   "cell_type": "code",
   "execution_count": 1,
   "id": "32bf5d21",
   "metadata": {},
   "outputs": [],
   "source": [
    "import pandas as pd"
   ]
  },
  {
   "cell_type": "markdown",
   "id": "21673a91",
   "metadata": {},
   "source": [
    "## Constructor"
   ]
  },
  {
   "cell_type": "code",
   "execution_count": 2,
   "id": "e438e3c0",
   "metadata": {},
   "outputs": [],
   "source": [
    "class MeanImputer:\n",
    "    # constructor\n",
    "    def __init__(self,variables):\n",
    "        self.variables = variables"
   ]
  },
  {
   "cell_type": "code",
   "execution_count": 3,
   "id": "439d3a9b",
   "metadata": {},
   "outputs": [],
   "source": [
    "obj1 = MeanImputer(['age','weight'])"
   ]
  },
  {
   "cell_type": "code",
   "execution_count": 4,
   "id": "7ed5c350",
   "metadata": {},
   "outputs": [
    {
     "data": {
      "text/plain": [
       "['age', 'weight']"
      ]
     },
     "execution_count": 4,
     "metadata": {},
     "output_type": "execute_result"
    }
   ],
   "source": [
    "obj1.variables"
   ]
  },
  {
   "cell_type": "markdown",
   "id": "f2f1f8a2",
   "metadata": {},
   "source": [
    "## Fit method"
   ]
  },
  {
   "cell_type": "code",
   "execution_count": 5,
   "id": "2f628ffe",
   "metadata": {},
   "outputs": [],
   "source": [
    "class MeanImputer:\n",
    "    # constructor\n",
    "    def __init__(self,variables):\n",
    "        self.variables=variables\n",
    "        \n",
    "    # fit method\n",
    "    # To be compatible with sklearn, my arguments needs to \n",
    "    # be X (input feature data), and y (input response variable, optional)\n",
    "    def fit(self,X,y=None):\n",
    "        # I need to store parameters in an attribute called imputer_dict_. \n",
    "        # imputer_dict_ is a dictionary that contains the names of the variables (specified by users)\n",
    "        # in the constructors as key, and the column mean of each variable as values\n",
    "        self.imputer_dict_ = X[self.variables].mean().to_dict()\n",
    "        \n",
    "        # optional return statement\n",
    "        return self"
   ]
  },
  {
   "cell_type": "markdown",
   "id": "598d8123",
   "metadata": {},
   "source": [
    "## Import data"
   ]
  },
  {
   "cell_type": "code",
   "execution_count": 6,
   "id": "38d20215",
   "metadata": {},
   "outputs": [],
   "source": [
    "# Import data\n",
    "data = pd.read_csv('../data/train.csv')"
   ]
  },
  {
   "cell_type": "code",
   "execution_count": 7,
   "id": "6e15c50a",
   "metadata": {},
   "outputs": [],
   "source": [
    "obj2 = MeanImputer(variables = ['LotFrontage','MasVnrArea'])"
   ]
  },
  {
   "cell_type": "code",
   "execution_count": 8,
   "id": "47950336",
   "metadata": {},
   "outputs": [
    {
     "data": {
      "text/plain": [
       "['LotFrontage', 'MasVnrArea']"
      ]
     },
     "execution_count": 8,
     "metadata": {},
     "output_type": "execute_result"
    }
   ],
   "source": [
    "obj2.variables"
   ]
  },
  {
   "cell_type": "code",
   "execution_count": 9,
   "id": "09dfaa28",
   "metadata": {},
   "outputs": [],
   "source": [
    "X= data[data!='SalePrice']"
   ]
  },
  {
   "cell_type": "code",
   "execution_count": 10,
   "id": "a897f612",
   "metadata": {},
   "outputs": [],
   "source": [
    "y= data['SalePrice']"
   ]
  },
  {
   "cell_type": "markdown",
   "id": "d807c3d6",
   "metadata": {},
   "source": [
    "## Apply fit method"
   ]
  },
  {
   "cell_type": "code",
   "execution_count": 11,
   "id": "09de8fd6",
   "metadata": {},
   "outputs": [
    {
     "data": {
      "text/plain": [
       "<__main__.MeanImputer at 0x1172ba370>"
      ]
     },
     "execution_count": 11,
     "metadata": {},
     "output_type": "execute_result"
    }
   ],
   "source": [
    "obj2.fit(X)"
   ]
  },
  {
   "cell_type": "code",
   "execution_count": 12,
   "id": "e2e87974",
   "metadata": {},
   "outputs": [
    {
     "data": {
      "text/plain": [
       "{'LotFrontage': 70.04995836802665, 'MasVnrArea': 103.68526170798899}"
      ]
     },
     "execution_count": 12,
     "metadata": {},
     "output_type": "execute_result"
    }
   ],
   "source": [
    "obj2.imputer_dict_"
   ]
  },
  {
   "cell_type": "markdown",
   "id": "6de0d614",
   "metadata": {},
   "source": [
    "## Transform method"
   ]
  },
  {
   "cell_type": "code",
   "execution_count": 13,
   "id": "0b125926",
   "metadata": {},
   "outputs": [],
   "source": [
    "class MeanImputer:\n",
    "    def __init__(self,variables):\n",
    "        self.variables = variables\n",
    "        \n",
    "    def fit(self,X,y=None):\n",
    "        self.imputer_dict_ = X[self.variables].mean().to_dict()\n",
    "        return self\n",
    "    \n",
    "    # To be compatible with sklearn, the transform method only takes self and \n",
    "    # X (the input data) as arguments\n",
    "    def transform(self,X):\n",
    "        \n",
    "        # Perform mean imputation to the \"variables\" columns in the input dataframe X\n",
    "        for var in self.variables:\n",
    "            # Fill the missing values in var with its column mean\n",
    "            X[var] = X[var].fillna(self.imputer_dict_[var])\n",
    "            \n",
    "        # Return the transformed data\n",
    "        return X"
   ]
  },
  {
   "cell_type": "code",
   "execution_count": 14,
   "id": "98bd6b38",
   "metadata": {},
   "outputs": [],
   "source": [
    "obj3 = MeanImputer(['LotFrontage','MasVnrArea'])"
   ]
  },
  {
   "cell_type": "code",
   "execution_count": 15,
   "id": "ff6b98e4",
   "metadata": {},
   "outputs": [
    {
     "data": {
      "text/plain": [
       "['LotFrontage', 'MasVnrArea']"
      ]
     },
     "execution_count": 15,
     "metadata": {},
     "output_type": "execute_result"
    }
   ],
   "source": [
    "obj3.variables"
   ]
  },
  {
   "cell_type": "code",
   "execution_count": 16,
   "id": "36088ef5",
   "metadata": {},
   "outputs": [
    {
     "data": {
      "text/plain": [
       "<__main__.MeanImputer at 0x1172e0070>"
      ]
     },
     "execution_count": 16,
     "metadata": {},
     "output_type": "execute_result"
    }
   ],
   "source": [
    "obj3.fit(X)"
   ]
  },
  {
   "cell_type": "code",
   "execution_count": 17,
   "id": "7193fd36",
   "metadata": {},
   "outputs": [
    {
     "data": {
      "text/plain": [
       "{'LotFrontage': 70.04995836802665, 'MasVnrArea': 103.68526170798899}"
      ]
     },
     "execution_count": 17,
     "metadata": {},
     "output_type": "execute_result"
    }
   ],
   "source": [
    "obj3.imputer_dict_"
   ]
  },
  {
   "cell_type": "code",
   "execution_count": 18,
   "id": "40a12df1",
   "metadata": {},
   "outputs": [],
   "source": [
    "X_transform = obj3.transform(X)"
   ]
  },
  {
   "cell_type": "code",
   "execution_count": 19,
   "id": "c0d0a9f5",
   "metadata": {},
   "outputs": [
    {
     "data": {
      "text/plain": [
       "LotFrontage    0\n",
       "MasVnrArea     0\n",
       "dtype: int64"
      ]
     },
     "execution_count": 19,
     "metadata": {},
     "output_type": "execute_result"
    }
   ],
   "source": [
    "# Check to see if there is missing values in the two columns\n",
    "X_transform[['LotFrontage','MasVnrArea']].isnull().sum()"
   ]
  },
  {
   "cell_type": "code",
   "execution_count": null,
   "id": "2254555f",
   "metadata": {},
   "outputs": [],
   "source": []
  }
 ],
 "metadata": {
  "kernelspec": {
   "display_name": "Python 3",
   "language": "python",
   "name": "python3"
  },
  "language_info": {
   "codemirror_mode": {
    "name": "ipython",
    "version": 3
   },
   "file_extension": ".py",
   "mimetype": "text/x-python",
   "name": "python",
   "nbconvert_exporter": "python",
   "pygments_lexer": "ipython3",
   "version": "3.8.0"
  }
 },
 "nbformat": 4,
 "nbformat_minor": 5
}
