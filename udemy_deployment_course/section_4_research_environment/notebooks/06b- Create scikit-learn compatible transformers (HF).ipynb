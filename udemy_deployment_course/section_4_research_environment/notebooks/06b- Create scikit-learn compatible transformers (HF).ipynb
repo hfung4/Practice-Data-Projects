{
 "cells": [
  {
   "cell_type": "markdown",
   "id": "8430876c",
   "metadata": {},
   "source": [
    "## Create scikit-learn compatible transformers\n",
    "- We are going to create most of our feature engineering steps with open source libraries.\n",
    "- But we have to create custom transformers for transformations that we didn't find a suitable class from feature-engine or scikit-learn. For these transformers, we have to create classes with methods/attributes that are \"scikit-learn compatible\"\n",
    "    - Capture the elaspe time (in years) between a year variable and YrSold (when the house was sold).\n",
    "        - For example, we replace YrBuilt with (YrSold - YrBuilt)\n",
    "    - Categorical variables encoding (the encoding of categorical variables that already have ordered levels from strings to numeric) "
   ]
  },
  {
   "cell_type": "markdown",
   "id": "9bd1a779",
   "metadata": {},
   "source": [
    "## NOTE: I also create a .py version of this notebook (which we will import in notebook 7) called src/preprocessing.py"
   ]
  },
  {
   "cell_type": "markdown",
   "id": "9dcf214b",
   "metadata": {},
   "source": [
    "## Reference: \n",
    "    https://scikit-learn.org/stable/modules/generated/sklearn.base.BaseEstimator.html#sklearn.base.BaseEstimator\n",
    "    https://sklearn-template.readthedocs.io/en/latest/user_guide.html"
   ]
  },
  {
   "cell_type": "code",
   "execution_count": 4,
   "id": "c3a6e6b2",
   "metadata": {},
   "outputs": [],
   "source": [
    "import numpy as np\n",
    "import pandas as pd\n",
    "\n",
    "'''scikit-learn'''\n",
    "from sklearn.base import BaseEstimator, TransformerMixin"
   ]
  },
  {
   "cell_type": "markdown",
   "id": "9d0c4e65",
   "metadata": {},
   "source": [
    "### Transformer to capture the elaspe time (in years) between a year variable and YrSold (when the house was sold)"
   ]
  },
  {
   "cell_type": "code",
   "execution_count": 2,
   "id": "e0655af5",
   "metadata": {},
   "outputs": [],
   "source": [
    "# inherit the required parent classes from scikit-learn\n",
    "class TemporalVariableTransformer(BaseEstimator,TransformerMixin):\n",
    "    \n",
    "    # constructor\n",
    "    def __init__(self,variables,reference_variable): # reference_variable is YrSold\n",
    "        \n",
    "        \"\"\"Constructor\n",
    "        \n",
    "        Args:\n",
    "            variables (List[str]): a list of year variable names\n",
    "            reference_variable (str): name of the reference variable\n",
    "        \n",
    "        Returns:\n",
    "            void        \n",
    "        \"\"\"\n",
    "        \n",
    "        # Error handling: Do some sanity checks on the input parameter (it should be a list)\n",
    "        if not isinstance(variables,list):\n",
    "            raise ValueError('variables shold be a list')\n",
    "            \n",
    "        # set the attributes variables and reference_variable\n",
    "        self.variables = variables # a list of variables\n",
    "        self.reference_variable = reference_variable\n",
    "        \n",
    "        \n",
    "    # fit method \n",
    "    def fit(self,X,y=None):\n",
    "        \"\"\" Fit\n",
    "        \n",
    "        Args:\n",
    "            X (DataFrame): a input dataframe of features to train the transformer\n",
    "            y (DataFrame): a input Series of response variable to train the transformer (optional)\n",
    "            \n",
    "        Returns:\n",
    "            self    \n",
    "        \"\"\"\n",
    "        # We don't need to learn any parameters for this transformer. Nonetheless, we still need \n",
    "        # to include a fit method so that the Transformer class would be compatible to sklearn\n",
    "        \n",
    "        return self\n",
    "\n",
    "    def transform(self,X):     \n",
    "        \"\"\" Transform\n",
    "        \n",
    "        Args:\n",
    "            X (DataFrame): a input dataframe of features to be transformed\n",
    "          \n",
    "        Returns:\n",
    "            X (DataFrame): the transformed Dataframe of features    \n",
    "        \"\"\"\n",
    "        \n",
    "        # Make a copy of the input Dataframe of features to be transformed\n",
    "        # so we won't overwrite the original Dataframe that was passed as argument\n",
    "        X=X.copy()\n",
    "        \n",
    "        # Perform the transformation: df[var] = df[reference_variable] - df[var]\n",
    "        for var in self.variables:\n",
    "            X[var] = X[self.reference_variable] - X[var]\n",
    "        \n",
    "        return X"
   ]
  },
  {
   "cell_type": "markdown",
   "id": "32ea31a4",
   "metadata": {},
   "source": [
    "### Categorical variables encoding (the encoding of categorical variables that already have ordered levels from strings to numeric) \n",
    "- We can use this transformer to recode as many variables as we want\n",
    "- Put the variables that we want to recode in a list called \"variables\"\n",
    "- \"mappings\" is a dictionary that maps the old encoding to the new encoding"
   ]
  },
  {
   "cell_type": "code",
   "execution_count": 3,
   "id": "79c8a554",
   "metadata": {},
   "outputs": [],
   "source": [
    "class Mapper(BaseEstimator,TransformerMixin):\n",
    "    \"\"\"\n",
    "    Constructor\n",
    "    \n",
    "    Args:\n",
    "        variables (List[str]): a list of variables to be recoded (specified by user)\n",
    "        mappings (dict): a dictionary of mappings from old to new encoding\n",
    "    \n",
    "    Returns:\n",
    "        void\n",
    "    \"\"\"\n",
    "    def __init__(self,variables,mappings):\n",
    "        \n",
    "        # Error handling: check to ensure variables is a list\n",
    "        if not isinstance(variables,list):\n",
    "            raise ValueError('variables should be a list')\n",
    "            \n",
    "        # Error handling: check to ensure variables is a dict\n",
    "        if not isinstance(mappings,dict):\n",
    "            raise ValueError('mapping should be a dictionary')\n",
    "        \n",
    "        # set attributes at instantiation of class\n",
    "        self.variables = variables\n",
    "        self.mappings = mappings\n",
    "        \n",
    "\n",
    "    def fit(self,X,y=None): # need to have y as argument to make class compatible with sklearn pipeline\n",
    "        \"\"\" Fit\n",
    "        \n",
    "        Args:\n",
    "            X (DataFrame): a input dataframe of features to train the transformer\n",
    "            y (DataFrame): a input Series of response variable to train the transformer (optional)\n",
    "            \n",
    "        Returns:\n",
    "            self    \n",
    "        \"\"\"\n",
    "        # We don't need to learn any parameters for this transformer. Nonetheless, we still need \n",
    "        # to include a fit method so that the Transformer class would be compatible to sklearn\n",
    "        \n",
    "        return self\n",
    "    \n",
    "    def transform(self,X):\n",
    "        \"\"\" Transform\n",
    "        \n",
    "        Args:\n",
    "            X (DataFrame): a input dataframe of features to be transformed\n",
    "          \n",
    "        Returns:\n",
    "            X (DataFrame): the transformed Dataframe of features    \n",
    "        \"\"\"\n",
    "        \n",
    "        # Make a copy of the input Dataframe of features to be transformed\n",
    "        # so we won't overwrite the original Dataframe that was passed as argument\n",
    "        X=X.copy()\n",
    "        \n",
    "        # Perform recoding of the levels of var\n",
    "        for var in self.variables:\n",
    "            X[var] = X[var].map(self.mappings)\n",
    "            \n",
    "        return X"
   ]
  },
  {
   "cell_type": "markdown",
   "id": "130cc638",
   "metadata": {},
   "source": [
    "## NOTE: mappings is a dict where the key are the variable names, and the values are another dictionary with the mapping for each level:\n",
    "\n",
    "\n",
    "ordinal_mappings = { <br>\n",
    "    'MSZoning': {'Rare': 0, 'RM': 1, 'RH': 2, 'RL': 3, 'FV': 4},<br>\n",
    "    'Street': {'Rare': 0, 'Pave': 1},<br>\n",
    "    'Alley': {'Grvl': 0, 'Pave': 1, 'Missing': 2},<br>\n",
    "    'LotShape': {'Reg': 0, 'IR1': 1, 'Rare': 2, 'IR2': 3},<br>\n",
    "    'LandContour': {'Bnk': 0, 'Lvl': 1, 'Low': 2, 'HLS': 3},<br>\n",
    "    'Utilities': {'Rare': 0, 'AllPub': 1},<br>\n",
    "    'LotConfig': {'Inside': 0, 'FR2': 1, 'Corner': 2, 'Rare': 3, 'CulDSac': 4},<br>\n",
    "    'LandSlope': {'Gtl': 0, 'Mod': 1, 'Rare': 2}}"
   ]
  },
  {
   "cell_type": "code",
   "execution_count": null,
   "id": "3880f5ff",
   "metadata": {},
   "outputs": [],
   "source": []
  }
 ],
 "metadata": {
  "kernelspec": {
   "display_name": "Python 3",
   "language": "python",
   "name": "python3"
  },
  "language_info": {
   "codemirror_mode": {
    "name": "ipython",
    "version": 3
   },
   "file_extension": ".py",
   "mimetype": "text/x-python",
   "name": "python",
   "nbconvert_exporter": "python",
   "pygments_lexer": "ipython3",
   "version": "3.8.0"
  }
 },
 "nbformat": 4,
 "nbformat_minor": 5
}
