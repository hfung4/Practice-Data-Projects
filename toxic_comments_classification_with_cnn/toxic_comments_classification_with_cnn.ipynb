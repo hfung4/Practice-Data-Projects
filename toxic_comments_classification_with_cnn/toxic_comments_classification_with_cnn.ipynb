{
 "cells": [
  {
   "cell_type": "markdown",
   "metadata": {},
   "source": [
    "**The purpose of this notebook is to examine the performance of neural network models and CNN with word embeddings in multi-class classifications using a small train dataset.**"
   ]
  },
  {
   "cell_type": "code",
   "execution_count": 123,
   "metadata": {},
   "outputs": [],
   "source": [
    "'''data'''\n",
    "import pandas as pd\n",
    "import numpy as np\n",
    "import re\n",
    "\n",
    "'''plots'''\n",
    "import matplotlib.pyplot as plt \n",
    "\n",
    "'''keras'''\n",
    "from keras.preprocessing.text import Tokenizer\n",
    "from keras.preprocessing.sequence import pad_sequences\n",
    "\n",
    "from keras.models import Sequential, Model\n",
    "from keras.layers import Embedding, Flatten, Dense, Input, Conv1D, Conv2D, MaxPooling1D, MaxPooling2D, GlobalMaxPooling1D\n",
    "from keras.layers import Dropout,concatenate\n",
    "\n",
    "from keras.layers.core import Reshape\n",
    "from keras.callbacks import EarlyStopping\n",
    "from keras.optimizers import SGD, RMSprop, Adam\n",
    "from keras import regularizers\n",
    "\n",
    "'''Gensim'''\n",
    "from gensim.models import Word2Vec\n",
    "from gensim.models.keyedvectors import KeyedVectors\n",
    "\n",
    "\n",
    "'''metrics'''\n",
    "from sklearn.metrics import accuracy_score, confusion_matrix, classification_report\n",
    "from sklearn.metrics import precision_score, recall_score, f1_score, auc, roc_curve\n",
    "from sklearn.model_selection import train_test_split"
   ]
  },
  {
   "cell_type": "markdown",
   "metadata": {},
   "source": [
    "## Import the data"
   ]
  },
  {
   "cell_type": "code",
   "execution_count": 50,
   "metadata": {},
   "outputs": [],
   "source": [
    "train_raw=pd.read_csv(\"data/train.csv\")"
   ]
  },
  {
   "cell_type": "code",
   "execution_count": 51,
   "metadata": {},
   "outputs": [
    {
     "data": {
      "text/plain": [
       "(159571, 8)"
      ]
     },
     "execution_count": 51,
     "metadata": {},
     "output_type": "execute_result"
    }
   ],
   "source": [
    "train_raw.shape"
   ]
  },
  {
   "cell_type": "markdown",
   "metadata": {},
   "source": [
    "To test the benefits of using pre-trained word embeddings on problems where there is very little training data available I will only train on 900 samples. I will sample 300 comment_text from each the toxic, obscene, and insult class.  In doing so, I convert this problem from a multi-label classification problem with a large train dataset to a multi-class classification problem with a very small train dataset. "
   ]
  },
  {
   "cell_type": "code",
   "execution_count": 52,
   "metadata": {},
   "outputs": [],
   "source": [
    "''' This function get a subset of the full train/test data'''\n",
    "def get_subset_data(df, size):\n",
    "    df_toxic = df[(df.toxic==1) &\n",
    "       (df.severe_toxic==0) & \n",
    "       (df.obscene==0) & \n",
    "       (df.threat==0) & \n",
    "       (df.insult==0) & \n",
    "       (df.identity_hate==0)]\n",
    "    df_toxic = df_toxic.sample(size)\n",
    "\n",
    "    df_obscene = df[(df.toxic==0) &\n",
    "       (df.severe_toxic==0) & \n",
    "       (df.obscene==1) & \n",
    "       (df.threat==0) & \n",
    "       (df.insult==0) & \n",
    "       (df.identity_hate==0)]\n",
    "    df_obscene = df_obscene.sample(size)\n",
    "\n",
    "    df_insult = df[(df.toxic==0) &\n",
    "       (df.severe_toxic==0) & \n",
    "       (df.obscene==0) & \n",
    "       (df.threat==0) & \n",
    "       (df.insult==1) & \n",
    "       (df.identity_hate==0)]\n",
    "    df_insult= df_insult.sample(size)\n",
    "\n",
    "    data = pd.concat([df_toxic, df_obscene, df_insult], axis=0)\n",
    "    data = data.sample(size*3, random_state=10)\n",
    "    data = data.reset_index(drop=True)\n",
    "\n",
    "    data = data.drop([\"severe_toxic\",\"threat\", \"identity_hate\"], axis=1)\n",
    "\n",
    "    return data"
   ]
  },
  {
   "cell_type": "code",
   "execution_count": 53,
   "metadata": {
    "scrolled": false
   },
   "outputs": [
    {
     "data": {
      "text/plain": [
       "(900, 5)"
      ]
     },
     "execution_count": 53,
     "metadata": {},
     "output_type": "execute_result"
    }
   ],
   "source": [
    "train = get_subset_data(train_raw, 300)\n",
    "train.shape"
   ]
  },
  {
   "cell_type": "markdown",
   "metadata": {},
   "source": [
    "**Repeat the same thing for the test dataset.  I will sample 40 samples from the 3 classes (toxic, obscene, insult) so the test dataset will have 120 samples.**"
   ]
  },
  {
   "cell_type": "code",
   "execution_count": 54,
   "metadata": {},
   "outputs": [],
   "source": [
    "test_labels = pd.read_csv('data/test_labels.csv')\n",
    "test_labels = test_labels[test_labels.toxic!=-1]\n",
    "test_data = pd.read_csv('data/test.csv')\n",
    "test_raw = pd.merge(test_data, test_labels, on=\"id\", how=\"right\")"
   ]
  },
  {
   "cell_type": "code",
   "execution_count": 55,
   "metadata": {
    "scrolled": true
   },
   "outputs": [
    {
     "data": {
      "text/plain": [
       "(120, 5)"
      ]
     },
     "execution_count": 55,
     "metadata": {},
     "output_type": "execute_result"
    }
   ],
   "source": [
    "test = get_subset_data(test_raw, 40)\n",
    "test.shape"
   ]
  },
  {
   "cell_type": "code",
   "execution_count": 56,
   "metadata": {},
   "outputs": [],
   "source": [
    "# Get the texts from the train dataset\n",
    "texts = train.comment_text\n",
    "# Get the labels from the train dataset\n",
    "labels = train.iloc[:,2:]"
   ]
  },
  {
   "cell_type": "code",
   "execution_count": 57,
   "metadata": {},
   "outputs": [
    {
     "data": {
      "text/plain": [
       "((900,), (900, 3))"
      ]
     },
     "execution_count": 57,
     "metadata": {},
     "output_type": "execute_result"
    }
   ],
   "source": [
    "texts.shape, labels.shape"
   ]
  },
  {
   "cell_type": "markdown",
   "metadata": {},
   "source": [
    "## Process text\n",
    "- Use the keras tokenizer to tokenize the text and remove non-alphanumeric symbols and take lowercase of the tokens."
   ]
  },
  {
   "cell_type": "code",
   "execution_count": 58,
   "metadata": {},
   "outputs": [],
   "source": [
    "max_words = 10000 # considers only the top 10000 words in the train dataset\n",
    "maxlen = 100 # cut comments after 100 words"
   ]
  },
  {
   "cell_type": "code",
   "execution_count": 59,
   "metadata": {},
   "outputs": [],
   "source": [
    "# init the keras tokenizer, configured to only take into account the 10000 most common words\n",
    "tokenizer = Tokenizer(num_words=max_words,\n",
    "                      filters='!\"#$%&()*+,-./:;<=>?@[\\\\]^_`{|}~\\t\\n',\n",
    "                      lower=True)"
   ]
  },
  {
   "cell_type": "code",
   "execution_count": 60,
   "metadata": {},
   "outputs": [],
   "source": [
    "tokenizer.fit_on_texts(texts) # builds the word index"
   ]
  },
  {
   "cell_type": "code",
   "execution_count": 61,
   "metadata": {},
   "outputs": [],
   "source": [
    "sequences = tokenizer.texts_to_sequences(texts) # turn strings into lists of integer indices (one list per doc)"
   ]
  },
  {
   "cell_type": "code",
   "execution_count": 62,
   "metadata": {},
   "outputs": [],
   "source": [
    "word_index = tokenizer.word_index # get the word index that the tokenizer computed"
   ]
  },
  {
   "cell_type": "code",
   "execution_count": 63,
   "metadata": {
    "scrolled": false
   },
   "outputs": [],
   "source": [
    "word_index;"
   ]
  },
  {
   "cell_type": "code",
   "execution_count": 64,
   "metadata": {},
   "outputs": [
    {
     "name": "stdout",
     "output_type": "stream",
     "text": [
      "Found 8448 unique tokens.\n"
     ]
    }
   ],
   "source": [
    "print(f\"Found {len(word_index)} unique tokens.\")"
   ]
  },
  {
   "cell_type": "code",
   "execution_count": 65,
   "metadata": {},
   "outputs": [],
   "source": [
    "# Turn sequences-- lists of integers (word indices) into a 2D integer tensor of shape \n",
    "# (number of train observations, maxlen of each doc)\n",
    "data = pad_sequences(sequences, maxlen= maxlen)"
   ]
  },
  {
   "cell_type": "code",
   "execution_count": 66,
   "metadata": {},
   "outputs": [
    {
     "data": {
      "text/plain": [
       "array([[   0,    0,    0, ..., 2374, 3645, 2375],\n",
       "       [   0,    0,    0, ...,  733,    7,   33],\n",
       "       [   0,    0,    0, ..., 1028, 1454, 1027],\n",
       "       ...,\n",
       "       [   0,    0,    0, ...,   77,  320, 8439],\n",
       "       [   0,    0,    0, ...,   55,  177,   19],\n",
       "       [8444, 8445,    5, ...,   23, 2064, 2373]])"
      ]
     },
     "execution_count": 66,
     "metadata": {},
     "output_type": "execute_result"
    }
   ],
   "source": [
    "data"
   ]
  },
  {
   "cell_type": "code",
   "execution_count": 67,
   "metadata": {},
   "outputs": [],
   "source": [
    "# Convert labels to an array\n",
    "labels = np.asarray(labels)"
   ]
  },
  {
   "cell_type": "code",
   "execution_count": 68,
   "metadata": {},
   "outputs": [
    {
     "data": {
      "text/plain": [
       "array([[0, 1, 0],\n",
       "       [1, 0, 0],\n",
       "       [0, 0, 1],\n",
       "       ...,\n",
       "       [0, 1, 0],\n",
       "       [1, 0, 0],\n",
       "       [1, 0, 0]], dtype=int64)"
      ]
     },
     "execution_count": 68,
     "metadata": {},
     "output_type": "execute_result"
    }
   ],
   "source": [
    "labels"
   ]
  },
  {
   "cell_type": "code",
   "execution_count": 69,
   "metadata": {},
   "outputs": [
    {
     "name": "stdout",
     "output_type": "stream",
     "text": [
      "The shape of the data tensor is: (900, 100)\n",
      "\n",
      "The shape of the label tensor is: (900, 3)\n"
     ]
    }
   ],
   "source": [
    "print(f\"The shape of the data tensor is: {data.shape}\")\n",
    "print(\"\")\n",
    "print(f\"The shape of the label tensor is: {labels.shape}\")"
   ]
  },
  {
   "cell_type": "code",
   "execution_count": 70,
   "metadata": {},
   "outputs": [
    {
     "data": {
      "text/plain": [
       "array([[   0,    0,    0, ..., 2374, 3645, 2375],\n",
       "       [   0,    0,    0, ...,  733,    7,   33],\n",
       "       [   0,    0,    0, ..., 1028, 1454, 1027],\n",
       "       ...,\n",
       "       [   0,    0,    0, ...,   77,  320, 8439],\n",
       "       [   0,    0,    0, ...,   55,  177,   19],\n",
       "       [8444, 8445,    5, ...,   23, 2064, 2373]])"
      ]
     },
     "execution_count": 70,
     "metadata": {},
     "output_type": "execute_result"
    }
   ],
   "source": [
    "data"
   ]
  },
  {
   "cell_type": "code",
   "execution_count": 71,
   "metadata": {},
   "outputs": [],
   "source": [
    "# Split the data into test and train set\n",
    "X_train, X_val, y_train, y_val = train_test_split(data, labels, test_size=0.3, random_state=10)"
   ]
  },
  {
   "cell_type": "code",
   "execution_count": 72,
   "metadata": {},
   "outputs": [
    {
     "data": {
      "text/plain": [
       "((630, 100), (270, 100), (270, 100), (270, 3))"
      ]
     },
     "execution_count": 72,
     "metadata": {},
     "output_type": "execute_result"
    }
   ],
   "source": [
    "X_train.shape, X_val.shape, X_val.shape, y_val.shape"
   ]
  },
  {
   "cell_type": "markdown",
   "metadata": {},
   "source": [
    "## Load the word2vec pre-trained word embeddings"
   ]
  },
  {
   "cell_type": "code",
   "execution_count": 73,
   "metadata": {},
   "outputs": [
    {
     "name": "stdout",
     "output_type": "stream",
     "text": [
      "Wall time: 3min 14s\n"
     ]
    }
   ],
   "source": [
    "%%time \n",
    "# Load KeyedVectors for the Google News word embeddings\n",
    "# Contains 3 million 300-D word embeddings trained from 100 billion words\n",
    "\n",
    "# Load pretrained model (since intermediate data is not included, the model cannot be refined with additional data)\n",
    "# The vectors is loaded from an existing file on disk in the original Google’s word2vec C format as \n",
    "#a KeyedVectors instance\n",
    "word_vectors = KeyedVectors.load_word2vec_format('embeddings/GoogleNews-vectors-negative300.bin.gz', \n",
    "                                                            binary=True) # C bin format"
   ]
  },
  {
   "cell_type": "markdown",
   "metadata": {},
   "source": [
    "**Build an Embedding Matrix that I can load to the Embedding layer** \n",
    "- Embedding layer: a dictionary that mpas integer word indices to dense vector representations, it takes a word index, looks up the index in an internal dictionary, and outputs its associated word vectors.\n",
    "- Embedding matrix is a matrix of shape (max_words= 10000, embedding dim = 300).  Each entry i contains a 100-D word vector of the word of index i in the reference word index (built during tokenization).  Note that Index 0 is a placeholder."
   ]
  },
  {
   "cell_type": "code",
   "execution_count": 74,
   "metadata": {},
   "outputs": [
    {
     "data": {
      "text/plain": [
       "(8449, 300)"
      ]
     },
     "execution_count": 74,
     "metadata": {},
     "output_type": "execute_result"
    }
   ],
   "source": [
    "embedding_dim = 300  # dimension of the word embeddings (word vectors)\n",
    "# I will use vocabulary_size to determine the size of the embedding matrix (number of rows)\n",
    "# +1 since index 0 of the embedding matrix is only a placeholder\n",
    "vocabulary_size=min(len(word_index)+1,(max_words)) \n",
    "\n",
    "# Initialize the embedding matrix\n",
    "embedding_matrix = np.zeros((vocabulary_size, embedding_dim))\n",
    "embedding_matrix.shape"
   ]
  },
  {
   "cell_type": "code",
   "execution_count": 75,
   "metadata": {},
   "outputs": [],
   "source": [
    "word_index.items(); # a list of tuples of (key, value)"
   ]
  },
  {
   "cell_type": "code",
   "execution_count": 76,
   "metadata": {},
   "outputs": [
    {
     "name": "stdout",
     "output_type": "stream",
     "text": [
      "Wall time: 505 ms\n"
     ]
    }
   ],
   "source": [
    "%%time \n",
    "for word, i in word_index.items():\n",
    "    if i >= max_words: # only get at most 8747 word vectors\n",
    "        continue\n",
    "    try:\n",
    "        embedding_vector = word_vectors[word] # get the word embedding from word2vec\n",
    "        embedding_matrix[i] = embedding_vector # fill the ith row of the embedding matrix with the word vector\n",
    "    except KeyError:  # word not found in word2vec will be zeros\n",
    "        embedding_matrix[i] = np.zeros(embedding_dim)"
   ]
  },
  {
   "cell_type": "markdown",
   "metadata": {},
   "source": [
    "## Modelling\n",
    "- Armed with the embedding matrix, I will load it into my embedding layer as its weights (the first layer in my network).\n",
    "- Since the embedding layer uses the weights from the embedding matrix (comes from the pre-trained word2vec), I don't need to update them with backpropogation during training.  I want to \"keep\" my already-learnt features. Thus, I will \"freeze\" the embedding layer.\n",
    "- I will train two fully-connected layers on top of the emebdding layer for multi-class classification (use this as baseline).  The activation function for the last layer should be softmax, and I should use categorical_crossentropy as loss function.\n",
    "- I will also train a CNN for multi-class classification."
   ]
  },
  {
   "cell_type": "code",
   "execution_count": 77,
   "metadata": {},
   "outputs": [
    {
     "name": "stdout",
     "output_type": "stream",
     "text": [
      "Model: \"sequential_1\"\n",
      "_________________________________________________________________\n",
      "Layer (type)                 Output Shape              Param #   \n",
      "=================================================================\n",
      "embedding_1 (Embedding)      (None, 100, 300)          2534700   \n",
      "_________________________________________________________________\n",
      "flatten_1 (Flatten)          (None, 30000)             0         \n",
      "_________________________________________________________________\n",
      "dense_1 (Dense)              (None, 32)                960032    \n",
      "_________________________________________________________________\n",
      "dense_2 (Dense)              (None, 3)                 99        \n",
      "=================================================================\n",
      "Total params: 3,494,831\n",
      "Trainable params: 3,494,831\n",
      "Non-trainable params: 0\n",
      "_________________________________________________________________\n"
     ]
    }
   ],
   "source": [
    "# init the network\n",
    "model = Sequential()\n",
    "# embedding layer, I specify the number of possible tokens, the dim of word vectors, \n",
    "# and the length of each doc (sequence)\n",
    "# the output of embedding layer have shape (samples, maxlen, embedding dim) = (900, 100, 300)\n",
    "model.add(Embedding(vocabulary_size, embedding_dim, input_length = maxlen))  \n",
    "# I flatten the 3-D tensor into a 2D tensor of shape (samples, maxlen*300) = (900, 30000)\n",
    "# Each comment/doc is represented by a single 1-D tensor-- each word in the input sequence is treated separately \n",
    "# with no inter-wird relationships and sentence structure\n",
    "model.add(Flatten()) \n",
    "model.add(Dense(32, activation='relu')) # add a hidden layer with 32 neurons\n",
    "# use softmax as activation function for the last layer for multi-class classification (3 classes)\n",
    "model.add(Dense(3, activation= 'softmax')) \n",
    "model.summary()"
   ]
  },
  {
   "cell_type": "code",
   "execution_count": 78,
   "metadata": {},
   "outputs": [],
   "source": [
    "# Load the word2vec pre-trained word vectors to the embedding layer.\n",
    "model.layers[0].set_weights([embedding_matrix])  # embedding layer is the first layer in the network\n",
    "model.layers[0].trainable= False # freeze the embedding layer"
   ]
  },
  {
   "cell_type": "code",
   "execution_count": 79,
   "metadata": {},
   "outputs": [
    {
     "name": "stdout",
     "output_type": "stream",
     "text": [
      "Train on 630 samples, validate on 270 samples\n",
      "Epoch 1/10\n",
      "630/630 [==============================] - 4s 7ms/step - loss: 1.1188 - accuracy: 0.3683 - val_loss: 1.0902 - val_accuracy: 0.3852\n",
      "Epoch 2/10\n",
      "630/630 [==============================] - 1s 858us/step - loss: 0.6510 - accuracy: 0.7968 - val_loss: 1.1401 - val_accuracy: 0.3407\n",
      "Epoch 3/10\n",
      "630/630 [==============================] - 1s 910us/step - loss: 0.3327 - accuracy: 0.9429 - val_loss: 1.2983 - val_accuracy: 0.3704\n",
      "Epoch 4/10\n",
      "630/630 [==============================] - 1s 841us/step - loss: 0.1547 - accuracy: 0.9905 - val_loss: 1.2349 - val_accuracy: 0.4074\n",
      "Epoch 5/10\n",
      "630/630 [==============================] - 1s 822us/step - loss: 0.0819 - accuracy: 0.9968 - val_loss: 1.2946 - val_accuracy: 0.3926\n",
      "Epoch 6/10\n",
      "630/630 [==============================] - 1s 833us/step - loss: 0.0408 - accuracy: 1.0000 - val_loss: 1.5256 - val_accuracy: 0.3852\n",
      "Epoch 7/10\n",
      "630/630 [==============================] - 1s 839us/step - loss: 0.0215 - accuracy: 1.0000 - val_loss: 1.4681 - val_accuracy: 0.4000\n",
      "Epoch 8/10\n",
      "630/630 [==============================] - 1s 858us/step - loss: 0.0106 - accuracy: 1.0000 - val_loss: 1.6359 - val_accuracy: 0.3963\n",
      "Epoch 9/10\n",
      "630/630 [==============================] - 1s 858us/step - loss: 0.0053 - accuracy: 1.0000 - val_loss: 1.8779 - val_accuracy: 0.4037\n",
      "Epoch 10/10\n",
      "630/630 [==============================] - 1s 847us/step - loss: 0.0025 - accuracy: 1.0000 - val_loss: 1.8761 - val_accuracy: 0.4000\n",
      "Wall time: 11.2 s\n"
     ]
    }
   ],
   "source": [
    "%%time\n",
    "# compile and train the network\n",
    "model.compile(optimizer = 'rmsprop',\n",
    "              loss = 'categorical_crossentropy',\n",
    "              metrics = ['accuracy'])\n",
    "\n",
    "# Use early stopping\n",
    "# callbacks = [EarlyStopping(monitor='val_loss')]\n",
    "\n",
    "history = model.fit(X_train, y_train,\n",
    "                   epochs = 10,\n",
    "                   batch_size = 32,\n",
    "                   validation_data = (X_val, y_val))\n",
    "                   #callbacks=callbacks)"
   ]
  },
  {
   "cell_type": "code",
   "execution_count": 80,
   "metadata": {},
   "outputs": [
    {
     "name": "stdout",
     "output_type": "stream",
     "text": [
      "270/270 [==============================] - 0s 155us/step\n"
     ]
    },
    {
     "data": {
      "text/plain": [
       "[1.8760740368454545, 0.4000000059604645]"
      ]
     },
     "execution_count": 80,
     "metadata": {},
     "output_type": "execute_result"
    }
   ],
   "source": [
    "model.evaluate(X_val,y_val) "
   ]
  },
  {
   "cell_type": "markdown",
   "metadata": {},
   "source": [
    "## Thoughts\n",
    "- Pretty poor performance, but this is to be expected due to the small number of training eamples-- the network will quickly starts overfitting (as seen in plots below).\n",
    "- In addition, my network only consists of several dense layers on top of the embedding layer. The model will not consider inter-word relations and sentence structure."
   ]
  },
  {
   "cell_type": "code",
   "execution_count": null,
   "metadata": {},
   "outputs": [],
   "source": []
  },
  {
   "cell_type": "code",
   "execution_count": 81,
   "metadata": {},
   "outputs": [
    {
     "data": {
      "image/png": "[encoded data removed]",
      "text/plain": [
       "<Figure size 720x432 with 2 Axes>"
      ]
     },
     "metadata": {
      "needs_background": "light"
     },
     "output_type": "display_data"
    }
   ],
   "source": [
    "# Plot model performance over epochs\n",
    "train_acc = history.history[\"accuracy\"] # train accuracy of each of the 10 train epoch\n",
    "validation_acc = history.history[\"val_accuracy\"]\n",
    "train_loss = history.history[\"loss\"]\n",
    "validation_loss = history.history[\"val_loss\"]\n",
    "epochs = range(1,len(train_acc)+1,1)\n",
    "\n",
    "fig, axes = plt.subplots(1,2, figsize=(10,6))\n",
    "axes[0].plot(epochs, train_acc, 'bo', label = \"Training acc\")\n",
    "axes[0].plot(epochs,validation_acc, 'b', label = \"Validation acc\")\n",
    "axes[0].set_title(\"Training and validation accuracy\")\n",
    "axes[0].set_ylabel(\"accuracy\")\n",
    "axes[0].set_xlabel(\"epoch\")\n",
    "\n",
    "\n",
    "axes[1].plot(epochs, train_loss, 'bo', label = \"Training loss\")\n",
    "axes[1].plot(epochs,validation_loss, 'b', label = \"Validation loss\")\n",
    "axes[1].set_title(\"Training and validation loss\")\n",
    "axes[1].set_ylabel(\"loss\")\n",
    "axes[1].set_xlabel(\"epoch\")\n",
    "\n",
    "plt.show()"
   ]
  },
  {
   "cell_type": "markdown",
   "metadata": {},
   "source": [
    "**The validation accuracy basically stalls at 0.4-- it's hard to get good performance with a very small sample!**"
   ]
  },
  {
   "cell_type": "markdown",
   "metadata": {},
   "source": [
    "**Check performance of model on holdout (test) dataset**"
   ]
  },
  {
   "cell_type": "code",
   "execution_count": 82,
   "metadata": {},
   "outputs": [],
   "source": [
    "# Get the texts from the test dataset\n",
    "test_texts = test.comment_text\n",
    "# Get the labels from the test dataset\n",
    "test_labels = test.iloc[:,2:]"
   ]
  },
  {
   "cell_type": "code",
   "execution_count": 83,
   "metadata": {},
   "outputs": [],
   "source": [
    "test_sequences = tokenizer.texts_to_sequences(test_texts) # turn strings into lists of integer indices (one list per doc)"
   ]
  },
  {
   "cell_type": "code",
   "execution_count": 84,
   "metadata": {},
   "outputs": [],
   "source": [
    "# Turn sequences-- lists of integers (word indices) into a 2D integer tensor of shape \n",
    "# (number of test observations, maxlen of each doc)\n",
    "X_test = pad_sequences(test_sequences, maxlen= maxlen)\n",
    "y_test = np.asarray(test_labels)"
   ]
  },
  {
   "cell_type": "code",
   "execution_count": 85,
   "metadata": {},
   "outputs": [
    {
     "data": {
      "text/plain": [
       "((120, 100), (120, 3))"
      ]
     },
     "execution_count": 85,
     "metadata": {},
     "output_type": "execute_result"
    }
   ],
   "source": [
    "X_test.shape, y_test.shape"
   ]
  },
  {
   "cell_type": "code",
   "execution_count": 86,
   "metadata": {},
   "outputs": [
    {
     "name": "stdout",
     "output_type": "stream",
     "text": [
      "120/120 [==============================] - 0s 192us/step\n"
     ]
    },
    {
     "data": {
      "text/plain": [
       "[2.0687135537465413, 0.375]"
      ]
     },
     "execution_count": 86,
     "metadata": {},
     "output_type": "execute_result"
    }
   ],
   "source": [
    "model.evaluate(X_test,y_test) # 0.4666 accuracy"
   ]
  },
  {
   "cell_type": "code",
   "execution_count": null,
   "metadata": {},
   "outputs": [],
   "source": []
  },
  {
   "cell_type": "markdown",
   "metadata": {},
   "source": [
    "## Text classifications with convnets\n",
    "- https://missinglink.ai/guides/keras/keras-conv1d-working-1d-convolutional-neural-networks-keras/\n",
    "- Convnet convolute across the embedding matrix and extracting features from \"local\" patches of data\n",
    "- As per Kim Yoon's \"Convolutional Neural Networks for Sentence Classification\", we will only use conv layer to extract features using filter_size 1,2 and 3.\n",
    "- The size of the filter is (filter_size, embeding_dim). If filter_size = 1, I will only extract unigram features; and if filter_size=2, I will extract bigrams features.\n",
    "- I will use 1-max pooling to get the max value of the feature map of each filter.\n",
    "- Thus, if I have 6 filters, I will get a 6x1 vector after the 1-max pooling.\n",
    "- Finally, I will have a fully connected layer and softmax layer."
   ]
  },
  {
   "cell_type": "markdown",
   "metadata": {},
   "source": [
    "**Settings**"
   ]
  },
  {
   "cell_type": "code",
   "execution_count": 87,
   "metadata": {},
   "outputs": [],
   "source": [
    "sequence_length = X_train.shape[1] # number of words in each doc\n",
    "filter_sizes = [1,2,3] # filter size for conv layer 1, and for conv layer 2  (consider unigrams and bigrams)\n",
    "num_filters = 50 # number of filters for each conv layer\n",
    "drop = 0.4  # probability of dropping neurons"
   ]
  },
  {
   "cell_type": "code",
   "execution_count": 88,
   "metadata": {},
   "outputs": [],
   "source": [
    "embedding_layer = Embedding(vocabulary_size,\n",
    "                            embedding_dim,\n",
    "                            weights=[embedding_matrix],\n",
    "                            trainable=False)"
   ]
  },
  {
   "cell_type": "markdown",
   "metadata": {},
   "source": [
    "**Build model**"
   ]
  },
  {
   "cell_type": "code",
   "execution_count": 93,
   "metadata": {},
   "outputs": [],
   "source": [
    "# The input to the embeddings layer for each doc is bascially an array of word index of length \"sequence_length\",\n",
    "# the length of each doc\n",
    "inputs = Input(shape=(sequence_length,))\n",
    "# Emedding layer:\n",
    "    # Input: word index of shape (100,)\n",
    "    # output: a 3D tensor of shape (samples, sequence_length, embedding_dim) = (samples, 100, 300)\n",
    "embedding = embedding_layer(inputs)\n",
    "# reshape the output of the embedding layer to shape (100, 300, 1 )\n",
    "reshape = Reshape((sequence_length,embedding_dim,1))(embedding)  \n",
    "\n",
    "# conv layer 1 (use filter window size 1: extract unigrams)\n",
    "# input is the \"reshaped\" embedding matrix\n",
    "conv_0 = Conv2D(num_filters, # number of filters (100) \n",
    "                (filter_sizes[0], embedding_dim), # shape of the filter (1,100)\n",
    "                activation='relu', # activation function\n",
    "                # Regularizers allow you to apply penalties on layer parameters or layer activity during optimization. \n",
    "                # These penalties are summed into the loss function that the network optimizes.\n",
    "                kernel_regularizer=regularizers.l2(0.01))(reshape)\n",
    "\n",
    "\n",
    "# conv layer 2 (use filter window size 2: extract bigrams)\n",
    "# input is the \"reshaped\" embedding matrix\n",
    "conv_1 = Conv2D(num_filters, \n",
    "                (filter_sizes[1], embedding_dim),\n",
    "                activation='relu',\n",
    "                kernel_regularizer=regularizers.l2(0.01))(reshape)\n",
    "\n",
    "# conv layer 2 (use filter window size 3: extract trigrams)\n",
    "# input is the \"reshaped\" embedding matrix\n",
    "conv_2 = Conv2D(num_filters, \n",
    "                (filter_sizes[2], embedding_dim),\n",
    "                activation='relu',\n",
    "                kernel_regularizer=regularizers.l2(0.01))(reshape)\n",
    "\n",
    "\n",
    "# Apply max pooling to the activation maps (100 of them) for EACH conv layer\n",
    "# sequence_length - filter_sizes[0] + 1 is the length of Each feature map\n",
    "maxpool_0 = MaxPooling2D((sequence_length - filter_sizes[0] + 1, 1), strides=(1,1))(conv_0) # size of 1x100\n",
    "maxpool_1 = MaxPooling2D((sequence_length - filter_sizes[1] + 1, 1), strides=(1,1))(conv_1)\n",
    "maxpool_2 = MaxPooling2D((sequence_length - filter_sizes[2] + 1, 1), strides=(1,1))(conv_2)\n",
    "\n",
    "# I get a feature from each of the 1-max pooling layer, so I have 3 features in total\n",
    "# I concat the features to get a 3 feature vector of size 3x100\n",
    "merged_tensor = concatenate([maxpool_0, maxpool_1, maxpool_2], axis=1) \n",
    "flatten = Flatten()(merged_tensor) \n",
    "# reshape_1 = Reshape((3*num_filters,))(flatten)\n",
    "dropout = Dropout(drop)(flatten)\n",
    "conc = Dense(20)(dropout)\n",
    "output = Dense(units=3, activation='softmax',kernel_regularizer=regularizers.l2(0.01))(conc)"
   ]
  },
  {
   "cell_type": "code",
   "execution_count": 94,
   "metadata": {},
   "outputs": [
    {
     "name": "stdout",
     "output_type": "stream",
     "text": [
      "Model: \"model_1\"\n",
      "__________________________________________________________________________________________________\n",
      "Layer (type)                    Output Shape         Param #     Connected to                     \n",
      "==================================================================================================\n",
      "input_3 (InputLayer)            (None, 100)          0                                            \n",
      "__________________________________________________________________________________________________\n",
      "embedding_2 (Embedding)         (None, 100, 300)     2534700     input_3[0][0]                    \n",
      "__________________________________________________________________________________________________\n",
      "reshape_3 (Reshape)             (None, 100, 300, 1)  0           embedding_2[2][0]                \n",
      "__________________________________________________________________________________________________\n",
      "conv2d_4 (Conv2D)               (None, 100, 1, 50)   15050       reshape_3[0][0]                  \n",
      "__________________________________________________________________________________________________\n",
      "conv2d_5 (Conv2D)               (None, 99, 1, 50)    30050       reshape_3[0][0]                  \n",
      "__________________________________________________________________________________________________\n",
      "conv2d_6 (Conv2D)               (None, 98, 1, 50)    45050       reshape_3[0][0]                  \n",
      "__________________________________________________________________________________________________\n",
      "max_pooling2d_1 (MaxPooling2D)  (None, 1, 1, 50)     0           conv2d_4[0][0]                   \n",
      "__________________________________________________________________________________________________\n",
      "max_pooling2d_2 (MaxPooling2D)  (None, 1, 1, 50)     0           conv2d_5[0][0]                   \n",
      "__________________________________________________________________________________________________\n",
      "max_pooling2d_3 (MaxPooling2D)  (None, 1, 1, 50)     0           conv2d_6[0][0]                   \n",
      "__________________________________________________________________________________________________\n",
      "concatenate_1 (Concatenate)     (None, 3, 1, 50)     0           max_pooling2d_1[0][0]            \n",
      "                                                                 max_pooling2d_2[0][0]            \n",
      "                                                                 max_pooling2d_3[0][0]            \n",
      "__________________________________________________________________________________________________\n",
      "flatten_2 (Flatten)             (None, 150)          0           concatenate_1[0][0]              \n",
      "__________________________________________________________________________________________________\n",
      "dropout_1 (Dropout)             (None, 150)          0           flatten_2[0][0]                  \n",
      "__________________________________________________________________________________________________\n",
      "dense_3 (Dense)                 (None, 20)           3020        dropout_1[0][0]                  \n",
      "__________________________________________________________________________________________________\n",
      "dense_4 (Dense)                 (None, 3)            63          dense_3[0][0]                    \n",
      "==================================================================================================\n",
      "Total params: 2,627,933\n",
      "Trainable params: 93,233\n",
      "Non-trainable params: 2,534,700\n",
      "__________________________________________________________________________________________________\n"
     ]
    }
   ],
   "source": [
    "# this creates a model class with takes a Keras.Input object and the outputs of the model as argument\n",
    "model = Model(inputs, output)\n",
    "model.summary()"
   ]
  },
  {
   "cell_type": "markdown",
   "metadata": {},
   "source": [
    "**Train model**"
   ]
  },
  {
   "cell_type": "code",
   "execution_count": 95,
   "metadata": {},
   "outputs": [
    {
     "name": "stdout",
     "output_type": "stream",
     "text": [
      "Train on 630 samples, validate on 270 samples\n",
      "Epoch 1/10\n",
      "630/630 [==============================] - 5s 8ms/step - loss: 1.2068 - accuracy: 0.4000 - val_loss: 1.1328 - val_accuracy: 0.5519\n",
      "Epoch 2/10\n",
      "630/630 [==============================] - 1s 2ms/step - loss: 1.0578 - accuracy: 0.5730 - val_loss: 1.0830 - val_accuracy: 0.5519\n",
      "Epoch 3/10\n",
      "630/630 [==============================] - 1s 2ms/step - loss: 0.9579 - accuracy: 0.6794 - val_loss: 1.0646 - val_accuracy: 0.5370\n",
      "Epoch 4/10\n",
      "630/630 [==============================] - 1s 2ms/step - loss: 0.8811 - accuracy: 0.7333 - val_loss: 1.0858 - val_accuracy: 0.5333\n",
      "Epoch 5/10\n",
      "630/630 [==============================] - 2s 3ms/step - loss: 0.8312 - accuracy: 0.7921 - val_loss: 1.0550 - val_accuracy: 0.6037\n",
      "Epoch 6/10\n",
      "630/630 [==============================] - 1s 2ms/step - loss: 0.7543 - accuracy: 0.8063 - val_loss: 1.1103 - val_accuracy: 0.5407\n",
      "Epoch 7/10\n",
      "630/630 [==============================] - 1s 2ms/step - loss: 0.7033 - accuracy: 0.8476 - val_loss: 1.0744 - val_accuracy: 0.5481\n",
      "Epoch 8/10\n",
      "630/630 [==============================] - 2s 2ms/step - loss: 0.6458 - accuracy: 0.9016 - val_loss: 1.1200 - val_accuracy: 0.5815\n",
      "Epoch 9/10\n",
      "630/630 [==============================] - 1s 2ms/step - loss: 0.6362 - accuracy: 0.8921 - val_loss: 1.2438 - val_accuracy: 0.5185\n",
      "Epoch 10/10\n",
      "630/630 [==============================] - 1s 2ms/step - loss: 0.5832 - accuracy: 0.9286 - val_loss: 1.1413 - val_accuracy: 0.5481\n",
      "Wall time: 20.3 s\n"
     ]
    }
   ],
   "source": [
    "%%time\n",
    "# compile and train the network\n",
    "model.compile(optimizer = 'rmsprop',\n",
    "              loss = 'categorical_crossentropy',\n",
    "              metrics = ['accuracy'])\n",
    "\n",
    "# Use early stopping\n",
    "# callbacks = [EarlyStopping(monitor='val_loss')]\n",
    "\n",
    "history = model.fit(X_train, y_train,\n",
    "                   epochs = 10,\n",
    "                   batch_size = 32,\n",
    "                   validation_data = (X_val, y_val))"
   ]
  },
  {
   "cell_type": "code",
   "execution_count": 96,
   "metadata": {},
   "outputs": [
    {
     "name": "stdout",
     "output_type": "stream",
     "text": [
      "120/120 [==============================] - 0s 1ms/step\n"
     ]
    },
    {
     "data": {
      "text/plain": [
       "[1.0896392663319905, 0.625]"
      ]
     },
     "execution_count": 96,
     "metadata": {},
     "output_type": "execute_result"
    }
   ],
   "source": [
    "model.evaluate(X_test,y_test) # 0.558 accuracy"
   ]
  },
  {
   "cell_type": "markdown",
   "metadata": {},
   "source": [
    "## Try 1-D convnet with a slightly different structure"
   ]
  },
  {
   "cell_type": "code",
   "execution_count": 97,
   "metadata": {},
   "outputs": [
    {
     "name": "stdout",
     "output_type": "stream",
     "text": [
      "Model: \"sequential_2\"\n",
      "_________________________________________________________________\n",
      "Layer (type)                 Output Shape              Param #   \n",
      "=================================================================\n",
      "embedding_3 (Embedding)      (None, 100, 300)          2534700   \n",
      "_________________________________________________________________\n",
      "conv1d_1 (Conv1D)            (None, 94, 32)            67232     \n",
      "_________________________________________________________________\n",
      "max_pooling1d_1 (MaxPooling1 (None, 18, 32)            0         \n",
      "_________________________________________________________________\n",
      "conv1d_2 (Conv1D)            (None, 12, 32)            7200      \n",
      "_________________________________________________________________\n",
      "global_max_pooling1d_1 (Glob (None, 32)                0         \n",
      "_________________________________________________________________\n",
      "dense_5 (Dense)              (None, 3)                 99        \n",
      "=================================================================\n",
      "Total params: 2,609,231\n",
      "Trainable params: 2,609,231\n",
      "Non-trainable params: 0\n",
      "_________________________________________________________________\n"
     ]
    }
   ],
   "source": [
    "# init the network\n",
    "model = Sequential()\n",
    "model.add(Embedding(vocabulary_size, embedding_dim, input_length = maxlen))  \n",
    "model.add(Conv1D(32,7,activation='relu', \n",
    "                 kernel_regularizer=regularizers.l2(0.01))) # 32 filters, each with filter size of 7\n",
    "model.add(MaxPooling1D(5)) # window size of 5, get max number in each window\n",
    "model.add(Conv1D(32,7,activation='relu',\n",
    "                kernel_regularizer=regularizers.l2(0.01))) # 32 filters, each with filter size of 7\n",
    "model.add(GlobalMaxPooling1D()) # get max number of each filter\n",
    "# use softmax as activation function for the last layer for multi-class classification (3 classes)\n",
    "model.add(Dense(3, activation= 'softmax')) \n",
    "model.summary()"
   ]
  },
  {
   "cell_type": "code",
   "execution_count": 98,
   "metadata": {},
   "outputs": [],
   "source": [
    "# Load the word2vec pre-trained word vectors to the embedding layer.\n",
    "model.layers[0].set_weights([embedding_matrix])  # embedding layer is the first layer in the network\n",
    "model.layers[0].trainable= False # freeze the embedding layer"
   ]
  },
  {
   "cell_type": "code",
   "execution_count": 99,
   "metadata": {},
   "outputs": [
    {
     "name": "stdout",
     "output_type": "stream",
     "text": [
      "Train on 630 samples, validate on 270 samples\n",
      "Epoch 1/10\n",
      "630/630 [==============================] - 3s 5ms/step - loss: 1.8601 - accuracy: 0.3968 - val_loss: 1.7333 - val_accuracy: 0.4185\n",
      "Epoch 2/10\n",
      "630/630 [==============================] - 1s 2ms/step - loss: 1.5940 - accuracy: 0.5190 - val_loss: 1.5871 - val_accuracy: 0.4185\n",
      "Epoch 3/10\n",
      "630/630 [==============================] - 1s 2ms/step - loss: 1.4247 - accuracy: 0.6159 - val_loss: 1.5062 - val_accuracy: 0.4000\n",
      "Epoch 4/10\n",
      "630/630 [==============================] - 1s 1ms/step - loss: 1.3259 - accuracy: 0.6159 - val_loss: 1.4493 - val_accuracy: 0.4074\n",
      "Epoch 5/10\n",
      "630/630 [==============================] - 1s 2ms/step - loss: 1.2198 - accuracy: 0.6619 - val_loss: 1.4061 - val_accuracy: 0.4000\n",
      "Epoch 6/10\n",
      "630/630 [==============================] - 1s 2ms/step - loss: 1.1610 - accuracy: 0.6492 - val_loss: 1.5058 - val_accuracy: 0.3407\n",
      "Epoch 7/10\n",
      "630/630 [==============================] - 1s 2ms/step - loss: 1.0927 - accuracy: 0.7206 - val_loss: 1.4284 - val_accuracy: 0.4370\n",
      "Epoch 8/10\n",
      "630/630 [==============================] - 1s 2ms/step - loss: 1.0399 - accuracy: 0.7476 - val_loss: 1.3472 - val_accuracy: 0.4519\n",
      "Epoch 9/10\n",
      "630/630 [==============================] - 1s 2ms/step - loss: 0.9784 - accuracy: 0.8000 - val_loss: 1.3313 - val_accuracy: 0.4593\n",
      "Epoch 10/10\n",
      "630/630 [==============================] - 1s 2ms/step - loss: 0.9643 - accuracy: 0.7762 - val_loss: 1.5000 - val_accuracy: 0.3630\n",
      "Wall time: 13.4 s\n"
     ]
    }
   ],
   "source": [
    "%%time\n",
    "# compile and train the network\n",
    "model.compile(optimizer = 'rmsprop',\n",
    "              loss = 'categorical_crossentropy',\n",
    "              metrics = ['accuracy'])\n",
    "\n",
    "history = model.fit(X_train, y_train,\n",
    "                   epochs = 10,\n",
    "                   batch_size = 32,\n",
    "                   validation_data = (X_val, y_val))"
   ]
  },
  {
   "cell_type": "code",
   "execution_count": 100,
   "metadata": {},
   "outputs": [
    {
     "name": "stdout",
     "output_type": "stream",
     "text": [
      "120/120 [==============================] - 0s 383us/step\n"
     ]
    },
    {
     "data": {
      "text/plain": [
       "[1.4490847667058309, 0.38333332538604736]"
      ]
     },
     "execution_count": 100,
     "metadata": {},
     "output_type": "execute_result"
    }
   ],
   "source": [
    "model.evaluate(X_test,y_test) # 0.47 accuracy  "
   ]
  },
  {
   "cell_type": "markdown",
   "metadata": {},
   "source": [
    "**In sum, it is tough to improve the performance of text classification models with small datasets, even with CNN and regularization to alleivate overfitting.**"
   ]
  },
  {
   "cell_type": "code",
   "execution_count": null,
   "metadata": {},
   "outputs": [],
   "source": []
  },
  {
   "cell_type": "markdown",
   "metadata": {},
   "source": [
    "## Let's try to increase the sample size to 50000\n",
    "- We will also increase the complexity of the problem-- classify comments into 6 non-exclusive classes"
   ]
  },
  {
   "cell_type": "code",
   "execution_count": 102,
   "metadata": {},
   "outputs": [
    {
     "data": {
      "text/plain": [
       "((159571, 8), (63978, 8))"
      ]
     },
     "execution_count": 102,
     "metadata": {},
     "output_type": "execute_result"
    }
   ],
   "source": [
    "train_raw.shape, test_raw.shape"
   ]
  },
  {
   "cell_type": "code",
   "execution_count": 104,
   "metadata": {},
   "outputs": [],
   "source": [
    "train = train_raw.sample(50000) # take 50000 samples"
   ]
  },
  {
   "cell_type": "code",
   "execution_count": 105,
   "metadata": {},
   "outputs": [],
   "source": [
    "test = test_raw"
   ]
  },
  {
   "cell_type": "code",
   "execution_count": 106,
   "metadata": {},
   "outputs": [],
   "source": [
    "# Get the texts from the train dataset\n",
    "texts = train.comment_text\n",
    "# Get the labels from the train dataset\n",
    "labels = train.iloc[:,2:]"
   ]
  },
  {
   "cell_type": "code",
   "execution_count": 108,
   "metadata": {},
   "outputs": [
    {
     "data": {
      "text/plain": [
       "((50000,), (50000, 6))"
      ]
     },
     "execution_count": 108,
     "metadata": {},
     "output_type": "execute_result"
    }
   ],
   "source": [
    "texts.shape, labels.shape"
   ]
  },
  {
   "cell_type": "code",
   "execution_count": 110,
   "metadata": {},
   "outputs": [],
   "source": [
    "max_words = 10000 # considers only the top 10000 words in the train dataset\n",
    "maxlen = 100 # cut comments after 100 words\n",
    "\n",
    "# init the keras tokenizer, configured to only take into account the 10000 most common words\n",
    "tokenizer = Tokenizer(num_words=max_words,\n",
    "                      filters='!\"#$%&()*+,-./:;<=>?@[\\\\]^_`{|}~\\t\\n',\n",
    "                      lower=True)"
   ]
  },
  {
   "cell_type": "code",
   "execution_count": 111,
   "metadata": {},
   "outputs": [
    {
     "name": "stdout",
     "output_type": "stream",
     "text": [
      "Found 102251 unique tokens.\n"
     ]
    }
   ],
   "source": [
    "tokenizer.fit_on_texts(texts) # builds the word index\n",
    "sequences = tokenizer.texts_to_sequences(texts) # turn strings into lists of integer indices (one list per doc)\n",
    "word_index = tokenizer.word_index # get the word index that the tokenizer computed\n",
    "print(f\"Found {len(word_index)} unique tokens.\")"
   ]
  },
  {
   "cell_type": "code",
   "execution_count": 112,
   "metadata": {},
   "outputs": [],
   "source": [
    "# Turn sequences-- lists of integers (word indices) into a 2D integer tensor of shape \n",
    "# (number of train observations, maxlen of each doc)\n",
    "data = pad_sequences(sequences, maxlen= maxlen)"
   ]
  },
  {
   "cell_type": "code",
   "execution_count": 113,
   "metadata": {},
   "outputs": [],
   "source": [
    "# Convert labels to an array\n",
    "labels = np.asarray(labels)"
   ]
  },
  {
   "cell_type": "code",
   "execution_count": 119,
   "metadata": {},
   "outputs": [
    {
     "name": "stdout",
     "output_type": "stream",
     "text": [
      "The shape of the data tensor is: (50000, 100)\n",
      "\n",
      "The shape of the label tensor is: (50000, 6)\n"
     ]
    }
   ],
   "source": [
    "print(f\"The shape of the data tensor is: {data.shape}\")\n",
    "print(\"\")\n",
    "print(f\"The shape of the label tensor is: {labels.shape}\")"
   ]
  },
  {
   "cell_type": "code",
   "execution_count": 128,
   "metadata": {
    "scrolled": true
   },
   "outputs": [],
   "source": [
    "# Split the data into test and train set\n",
    "X_train, X_val, y_train, y_val = train_test_split(data, \n",
    "                                                  labels, \n",
    "                                                  test_size=0.3, \n",
    "                                                  shuffle= True,\n",
    "                                                  random_state=10)"
   ]
  },
  {
   "cell_type": "markdown",
   "metadata": {},
   "source": [
    "**Build embedding matrix**"
   ]
  },
  {
   "cell_type": "code",
   "execution_count": 129,
   "metadata": {},
   "outputs": [
    {
     "data": {
      "text/plain": [
       "(10000, 300)"
      ]
     },
     "execution_count": 129,
     "metadata": {},
     "output_type": "execute_result"
    }
   ],
   "source": [
    "embedding_dim = 300  # dimension of the word embeddings (word vectors)\n",
    "# I will use vocabulary_size to determine the size of the embedding matrix (number of rows)\n",
    "# +1 since index 0 of the embedding matrix is only a placeholder\n",
    "vocabulary_size=min(len(word_index)+1,(max_words)) \n",
    "\n",
    "# Initialize the embedding matrix\n",
    "embedding_matrix = np.zeros((vocabulary_size, embedding_dim))\n",
    "embedding_matrix.shape"
   ]
  },
  {
   "cell_type": "code",
   "execution_count": 130,
   "metadata": {},
   "outputs": [
    {
     "name": "stdout",
     "output_type": "stream",
     "text": [
      "Wall time: 17.3 s\n"
     ]
    }
   ],
   "source": [
    "%%time \n",
    "for word, i in word_index.items():\n",
    "    if i >= max_words: # only get at most 8747 word vectors\n",
    "        continue\n",
    "    try:\n",
    "        embedding_vector = word_vectors[word] # get the word embedding from word2vec\n",
    "        embedding_matrix[i] = embedding_vector # fill the ith row of the embedding matrix with the word vector\n",
    "    except KeyError:  # word not found in word2vec will be zeros\n",
    "        embedding_matrix[i] = np.zeros(embedding_dim)"
   ]
  },
  {
   "cell_type": "markdown",
   "metadata": {},
   "source": [
    "**Try 1-D conv net**"
   ]
  },
  {
   "cell_type": "code",
   "execution_count": 138,
   "metadata": {},
   "outputs": [
    {
     "name": "stdout",
     "output_type": "stream",
     "text": [
      "Model: \"sequential_5\"\n",
      "_________________________________________________________________\n",
      "Layer (type)                 Output Shape              Param #   \n",
      "=================================================================\n",
      "embedding_6 (Embedding)      (None, 100, 300)          3000000   \n",
      "_________________________________________________________________\n",
      "conv1d_7 (Conv1D)            (None, 94, 32)            67232     \n",
      "_________________________________________________________________\n",
      "max_pooling1d_4 (MaxPooling1 (None, 18, 32)            0         \n",
      "_________________________________________________________________\n",
      "conv1d_8 (Conv1D)            (None, 12, 32)            7200      \n",
      "_________________________________________________________________\n",
      "global_max_pooling1d_4 (Glob (None, 32)                0         \n",
      "_________________________________________________________________\n",
      "dense_8 (Dense)              (None, 6)                 198       \n",
      "=================================================================\n",
      "Total params: 3,074,630\n",
      "Trainable params: 3,074,630\n",
      "Non-trainable params: 0\n",
      "_________________________________________________________________\n"
     ]
    }
   ],
   "source": [
    "# init the network\n",
    "model = Sequential()\n",
    "model.add(Embedding(vocabulary_size, embedding_dim, input_length = maxlen))  \n",
    "model.add(Conv1D(32,7,activation='relu', \n",
    "                 kernel_regularizer=regularizers.l2(0.01))) # 32 filters, each with filter size of 7\n",
    "model.add(MaxPooling1D(5)) # window size of 5, get max number in each window\n",
    "model.add(Conv1D(32,7,activation='relu',\n",
    "                kernel_regularizer=regularizers.l2(0.01))) # 32 filters, each with filter size of 7\n",
    "model.add(GlobalMaxPooling1D()) # get max number of each filter\n",
    "# use softmax as activation function for the last layer for multi-class classification (3 classes)\n",
    "model.add(Dense(6, activation= 'sigmoid')) \n",
    "model.summary()"
   ]
  },
  {
   "cell_type": "code",
   "execution_count": 139,
   "metadata": {},
   "outputs": [],
   "source": [
    "# Load the word2vec pre-trained word vectors to the embedding layer.\n",
    "model.layers[0].set_weights([embedding_matrix])  # embedding layer is the first layer in the network\n",
    "model.layers[0].trainable= False # freeze the embedding layer"
   ]
  },
  {
   "cell_type": "code",
   "execution_count": 141,
   "metadata": {},
   "outputs": [
    {
     "name": "stdout",
     "output_type": "stream",
     "text": [
      "Train on 35000 samples, validate on 15000 samples\n",
      "Epoch 1/10\n",
      "35000/35000 [==============================] - 43s 1ms/step - loss: 0.1413 - accuracy: 0.9629 - val_loss: 0.1440 - val_accuracy: 0.9624\n",
      "Epoch 2/10\n",
      "35000/35000 [==============================] - 42s 1ms/step - loss: 0.1401 - accuracy: 0.9629 - val_loss: 0.1395 - val_accuracy: 0.9624\n",
      "Epoch 3/10\n",
      "35000/35000 [==============================] - 42s 1ms/step - loss: 0.1389 - accuracy: 0.9629 - val_loss: 0.1400 - val_accuracy: 0.9624\n",
      "Wall time: 2min 7s\n"
     ]
    }
   ],
   "source": [
    "%%time\n",
    "# compile and train the network\n",
    "model.compile(optimizer = 'rmsprop',\n",
    "              loss = 'binary_crossentropy',\n",
    "              metrics = ['accuracy'])\n",
    "\n",
    "# Use early stopping\n",
    "callbacks = [EarlyStopping(monitor='val_loss')]\n",
    "\n",
    "\n",
    "history = model.fit(X_train, y_train,\n",
    "                   epochs = 10,\n",
    "                   batch_size = 128,\n",
    "                   validation_data = (X_val, y_val),\n",
    "                   callbacks = callbacks)"
   ]
  },
  {
   "cell_type": "code",
   "execution_count": 142,
   "metadata": {},
   "outputs": [],
   "source": [
    "# Get the texts from the test dataset\n",
    "test_texts = test.comment_text\n",
    "# Get the labels from the test dataset\n",
    "test_labels = test.iloc[:,2:]"
   ]
  },
  {
   "cell_type": "code",
   "execution_count": 143,
   "metadata": {},
   "outputs": [],
   "source": [
    "test_sequences = tokenizer.texts_to_sequences(test_texts) # turn strings into lists of integer indices (one list per doc)\n",
    "\n",
    "# Turn sequences-- lists of integers (word indices) into a 2D integer tensor of shape \n",
    "# (number of test observations, maxlen of each doc)\n",
    "X_test = pad_sequences(test_sequences, maxlen= maxlen)\n",
    "y_test = np.asarray(test_labels)"
   ]
  },
  {
   "cell_type": "code",
   "execution_count": 144,
   "metadata": {},
   "outputs": [
    {
     "name": "stdout",
     "output_type": "stream",
     "text": [
      "63978/63978 [==============================] - 24s 377us/step\n"
     ]
    },
    {
     "data": {
      "text/plain": [
       "[0.14127448016294986, 0.962231457233429]"
      ]
     },
     "execution_count": 144,
     "metadata": {},
     "output_type": "execute_result"
    }
   ],
   "source": [
    "model.evaluate(X_test,y_test)"
   ]
  },
  {
   "cell_type": "markdown",
   "metadata": {},
   "source": [
    "**Thoughts**\n",
    "- Sure enough, by increasing the sample size, even with a relatively simple conv1D model, the test accuracy (on test data) is a lot higher."
   ]
  },
  {
   "cell_type": "code",
   "execution_count": null,
   "metadata": {},
   "outputs": [],
   "source": []
  }
 ],
 "metadata": {
  "kernelspec": {
   "display_name": "Python 3",
   "language": "python",
   "name": "python3"
  },
  "language_info": {
   "codemirror_mode": {
    "name": "ipython",
    "version": 3
   },
   "file_extension": ".py",
   "mimetype": "text/x-python",
   "name": "python",
   "nbconvert_exporter": "python",
   "pygments_lexer": "ipython3",
   "version": "3.7.5"
  },
  "varInspector": {
   "cols": {
    "lenName": 16,
    "lenType": 16,
    "lenVar": 40
   },
   "kernels_config": {
    "python": {
     "delete_cmd_postfix": "",
     "delete_cmd_prefix": "del ",
     "library": "var_list.py",
     "varRefreshCmd": "print(var_dic_list())"
    },
    "r": {
     "delete_cmd_postfix": ") ",
     "delete_cmd_prefix": "rm(",
     "library": "var_list.r",
     "varRefreshCmd": "cat(var_dic_list()) "
    }
   },
   "types_to_exclude": [
    "module",
    "function",
    "builtin_function_or_method",
    "instance",
    "_Feature"
   ],
   "window_display": false
  }
 },
 "nbformat": 4,
 "nbformat_minor": 2
}
