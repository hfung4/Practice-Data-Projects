{
 "cells": [
  {
   "cell_type": "markdown",
   "metadata": {},
   "source": [
    "## Notes on common unsupervised learning methods\n",
    "- Perform PCA, K-means clustering, and hierarchical clustering on several datasets"
   ]
  },
  {
   "cell_type": "code",
   "execution_count": 2,
   "metadata": {},
   "outputs": [],
   "source": [
    "'''data'''\n",
    "import pandas as pd\n",
    "import numpy as np\n",
    "import matplotlib.pyplot as plt\n",
    "from sklearn.preprocessing import StandardScaler, normalize, LabelEncoder\n",
    "\n",
    "'''Clustering methods'''\n",
    "from sklearn.decomposition import PCA\n",
    "from sklearn.cluster import KMeans, DBSCAN\n",
    "import scipy.cluster.hierarchy as shc"
   ]
  },
  {
   "cell_type": "markdown",
   "metadata": {},
   "source": [
    "## PCA\n",
    "- https://scentellegher.github.io/machine-learning/2020/01/27/pca-loadings-sklearn.html"
   ]
  },
  {
   "cell_type": "markdown",
   "metadata": {},
   "source": [
    "**Import**"
   ]
  },
  {
   "cell_type": "code",
   "execution_count": 3,
   "metadata": {},
   "outputs": [],
   "source": [
    "data = pd.read_csv(\"data/USArrests.csv\")"
   ]
  },
  {
   "cell_type": "code",
   "execution_count": 4,
   "metadata": {},
   "outputs": [],
   "source": [
    "data.rename(columns={'Unnamed: 0':'State'}, inplace=True)"
   ]
  },
  {
   "cell_type": "code",
   "execution_count": 5,
   "metadata": {},
   "outputs": [
    {
     "data": {
      "text/plain": [
       "(50, 5)"
      ]
     },
     "execution_count": 5,
     "metadata": {},
     "output_type": "execute_result"
    }
   ],
   "source": [
    "data.shape"
   ]
  },
  {
   "cell_type": "markdown",
   "metadata": {},
   "source": [
    "**This dataset contains 5 features and no response variables measured across 50 observations.**"
   ]
  },
  {
   "cell_type": "code",
   "execution_count": 6,
   "metadata": {},
   "outputs": [
    {
     "data": {
      "text/html": [
       "<div>\n",
       "<style scoped>\n",
       "    .dataframe tbody tr th:only-of-type {\n",
       "        vertical-align: middle;\n",
       "    }\n",
       "\n",
       "    .dataframe tbody tr th {\n",
       "        vertical-align: top;\n",
       "    }\n",
       "\n",
       "    .dataframe thead th {\n",
       "        text-align: right;\n",
       "    }\n",
       "</style>\n",
       "<table border=\"1\" class=\"dataframe\">\n",
       "  <thead>\n",
       "    <tr style=\"text-align: right;\">\n",
       "      <th></th>\n",
       "      <th>Murder</th>\n",
       "      <th>Assault</th>\n",
       "      <th>UrbanPop</th>\n",
       "      <th>Rape</th>\n",
       "    </tr>\n",
       "  </thead>\n",
       "  <tbody>\n",
       "    <tr>\n",
       "      <th>count</th>\n",
       "      <td>50.00000</td>\n",
       "      <td>50.000000</td>\n",
       "      <td>50.000000</td>\n",
       "      <td>50.000000</td>\n",
       "    </tr>\n",
       "    <tr>\n",
       "      <th>mean</th>\n",
       "      <td>7.78800</td>\n",
       "      <td>170.760000</td>\n",
       "      <td>65.540000</td>\n",
       "      <td>21.232000</td>\n",
       "    </tr>\n",
       "    <tr>\n",
       "      <th>std</th>\n",
       "      <td>4.35551</td>\n",
       "      <td>83.337661</td>\n",
       "      <td>14.474763</td>\n",
       "      <td>9.366385</td>\n",
       "    </tr>\n",
       "    <tr>\n",
       "      <th>min</th>\n",
       "      <td>0.80000</td>\n",
       "      <td>45.000000</td>\n",
       "      <td>32.000000</td>\n",
       "      <td>7.300000</td>\n",
       "    </tr>\n",
       "    <tr>\n",
       "      <th>25%</th>\n",
       "      <td>4.07500</td>\n",
       "      <td>109.000000</td>\n",
       "      <td>54.500000</td>\n",
       "      <td>15.075000</td>\n",
       "    </tr>\n",
       "    <tr>\n",
       "      <th>50%</th>\n",
       "      <td>7.25000</td>\n",
       "      <td>159.000000</td>\n",
       "      <td>66.000000</td>\n",
       "      <td>20.100000</td>\n",
       "    </tr>\n",
       "    <tr>\n",
       "      <th>75%</th>\n",
       "      <td>11.25000</td>\n",
       "      <td>249.000000</td>\n",
       "      <td>77.750000</td>\n",
       "      <td>26.175000</td>\n",
       "    </tr>\n",
       "    <tr>\n",
       "      <th>max</th>\n",
       "      <td>17.40000</td>\n",
       "      <td>337.000000</td>\n",
       "      <td>91.000000</td>\n",
       "      <td>46.000000</td>\n",
       "    </tr>\n",
       "  </tbody>\n",
       "</table>\n",
       "</div>"
      ],
      "text/plain": [
       "         Murder     Assault   UrbanPop       Rape\n",
       "count  50.00000   50.000000  50.000000  50.000000\n",
       "mean    7.78800  170.760000  65.540000  21.232000\n",
       "std     4.35551   83.337661  14.474763   9.366385\n",
       "min     0.80000   45.000000  32.000000   7.300000\n",
       "25%     4.07500  109.000000  54.500000  15.075000\n",
       "50%     7.25000  159.000000  66.000000  20.100000\n",
       "75%    11.25000  249.000000  77.750000  26.175000\n",
       "max    17.40000  337.000000  91.000000  46.000000"
      ]
     },
     "execution_count": 6,
     "metadata": {},
     "output_type": "execute_result"
    }
   ],
   "source": [
    "data.describe() # column means"
   ]
  },
  {
   "cell_type": "markdown",
   "metadata": {},
   "source": [
    "**Thoughts**\n",
    "- Varibales have vastly different variances because they have different scales.\n",
    "- UrbanPop meausres the percentage of population in each state living in the urban area.\n",
    "- Murder, Assualt, and Rape are number of each incident per 100,000 individuals in each state. \n",
    "- Especially for PCA, we need to perform scaling of the features, since they uses different units.  Otherwise, most of the weights computed from the PCA algorithm will be assigned to Assault (feature with the largest mean and stdev)"
   ]
  },
  {
   "cell_type": "markdown",
   "metadata": {},
   "source": [
    "**Standardize the data**"
   ]
  },
  {
   "cell_type": "code",
   "execution_count": 7,
   "metadata": {},
   "outputs": [],
   "source": [
    "scaler = StandardScaler()\n",
    "processed = scaler.fit_transform(data[[\"Murder\", \"Assault\", \"UrbanPop\", \"Rape\"]]) # exclude \"State\""
   ]
  },
  {
   "cell_type": "code",
   "execution_count": 8,
   "metadata": {},
   "outputs": [],
   "source": [
    "n_samples = data.shape[0] # number of observations\n",
    "n_features = data.shape[1]-1 # number of features (exclude \"State\")"
   ]
  },
  {
   "cell_type": "markdown",
   "metadata": {},
   "source": [
    "**PCA**"
   ]
  },
  {
   "cell_type": "code",
   "execution_count": 9,
   "metadata": {},
   "outputs": [],
   "source": [
    "# n_components is the number of principal components (m).  I set it to the number of features that I have (exclude State).\n",
    "pca = PCA(n_components = n_features) \n",
    "pca.fit(processed)\n",
    "processed= pca.transform(processed)"
   ]
  },
  {
   "cell_type": "code",
   "execution_count": 10,
   "metadata": {},
   "outputs": [
    {
     "data": {
      "text/plain": [
       "(50, 4)"
      ]
     },
     "execution_count": 10,
     "metadata": {},
     "output_type": "execute_result"
    }
   ],
   "source": [
    "processed.shape"
   ]
  },
  {
   "cell_type": "markdown",
   "metadata": {},
   "source": [
    "**Look at the PVE (proportion of variance explained) of each PC.  We conclude that 0.86 of the total variation in the data is explained by the first two PCs.**\n",
    "- PVE of PC1 = Var(PC1)/(Var(PC1) + Var(PC2) + Var(PC3) + Var(PC4))"
   ]
  },
  {
   "cell_type": "code",
   "execution_count": 11,
   "metadata": {
    "scrolled": true
   },
   "outputs": [
    {
     "name": "stdout",
     "output_type": "stream",
     "text": [
      "[0.62006039 0.24744129 0.0891408  0.04335752]\n"
     ]
    }
   ],
   "source": [
    "print(pca.explained_variance_ratio_) "
   ]
  },
  {
   "cell_type": "markdown",
   "metadata": {},
   "source": [
    "**PCA loadings**"
   ]
  },
  {
   "cell_type": "code",
   "execution_count": 12,
   "metadata": {},
   "outputs": [
    {
     "data": {
      "text/plain": [
       "array([[ 0.53589947,  0.58318363,  0.27819087,  0.54343209],\n",
       "       [ 0.41818087,  0.1879856 , -0.87280619, -0.16731864],\n",
       "       [-0.34123273, -0.26814843, -0.37801579,  0.81777791],\n",
       "       [ 0.6492278 , -0.74340748,  0.13387773,  0.08902432]])"
      ]
     },
     "execution_count": 12,
     "metadata": {},
     "output_type": "execute_result"
    }
   ],
   "source": [
    "pca.components_ # the PCA loadings (contribution of each original feature to the new derived variables)"
   ]
  },
  {
   "cell_type": "code",
   "execution_count": 13,
   "metadata": {},
   "outputs": [],
   "source": [
    "loadings = pd.DataFrame(pca.components_.T, columns=['PC1', 'PC2', 'PC3', 'PC4'], index=data.columns.values[1:])"
   ]
  },
  {
   "cell_type": "code",
   "execution_count": 14,
   "metadata": {},
   "outputs": [
    {
     "data": {
      "text/html": [
       "<div>\n",
       "<style scoped>\n",
       "    .dataframe tbody tr th:only-of-type {\n",
       "        vertical-align: middle;\n",
       "    }\n",
       "\n",
       "    .dataframe tbody tr th {\n",
       "        vertical-align: top;\n",
       "    }\n",
       "\n",
       "    .dataframe thead th {\n",
       "        text-align: right;\n",
       "    }\n",
       "</style>\n",
       "<table border=\"1\" class=\"dataframe\">\n",
       "  <thead>\n",
       "    <tr style=\"text-align: right;\">\n",
       "      <th></th>\n",
       "      <th>PC1</th>\n",
       "      <th>PC2</th>\n",
       "      <th>PC3</th>\n",
       "      <th>PC4</th>\n",
       "    </tr>\n",
       "  </thead>\n",
       "  <tbody>\n",
       "    <tr>\n",
       "      <th>Murder</th>\n",
       "      <td>0.535899</td>\n",
       "      <td>0.418181</td>\n",
       "      <td>-0.341233</td>\n",
       "      <td>0.649228</td>\n",
       "    </tr>\n",
       "    <tr>\n",
       "      <th>Assault</th>\n",
       "      <td>0.583184</td>\n",
       "      <td>0.187986</td>\n",
       "      <td>-0.268148</td>\n",
       "      <td>-0.743407</td>\n",
       "    </tr>\n",
       "    <tr>\n",
       "      <th>UrbanPop</th>\n",
       "      <td>0.278191</td>\n",
       "      <td>-0.872806</td>\n",
       "      <td>-0.378016</td>\n",
       "      <td>0.133878</td>\n",
       "    </tr>\n",
       "    <tr>\n",
       "      <th>Rape</th>\n",
       "      <td>0.543432</td>\n",
       "      <td>-0.167319</td>\n",
       "      <td>0.817778</td>\n",
       "      <td>0.089024</td>\n",
       "    </tr>\n",
       "  </tbody>\n",
       "</table>\n",
       "</div>"
      ],
      "text/plain": [
       "               PC1       PC2       PC3       PC4\n",
       "Murder    0.535899  0.418181 -0.341233  0.649228\n",
       "Assault   0.583184  0.187986 -0.268148 -0.743407\n",
       "UrbanPop  0.278191 -0.872806 -0.378016  0.133878\n",
       "Rape      0.543432 -0.167319  0.817778  0.089024"
      ]
     },
     "execution_count": 14,
     "metadata": {},
     "output_type": "execute_result"
    }
   ],
   "source": [
    "loadings"
   ]
  },
  {
   "cell_type": "markdown",
   "metadata": {},
   "source": [
    "**Find the correlation between the original variable (ex: Murder) and the derived variable (ex: PC1).**\n",
    "- We see from the below matrix, it is 0.85\n",
    "- We compute the correlation matrix from (loadings) * sqrt(PVE)"
   ]
  },
  {
   "cell_type": "code",
   "execution_count": 15,
   "metadata": {},
   "outputs": [],
   "source": [
    "correlations = pca.components_.T * np.sqrt(pca.explained_variance_)\n",
    "\n",
    "corr_matrix = pd.DataFrame(correlations, columns=['PC1', 'PC2', 'PC3', 'PC4'], index=data.columns.values[1:])"
   ]
  },
  {
   "cell_type": "code",
   "execution_count": 16,
   "metadata": {},
   "outputs": [
    {
     "data": {
      "text/html": [
       "<div>\n",
       "<style scoped>\n",
       "    .dataframe tbody tr th:only-of-type {\n",
       "        vertical-align: middle;\n",
       "    }\n",
       "\n",
       "    .dataframe tbody tr th {\n",
       "        vertical-align: top;\n",
       "    }\n",
       "\n",
       "    .dataframe thead th {\n",
       "        text-align: right;\n",
       "    }\n",
       "</style>\n",
       "<table border=\"1\" class=\"dataframe\">\n",
       "  <thead>\n",
       "    <tr style=\"text-align: right;\">\n",
       "      <th></th>\n",
       "      <th>PC1</th>\n",
       "      <th>PC2</th>\n",
       "      <th>PC3</th>\n",
       "      <th>PC4</th>\n",
       "    </tr>\n",
       "  </thead>\n",
       "  <tbody>\n",
       "    <tr>\n",
       "      <th>Murder</th>\n",
       "      <td>0.852545</td>\n",
       "      <td>0.420259</td>\n",
       "      <td>-0.205829</td>\n",
       "      <td>0.273115</td>\n",
       "    </tr>\n",
       "    <tr>\n",
       "      <th>Assault</th>\n",
       "      <td>0.927768</td>\n",
       "      <td>0.188920</td>\n",
       "      <td>-0.161745</td>\n",
       "      <td>-0.312735</td>\n",
       "    </tr>\n",
       "    <tr>\n",
       "      <th>UrbanPop</th>\n",
       "      <td>0.442565</td>\n",
       "      <td>-0.877144</td>\n",
       "      <td>-0.228016</td>\n",
       "      <td>0.056319</td>\n",
       "    </tr>\n",
       "    <tr>\n",
       "      <th>Rape</th>\n",
       "      <td>0.864528</td>\n",
       "      <td>-0.168150</td>\n",
       "      <td>0.493277</td>\n",
       "      <td>0.037451</td>\n",
       "    </tr>\n",
       "  </tbody>\n",
       "</table>\n",
       "</div>"
      ],
      "text/plain": [
       "               PC1       PC2       PC3       PC4\n",
       "Murder    0.852545  0.420259 -0.205829  0.273115\n",
       "Assault   0.927768  0.188920 -0.161745 -0.312735\n",
       "UrbanPop  0.442565 -0.877144 -0.228016  0.056319\n",
       "Rape      0.864528 -0.168150  0.493277  0.037451"
      ]
     },
     "execution_count": 16,
     "metadata": {},
     "output_type": "execute_result"
    }
   ],
   "source": [
    "corr_matrix"
   ]
  },
  {
   "cell_type": "markdown",
   "metadata": {},
   "source": [
    "**Plotting**"
   ]
  },
  {
   "cell_type": "code",
   "execution_count": 17,
   "metadata": {},
   "outputs": [
    {
     "data": {
      "text/plain": [
       "Text(0.5, 1.0, 'Principal Component Analysis of the US Arrest Dataset')"
      ]
     },
     "execution_count": 17,
     "metadata": {},
     "output_type": "execute_result"
    },
    {
     "data": {
      "image/png": "[encoded data removed]",
      "text/plain": [
       "<Figure size 720x432 with 1 Axes>"
      ]
     },
     "metadata": {
      "needs_background": "light"
     },
     "output_type": "display_data"
    }
   ],
   "source": [
    "plt.figure(figsize=(10,6))\n",
    "plt.scatter(processed[:,0], processed[:,1])\n",
    "\n",
    "plt.xticks(fontsize=12)\n",
    "plt.yticks(fontsize=14)\n",
    "plt.xlabel('Principal Component 1',fontsize=20)\n",
    "plt.ylabel('Principal Component 2',fontsize=20)\n",
    "plt.title(\"Principal Component Analysis of the US Arrest Dataset\",fontsize=20)\n"
   ]
  },
  {
   "cell_type": "markdown",
   "metadata": {},
   "source": [
    "**Plot of the cumulative explained variance**"
   ]
  },
  {
   "cell_type": "code",
   "execution_count": 18,
   "metadata": {
    "scrolled": true
   },
   "outputs": [
    {
     "data": {
      "image/png": "[encoded data removed]",
      "text/plain": [
       "<Figure size 720x432 with 1 Axes>"
      ]
     },
     "metadata": {
      "needs_background": "light"
     },
     "output_type": "display_data"
    }
   ],
   "source": [
    "plt.figure(figsize=(10,6))\n",
    "plt.plot(np.cumsum(pca.explained_variance_ratio_))\n",
    "\n",
    "plt.xlabel('number of components', fontsize=16)\n",
    "plt.ylabel('cumulative explained variance', fontsize=16)\n",
    "plt.xticks(fontsize=12)\n",
    "plt.yticks(fontsize=14)\n",
    "plt.title(\"Cumulative explained variance plot\");"
   ]
  },
  {
   "cell_type": "markdown",
   "metadata": {},
   "source": [
    "**Scree plot**"
   ]
  },
  {
   "cell_type": "code",
   "execution_count": 19,
   "metadata": {},
   "outputs": [
    {
     "data": {
      "image/png": "[encoded data removed]",
      "text/plain": [
       "<Figure size 720x432 with 1 Axes>"
      ]
     },
     "metadata": {
      "needs_background": "light"
     },
     "output_type": "display_data"
    }
   ],
   "source": [
    "plt.figure(figsize=(10,6))\n",
    "plt.plot(pca.explained_variance_ratio_)\n",
    "\n",
    "plt.xlabel('number of components', fontsize=16)\n",
    "plt.ylabel('cumulative explained variance', fontsize=16)\n",
    "plt.xticks(fontsize=12)\n",
    "plt.yticks(fontsize=14)\n",
    "plt.title(\"Scree plot\");"
   ]
  },
  {
   "cell_type": "markdown",
   "metadata": {},
   "source": [
    "**Elbow occurs around the fourth to fifth PC.  Therefore, perhaps only 4 PC is sufficient in capturing most of the total variance in the data.**"
   ]
  },
  {
   "cell_type": "code",
   "execution_count": null,
   "metadata": {},
   "outputs": [],
   "source": []
  },
  {
   "cell_type": "markdown",
   "metadata": {},
   "source": [
    "## Perform PCA on the \"glass\" dataset"
   ]
  },
  {
   "cell_type": "code",
   "execution_count": 20,
   "metadata": {},
   "outputs": [
    {
     "data": {
      "text/html": [
       "<div>\n",
       "<style scoped>\n",
       "    .dataframe tbody tr th:only-of-type {\n",
       "        vertical-align: middle;\n",
       "    }\n",
       "\n",
       "    .dataframe tbody tr th {\n",
       "        vertical-align: top;\n",
       "    }\n",
       "\n",
       "    .dataframe thead th {\n",
       "        text-align: right;\n",
       "    }\n",
       "</style>\n",
       "<table border=\"1\" class=\"dataframe\">\n",
       "  <thead>\n",
       "    <tr style=\"text-align: right;\">\n",
       "      <th></th>\n",
       "      <th>ri</th>\n",
       "      <th>na</th>\n",
       "      <th>mg</th>\n",
       "      <th>al</th>\n",
       "      <th>si</th>\n",
       "      <th>k</th>\n",
       "      <th>ca</th>\n",
       "      <th>ba</th>\n",
       "      <th>fe</th>\n",
       "      <th>type</th>\n",
       "    </tr>\n",
       "  </thead>\n",
       "  <tbody>\n",
       "    <tr>\n",
       "      <th>0</th>\n",
       "      <td>1.52101</td>\n",
       "      <td>13.64</td>\n",
       "      <td>4.49</td>\n",
       "      <td>1.10</td>\n",
       "      <td>71.78</td>\n",
       "      <td>0.06</td>\n",
       "      <td>8.75</td>\n",
       "      <td>0.0</td>\n",
       "      <td>0.0</td>\n",
       "      <td>1</td>\n",
       "    </tr>\n",
       "    <tr>\n",
       "      <th>1</th>\n",
       "      <td>1.51761</td>\n",
       "      <td>13.89</td>\n",
       "      <td>3.60</td>\n",
       "      <td>1.36</td>\n",
       "      <td>72.73</td>\n",
       "      <td>0.48</td>\n",
       "      <td>7.83</td>\n",
       "      <td>0.0</td>\n",
       "      <td>0.0</td>\n",
       "      <td>1</td>\n",
       "    </tr>\n",
       "    <tr>\n",
       "      <th>2</th>\n",
       "      <td>1.51618</td>\n",
       "      <td>13.53</td>\n",
       "      <td>3.55</td>\n",
       "      <td>1.54</td>\n",
       "      <td>72.99</td>\n",
       "      <td>0.39</td>\n",
       "      <td>7.78</td>\n",
       "      <td>0.0</td>\n",
       "      <td>0.0</td>\n",
       "      <td>1</td>\n",
       "    </tr>\n",
       "    <tr>\n",
       "      <th>3</th>\n",
       "      <td>1.51766</td>\n",
       "      <td>13.21</td>\n",
       "      <td>3.69</td>\n",
       "      <td>1.29</td>\n",
       "      <td>72.61</td>\n",
       "      <td>0.57</td>\n",
       "      <td>8.22</td>\n",
       "      <td>0.0</td>\n",
       "      <td>0.0</td>\n",
       "      <td>1</td>\n",
       "    </tr>\n",
       "    <tr>\n",
       "      <th>4</th>\n",
       "      <td>1.51742</td>\n",
       "      <td>13.27</td>\n",
       "      <td>3.62</td>\n",
       "      <td>1.24</td>\n",
       "      <td>73.08</td>\n",
       "      <td>0.55</td>\n",
       "      <td>8.07</td>\n",
       "      <td>0.0</td>\n",
       "      <td>0.0</td>\n",
       "      <td>1</td>\n",
       "    </tr>\n",
       "  </tbody>\n",
       "</table>\n",
       "</div>"
      ],
      "text/plain": [
       "        ri     na    mg    al     si     k    ca   ba   fe  type\n",
       "0  1.52101  13.64  4.49  1.10  71.78  0.06  8.75  0.0  0.0     1\n",
       "1  1.51761  13.89  3.60  1.36  72.73  0.48  7.83  0.0  0.0     1\n",
       "2  1.51618  13.53  3.55  1.54  72.99  0.39  7.78  0.0  0.0     1\n",
       "3  1.51766  13.21  3.69  1.29  72.61  0.57  8.22  0.0  0.0     1\n",
       "4  1.51742  13.27  3.62  1.24  73.08  0.55  8.07  0.0  0.0     1"
      ]
     },
     "execution_count": 20,
     "metadata": {},
     "output_type": "execute_result"
    }
   ],
   "source": [
    "data = pd.read_csv('data/glass.csv').drop('id',axis=1)\n",
    "data.head()"
   ]
  },
  {
   "cell_type": "code",
   "execution_count": 21,
   "metadata": {
    "scrolled": false
   },
   "outputs": [
    {
     "data": {
      "text/plain": [
       "2    76\n",
       "1    70\n",
       "7    29\n",
       "3    17\n",
       "5    13\n",
       "6     9\n",
       "Name: type, dtype: int64"
      ]
     },
     "execution_count": 21,
     "metadata": {},
     "output_type": "execute_result"
    }
   ],
   "source": [
    "data.type.value_counts()"
   ]
  },
  {
   "cell_type": "code",
   "execution_count": 22,
   "metadata": {},
   "outputs": [
    {
     "data": {
      "text/plain": [
       "{1, 2, 3, 5, 6, 7}"
      ]
     },
     "execution_count": 22,
     "metadata": {},
     "output_type": "execute_result"
    }
   ],
   "source": [
    "set(data.type)"
   ]
  },
  {
   "cell_type": "markdown",
   "metadata": {},
   "source": [
    "**There are 9 features and 1 response variable (in real life, since this is an unsupervised problem, we wouldn't have a response variable\").  There are 6 classes, so we know that the observations are \"actually\" clustered into 6 groups.**"
   ]
  },
  {
   "cell_type": "code",
   "execution_count": 23,
   "metadata": {},
   "outputs": [],
   "source": [
    "feature_names = data.columns.values[:-1]"
   ]
  },
  {
   "cell_type": "code",
   "execution_count": 24,
   "metadata": {},
   "outputs": [],
   "source": [
    "# Standardize the features\n",
    "scaler = StandardScaler()\n",
    "processed = scaler.fit_transform(data[feature_names])"
   ]
  },
  {
   "cell_type": "code",
   "execution_count": 25,
   "metadata": {},
   "outputs": [],
   "source": [
    "# n_components is the number of principal components (m)\n",
    "# I set it to be same as the number of features. Usually n_components = min(n-1, number_of_features)\n",
    "pca = PCA(n_components = 9) \n",
    "processed = pca.fit_transform(processed)"
   ]
  },
  {
   "cell_type": "markdown",
   "metadata": {},
   "source": [
    "**Derive 9 principal components from the 9 features.  Using the the first two PCs, I plot the obesrvations in a 2-D feature space.** "
   ]
  },
  {
   "cell_type": "code",
   "execution_count": 26,
   "metadata": {},
   "outputs": [
    {
     "data": {
      "text/html": [
       "<div>\n",
       "<style scoped>\n",
       "    .dataframe tbody tr th:only-of-type {\n",
       "        vertical-align: middle;\n",
       "    }\n",
       "\n",
       "    .dataframe tbody tr th {\n",
       "        vertical-align: top;\n",
       "    }\n",
       "\n",
       "    .dataframe thead th {\n",
       "        text-align: right;\n",
       "    }\n",
       "</style>\n",
       "<table border=\"1\" class=\"dataframe\">\n",
       "  <thead>\n",
       "    <tr style=\"text-align: right;\">\n",
       "      <th></th>\n",
       "      <th>PC1</th>\n",
       "      <th>PC2</th>\n",
       "      <th>PC3</th>\n",
       "      <th>PC4</th>\n",
       "      <th>PC5</th>\n",
       "      <th>PC6</th>\n",
       "      <th>PC7</th>\n",
       "      <th>PC8</th>\n",
       "      <th>PC9</th>\n",
       "    </tr>\n",
       "  </thead>\n",
       "  <tbody>\n",
       "    <tr>\n",
       "      <th>ri</th>\n",
       "      <td>0.545177</td>\n",
       "      <td>0.285683</td>\n",
       "      <td>0.086911</td>\n",
       "      <td>0.147381</td>\n",
       "      <td>-0.073543</td>\n",
       "      <td>0.115288</td>\n",
       "      <td>0.081867</td>\n",
       "      <td>-0.752216</td>\n",
       "      <td>0.025732</td>\n",
       "    </tr>\n",
       "    <tr>\n",
       "      <th>na</th>\n",
       "      <td>-0.258126</td>\n",
       "      <td>0.270350</td>\n",
       "      <td>-0.384920</td>\n",
       "      <td>0.491242</td>\n",
       "      <td>0.153683</td>\n",
       "      <td>-0.558118</td>\n",
       "      <td>0.148580</td>\n",
       "      <td>-0.127693</td>\n",
       "      <td>-0.311937</td>\n",
       "    </tr>\n",
       "    <tr>\n",
       "      <th>mg</th>\n",
       "      <td>0.110881</td>\n",
       "      <td>-0.593558</td>\n",
       "      <td>0.008418</td>\n",
       "      <td>0.378786</td>\n",
       "      <td>0.123509</td>\n",
       "      <td>0.308186</td>\n",
       "      <td>-0.206045</td>\n",
       "      <td>-0.076891</td>\n",
       "      <td>-0.577273</td>\n",
       "    </tr>\n",
       "    <tr>\n",
       "      <th>al</th>\n",
       "      <td>-0.428709</td>\n",
       "      <td>0.295212</td>\n",
       "      <td>0.329237</td>\n",
       "      <td>-0.137506</td>\n",
       "      <td>0.014109</td>\n",
       "      <td>-0.018857</td>\n",
       "      <td>-0.699236</td>\n",
       "      <td>-0.274441</td>\n",
       "      <td>-0.192227</td>\n",
       "    </tr>\n",
       "    <tr>\n",
       "      <th>si</th>\n",
       "      <td>-0.228836</td>\n",
       "      <td>-0.155099</td>\n",
       "      <td>-0.458709</td>\n",
       "      <td>-0.652538</td>\n",
       "      <td>0.008500</td>\n",
       "      <td>0.086098</td>\n",
       "      <td>0.216067</td>\n",
       "      <td>-0.379923</td>\n",
       "      <td>-0.298073</td>\n",
       "    </tr>\n",
       "    <tr>\n",
       "      <th>k</th>\n",
       "      <td>-0.219344</td>\n",
       "      <td>-0.153970</td>\n",
       "      <td>0.662574</td>\n",
       "      <td>-0.038535</td>\n",
       "      <td>-0.307040</td>\n",
       "      <td>-0.243632</td>\n",
       "      <td>0.504121</td>\n",
       "      <td>-0.109812</td>\n",
       "      <td>-0.260509</td>\n",
       "    </tr>\n",
       "    <tr>\n",
       "      <th>ca</th>\n",
       "      <td>0.492306</td>\n",
       "      <td>0.345380</td>\n",
       "      <td>-0.000985</td>\n",
       "      <td>-0.276443</td>\n",
       "      <td>-0.188188</td>\n",
       "      <td>-0.148669</td>\n",
       "      <td>-0.099135</td>\n",
       "      <td>0.398705</td>\n",
       "      <td>-0.579323</td>\n",
       "    </tr>\n",
       "    <tr>\n",
       "      <th>ba</th>\n",
       "      <td>-0.250375</td>\n",
       "      <td>0.484702</td>\n",
       "      <td>0.074055</td>\n",
       "      <td>0.133175</td>\n",
       "      <td>0.251334</td>\n",
       "      <td>0.657219</td>\n",
       "      <td>0.351783</td>\n",
       "      <td>0.144932</td>\n",
       "      <td>-0.198228</td>\n",
       "    </tr>\n",
       "    <tr>\n",
       "      <th>fe</th>\n",
       "      <td>0.185842</td>\n",
       "      <td>-0.062039</td>\n",
       "      <td>0.284451</td>\n",
       "      <td>-0.230492</td>\n",
       "      <td>0.873264</td>\n",
       "      <td>-0.243044</td>\n",
       "      <td>0.073721</td>\n",
       "      <td>-0.016271</td>\n",
       "      <td>-0.014669</td>\n",
       "    </tr>\n",
       "  </tbody>\n",
       "</table>\n",
       "</div>"
      ],
      "text/plain": [
       "         PC1       PC2       PC3       PC4       PC5       PC6       PC7  \\\n",
       "ri  0.545177  0.285683  0.086911  0.147381 -0.073543  0.115288  0.081867   \n",
       "na -0.258126  0.270350 -0.384920  0.491242  0.153683 -0.558118  0.148580   \n",
       "mg  0.110881 -0.593558  0.008418  0.378786  0.123509  0.308186 -0.206045   \n",
       "al -0.428709  0.295212  0.329237 -0.137506  0.014109 -0.018857 -0.699236   \n",
       "si -0.228836 -0.155099 -0.458709 -0.652538  0.008500  0.086098  0.216067   \n",
       "k  -0.219344 -0.153970  0.662574 -0.038535 -0.307040 -0.243632  0.504121   \n",
       "ca  0.492306  0.345380 -0.000985 -0.276443 -0.188188 -0.148669 -0.099135   \n",
       "ba -0.250375  0.484702  0.074055  0.133175  0.251334  0.657219  0.351783   \n",
       "fe  0.185842 -0.062039  0.284451 -0.230492  0.873264 -0.243044  0.073721   \n",
       "\n",
       "         PC8       PC9  \n",
       "ri -0.752216  0.025732  \n",
       "na -0.127693 -0.311937  \n",
       "mg -0.076891 -0.577273  \n",
       "al -0.274441 -0.192227  \n",
       "si -0.379923 -0.298073  \n",
       "k  -0.109812 -0.260509  \n",
       "ca  0.398705 -0.579323  \n",
       "ba  0.144932 -0.198228  \n",
       "fe -0.016271 -0.014669  "
      ]
     },
     "execution_count": 26,
     "metadata": {},
     "output_type": "execute_result"
    }
   ],
   "source": [
    "loadings = pd.DataFrame(pca.components_.T, columns=['PC1', 'PC2', 'PC3', 'PC4', 'PC5', \n",
    "                                                    'PC6', 'PC7', 'PC8', 'PC9'], index=feature_names)\n",
    "loadings"
   ]
  },
  {
   "cell_type": "code",
   "execution_count": 27,
   "metadata": {},
   "outputs": [],
   "source": [
    "PVE = pd.DataFrame(pca.explained_variance_ratio_, columns = [\"PVE\"], index=['PC1', 'PC2', 'PC3', 'PC4', 'PC5', \n",
    "                                                    'PC6', 'PC7', 'PC8', 'PC9'])"
   ]
  },
  {
   "cell_type": "code",
   "execution_count": 28,
   "metadata": {
    "scrolled": true
   },
   "outputs": [
    {
     "name": "stdout",
     "output_type": "stream",
     "text": [
      "          PVE\n",
      "PC1  0.279018\n",
      "PC2  0.227786\n",
      "PC3  0.156094\n",
      "PC4  0.128651\n",
      "PC5  0.101556\n",
      "PC6  0.058626\n",
      "PC7  0.040995\n",
      "PC8  0.007095\n",
      "PC9  0.000179\n"
     ]
    }
   ],
   "source": [
    "print(PVE) "
   ]
  },
  {
   "cell_type": "markdown",
   "metadata": {},
   "source": [
    "**Plotting**"
   ]
  },
  {
   "cell_type": "code",
   "execution_count": 29,
   "metadata": {},
   "outputs": [
    {
     "data": {
      "text/plain": [
       "Text(0.5, 1.0, 'Principal Component Analysis of the Glass Dataset')"
      ]
     },
     "execution_count": 29,
     "metadata": {},
     "output_type": "execute_result"
    },
    {
     "data": {
      "image/png": "[encoded data removed]",
      "text/plain": [
       "<Figure size 720x432 with 1 Axes>"
      ]
     },
     "metadata": {
      "needs_background": "light"
     },
     "output_type": "display_data"
    }
   ],
   "source": [
    "plt.figure(figsize=(10,6))\n",
    "plt.scatter(processed[:,0], processed[:,1], c= data.type) # color represents the actual classes\n",
    "\n",
    "plt.xticks(fontsize=12)\n",
    "plt.yticks(fontsize=14)\n",
    "plt.xlabel('Principal Component 1',fontsize=16)\n",
    "plt.ylabel('Principal Component 2',fontsize=16)\n",
    "plt.title(\"Principal Component Analysis of the Glass Dataset\",fontsize=20)"
   ]
  },
  {
   "cell_type": "markdown",
   "metadata": {},
   "source": [
    "**Plot of the cumulative explained variance**"
   ]
  },
  {
   "cell_type": "code",
   "execution_count": 30,
   "metadata": {},
   "outputs": [
    {
     "data": {
      "text/plain": [
       "Text(0, 0.5, 'cumulative explained variance')"
      ]
     },
     "execution_count": 30,
     "metadata": {},
     "output_type": "execute_result"
    },
    {
     "data": {
      "image/png": "[encoded data removed]",
      "text/plain": [
       "<Figure size 720x432 with 1 Axes>"
      ]
     },
     "metadata": {
      "needs_background": "light"
     },
     "output_type": "display_data"
    }
   ],
   "source": [
    "plt.figure(figsize=(10,6))\n",
    "plt.plot(np.cumsum(pca.explained_variance_ratio_))\n",
    "\n",
    "plt.xticks(fontsize=12)\n",
    "plt.yticks(fontsize=14)\n",
    "plt.xlabel('number of components', fontsize=16)\n",
    "plt.ylabel('cumulative explained variance', fontsize=16)"
   ]
  },
  {
   "cell_type": "code",
   "execution_count": null,
   "metadata": {},
   "outputs": [],
   "source": []
  },
  {
   "cell_type": "markdown",
   "metadata": {},
   "source": [
    "## K-means clustering\n",
    "- Cluster observations into K groups (K is specified by the user) on the basis of the features.\n",
    "- Initially, randomly assign a number from 1-K to each of the observations. \n",
    "- Iterate until the cluster assignments stop changing (or up to a max number of iterations specified by the user):\n",
    "    - For each of the K clusters, compute the cluster centroid (a px1 vector that contains the mean of each feature for a cluster).\n",
    "    - Assign each observation to the cluster whose centroid is closest (where closest is defined using Eclidean distance).\n",
    "    \n",
    "- After the algorithm iterates many times, the cluster assignments will stop changing and I have reached a local minimum. There might be different local minimums, the local minima that I reached is dependent on my starting random cluster assignment.\n",
    "- Thus, I need to run the algorithm multiple times from different random starting cluster assignments. To get the global minimum, I need to choose amongst the different local minimums for the clustering that yields the smallest total within cluster variance.\n",
    "- The total within cluster variance is computed by the following steps:\n",
    "    - Find the squared Eucliean distance between all possible paris of observation in the kth cluster, sum them up. Divide the sum by the total number of observations in the cluster. \n",
    "    - Repeat above to each of the k clusters.\n",
    "    - Finally I find the total within cluster variation of all K clusters."
   ]
  },
  {
   "cell_type": "code",
   "execution_count": 31,
   "metadata": {},
   "outputs": [],
   "source": [
    "kmeans= KMeans(n_clusters = 6, # specify 6 clusters (the true number of classes in the actual glass data)\n",
    "               n_init = 10, # the number of times the k-means algorithm will run with different initializations\n",
    "               max_iter = 300, # the number of iterations the k-means algorithm will have for a SINGLE run (default= 300)\n",
    "               random_state = 10,\n",
    "               verbose = 2,\n",
    "               n_jobs = -1)"
   ]
  },
  {
   "cell_type": "code",
   "execution_count": 32,
   "metadata": {},
   "outputs": [
    {
     "data": {
      "text/plain": [
       "KMeans(algorithm='auto', copy_x=True, init='k-means++', max_iter=300,\n",
       "       n_clusters=6, n_init=10, n_jobs=-1, precompute_distances='auto',\n",
       "       random_state=10, tol=0.0001, verbose=2)"
      ]
     },
     "execution_count": 32,
     "metadata": {},
     "output_type": "execute_result"
    }
   ],
   "source": [
    "# Fit model\n",
    "kmeans.fit(processed) # used the 9 derived variables from PCA"
   ]
  },
  {
   "cell_type": "code",
   "execution_count": 33,
   "metadata": {},
   "outputs": [],
   "source": [
    "pred = kmeans.predict(processed)"
   ]
  },
  {
   "cell_type": "code",
   "execution_count": 34,
   "metadata": {},
   "outputs": [
    {
     "data": {
      "text/plain": [
       "array([1, 0, 0, 0, 0, 5, 0, 0, 0, 0, 5, 0, 5, 5, 0, 0, 0, 1, 1, 0, 5, 1,\n",
       "       0, 0, 0, 0, 0, 0, 0, 0, 5, 0, 5, 0, 0, 0, 1, 0, 1, 1, 0, 0, 0, 1,\n",
       "       5, 0, 5, 1, 1, 0, 1, 5, 0, 0, 0, 5, 5, 0, 0, 0, 0, 1, 1, 1, 1, 1,\n",
       "       1, 1, 1, 1, 0, 5, 0, 0, 0, 0, 0, 0, 5, 0, 0, 0, 0, 0, 0, 0, 0, 0,\n",
       "       0, 0, 5, 0, 5, 0, 0, 0, 5, 5, 0, 0, 5, 0, 5, 1, 1, 3, 3, 3, 1, 0,\n",
       "       3, 3, 3, 5, 0, 0, 0, 0, 5, 0, 0, 5, 0, 0, 0, 5, 0, 1, 5, 1, 1, 3,\n",
       "       0, 5, 0, 5, 5, 0, 0, 0, 0, 5, 5, 0, 5, 5, 0, 0, 0, 0, 5, 1, 0, 0,\n",
       "       0, 0, 0, 1, 0, 0, 0, 5, 5, 2, 0, 3, 3, 0, 0, 0, 3, 4, 4, 3, 5, 5,\n",
       "       1, 1, 1, 0, 0, 2, 2, 1, 2, 0, 2, 1, 1, 1, 2, 2, 2, 2, 2, 2, 2, 2,\n",
       "       2, 2, 2, 0, 2, 2, 2, 2, 2, 2, 2, 2, 2, 2, 2, 2])"
      ]
     },
     "execution_count": 34,
     "metadata": {},
     "output_type": "execute_result"
    }
   ],
   "source": [
    "pred # a \"label\" is now assigned to each of the observations (1-6)"
   ]
  },
  {
   "cell_type": "code",
   "execution_count": 35,
   "metadata": {},
   "outputs": [
    {
     "data": {
      "image/png": "[encoded data removed]",
      "text/plain": [
       "<Figure size 432x288 with 1 Axes>"
      ]
     },
     "metadata": {
      "needs_background": "light"
     },
     "output_type": "display_data"
    }
   ],
   "source": [
    "plt.scatter(processed[:,0],processed[:,1],c=pred) # labels from k-means clustering\n",
    "plt.xlabel('Principal Component 1',fontsize=12)\n",
    "plt.ylabel('Principal Component 2',fontsize=12);"
   ]
  },
  {
   "cell_type": "markdown",
   "metadata": {},
   "source": [
    "**Try clustering with K=3 groups**"
   ]
  },
  {
   "cell_type": "code",
   "execution_count": 36,
   "metadata": {},
   "outputs": [],
   "source": [
    "kmeans= KMeans(n_clusters = 3, # specify 3 clusters (the true number of classes in the actual glass data)\n",
    "               n_init = 10, # the number of times the k-means algorithm will run with different initializations\n",
    "               max_iter = 300, # the number of iterations the k-means algorithm will have for a SINGLE run (default= 300)\n",
    "               random_state = 10,\n",
    "               verbose = 2,\n",
    "               n_jobs = -1)"
   ]
  },
  {
   "cell_type": "code",
   "execution_count": 37,
   "metadata": {},
   "outputs": [],
   "source": [
    "# Train model\n",
    "pred = kmeans.fit_predict(processed) # used derived features from PCA"
   ]
  },
  {
   "cell_type": "code",
   "execution_count": 38,
   "metadata": {},
   "outputs": [
    {
     "data": {
      "image/png": "[encoded data removed]",
      "text/plain": [
       "<Figure size 432x288 with 1 Axes>"
      ]
     },
     "metadata": {
      "needs_background": "light"
     },
     "output_type": "display_data"
    }
   ],
   "source": [
    "plt.scatter(processed[:,0],processed[:,1],c=pred) # labels from k-means clustering\n",
    "plt.xlabel('Principal Component 1',fontsize=12)\n",
    "plt.ylabel('Principal Component 2',fontsize=12);"
   ]
  },
  {
   "cell_type": "markdown",
   "metadata": {},
   "source": [
    "- There are 9 features for this dataset.  \n",
    "- However, we can plot the observations in a 2-D feature space beause we performed PCA, and then plot the observations in the PC1-PC2 feature space.\n",
    "- In general, if there were more than two variables in your dataset, you can first perform PCA and then plot the first two PCs (derived variables) for visualization.\n",
    "- The class label assigned/predicted by the K-means algorithm to each observation is represented by a color. "
   ]
  },
  {
   "cell_type": "markdown",
   "metadata": {},
   "source": [
    "## DBSCAN\n",
    "- A very popular unsupervised learning method. \n",
    "- I need to tune hyperparameters.\n",
    "- Number of cluster is predicted by the algorithm and NOT set by the user."
   ]
  },
  {
   "cell_type": "code",
   "execution_count": 39,
   "metadata": {},
   "outputs": [],
   "source": [
    "dbscan= DBSCAN(eps=1.2, \n",
    "               min_samples=3)  ## init DBSCAN object"
   ]
  },
  {
   "cell_type": "code",
   "execution_count": 40,
   "metadata": {},
   "outputs": [],
   "source": [
    "pred_dbs = dbscan.fit_predict(processed)  ## Perform scaling and PCA, then apply DBSCAN to the derived variables"
   ]
  },
  {
   "cell_type": "code",
   "execution_count": 41,
   "metadata": {
    "scrolled": true
   },
   "outputs": [
    {
     "data": {
      "text/plain": [
       "array([ 0,  0,  0,  0,  0,  0,  0,  0,  0,  0,  0,  0,  0,  0,  0,  0,  0,\n",
       "        0,  0,  0,  0, -1,  0,  0,  0,  0,  0,  0,  0,  0,  0,  0,  0,  0,\n",
       "        0,  0,  0,  0,  0,  0,  0,  0,  0,  0,  0,  0,  0, -1,  0,  0,  0,\n",
       "        0,  0,  0,  0,  0, -1,  0,  0,  0,  0, -1,  0,  0,  0,  0,  0,  0,\n",
       "        0,  0, -1,  0,  0,  0,  0,  0,  0,  0,  0,  0,  0,  0,  0,  0, -1,\n",
       "        0,  0,  0,  0,  0,  0,  0,  0,  0,  0,  0,  0,  0,  0,  0,  0,  0,\n",
       "        0, -1, -1, -1, -1, -1, -1, -1, -1, -1, -1,  0,  0,  0,  0,  0,  0,\n",
       "        0,  0,  0,  0,  0,  0,  0,  0,  1,  1,  1, -1, -1,  0,  0,  0,  0,\n",
       "        0,  0,  0,  0,  0,  0,  0,  0,  0,  0,  0,  0,  0,  0,  0,  0,  0,\n",
       "        0,  0,  0,  0,  0,  0,  0,  0, -1, -1, -1, -1, -1, -1, -1, -1, -1,\n",
       "       -1, -1, -1, -1, -1, -1,  0,  0,  0,  0, -1, -1, -1, -1, -1, -1, -1,\n",
       "        0, -1, -1, -1,  2,  2,  3,  3,  2,  2,  2,  2,  2,  2, -1,  2,  3,\n",
       "        2,  3,  3, -1,  2,  2,  3,  3,  3,  3], dtype=int64)"
      ]
     },
     "execution_count": 41,
     "metadata": {},
     "output_type": "execute_result"
    }
   ],
   "source": [
    "pred_dbs"
   ]
  },
  {
   "cell_type": "code",
   "execution_count": 42,
   "metadata": {},
   "outputs": [
    {
     "data": {
      "text/plain": [
       "{-1, 0, 1, 2, 3}"
      ]
     },
     "execution_count": 42,
     "metadata": {},
     "output_type": "execute_result"
    }
   ],
   "source": [
    "set(pred_dbs)"
   ]
  },
  {
   "cell_type": "markdown",
   "metadata": {},
   "source": [
    "**DBSCAN gives me only 5 groups**"
   ]
  },
  {
   "cell_type": "code",
   "execution_count": 43,
   "metadata": {},
   "outputs": [
    {
     "data": {
      "image/png": "[encoded data removed]",
      "text/plain": [
       "<Figure size 432x288 with 1 Axes>"
      ]
     },
     "metadata": {
      "needs_background": "light"
     },
     "output_type": "display_data"
    }
   ],
   "source": [
    "plt.scatter(processed[:,0], processed[:,1], c=pred_dbs) \n",
    "plt.xlabel('Principal Component 1',fontsize=12)\n",
    "plt.ylabel('Principal Component 2',fontsize=12);"
   ]
  },
  {
   "cell_type": "code",
   "execution_count": null,
   "metadata": {},
   "outputs": [],
   "source": []
  },
  {
   "cell_type": "markdown",
   "metadata": {},
   "source": [
    "## Hierarchical Clustering\n",
    "- Perform hierarchical clustering\n",
    "- Plot the clustering dendrogram using complete, single, and average linkage, with Euclidean distance as the dissimilarity measure."
   ]
  },
  {
   "cell_type": "markdown",
   "metadata": {},
   "source": [
    "Ref: https://www.analyticsvidhya.com/blog/2019/05/beginners-guide-hierarchical-clustering/\n",
    "\n",
    "- In the dataset, for columns, I have multiple product categories – Fresh, Milk, Grocery, etc. \n",
    "- The values represent the number of units purchased by each client for each product. \n",
    "- Our aim is to cluster this data to segment similar clients together. \n",
    "- We will use Hierarchical Clustering for this problem."
   ]
  },
  {
   "cell_type": "markdown",
   "metadata": {},
   "source": [
    "**Import**"
   ]
  },
  {
   "cell_type": "code",
   "execution_count": 44,
   "metadata": {},
   "outputs": [],
   "source": [
    "data = pd.read_csv(\"data/Wholesale customers data.csv\")"
   ]
  },
  {
   "cell_type": "code",
   "execution_count": 45,
   "metadata": {},
   "outputs": [
    {
     "data": {
      "text/html": [
       "<div>\n",
       "<style scoped>\n",
       "    .dataframe tbody tr th:only-of-type {\n",
       "        vertical-align: middle;\n",
       "    }\n",
       "\n",
       "    .dataframe tbody tr th {\n",
       "        vertical-align: top;\n",
       "    }\n",
       "\n",
       "    .dataframe thead th {\n",
       "        text-align: right;\n",
       "    }\n",
       "</style>\n",
       "<table border=\"1\" class=\"dataframe\">\n",
       "  <thead>\n",
       "    <tr style=\"text-align: right;\">\n",
       "      <th></th>\n",
       "      <th>Channel</th>\n",
       "      <th>Region</th>\n",
       "      <th>Fresh</th>\n",
       "      <th>Milk</th>\n",
       "      <th>Grocery</th>\n",
       "      <th>Frozen</th>\n",
       "      <th>Detergents_Paper</th>\n",
       "      <th>Delicassen</th>\n",
       "    </tr>\n",
       "  </thead>\n",
       "  <tbody>\n",
       "    <tr>\n",
       "      <th>0</th>\n",
       "      <td>2</td>\n",
       "      <td>3</td>\n",
       "      <td>12669</td>\n",
       "      <td>9656</td>\n",
       "      <td>7561</td>\n",
       "      <td>214</td>\n",
       "      <td>2674</td>\n",
       "      <td>1338</td>\n",
       "    </tr>\n",
       "    <tr>\n",
       "      <th>1</th>\n",
       "      <td>2</td>\n",
       "      <td>3</td>\n",
       "      <td>7057</td>\n",
       "      <td>9810</td>\n",
       "      <td>9568</td>\n",
       "      <td>1762</td>\n",
       "      <td>3293</td>\n",
       "      <td>1776</td>\n",
       "    </tr>\n",
       "    <tr>\n",
       "      <th>2</th>\n",
       "      <td>2</td>\n",
       "      <td>3</td>\n",
       "      <td>6353</td>\n",
       "      <td>8808</td>\n",
       "      <td>7684</td>\n",
       "      <td>2405</td>\n",
       "      <td>3516</td>\n",
       "      <td>7844</td>\n",
       "    </tr>\n",
       "    <tr>\n",
       "      <th>3</th>\n",
       "      <td>1</td>\n",
       "      <td>3</td>\n",
       "      <td>13265</td>\n",
       "      <td>1196</td>\n",
       "      <td>4221</td>\n",
       "      <td>6404</td>\n",
       "      <td>507</td>\n",
       "      <td>1788</td>\n",
       "    </tr>\n",
       "    <tr>\n",
       "      <th>4</th>\n",
       "      <td>2</td>\n",
       "      <td>3</td>\n",
       "      <td>22615</td>\n",
       "      <td>5410</td>\n",
       "      <td>7198</td>\n",
       "      <td>3915</td>\n",
       "      <td>1777</td>\n",
       "      <td>5185</td>\n",
       "    </tr>\n",
       "  </tbody>\n",
       "</table>\n",
       "</div>"
      ],
      "text/plain": [
       "   Channel  Region  Fresh  Milk  Grocery  Frozen  Detergents_Paper  Delicassen\n",
       "0        2       3  12669  9656     7561     214              2674        1338\n",
       "1        2       3   7057  9810     9568    1762              3293        1776\n",
       "2        2       3   6353  8808     7684    2405              3516        7844\n",
       "3        1       3  13265  1196     4221    6404               507        1788\n",
       "4        2       3  22615  5410     7198    3915              1777        5185"
      ]
     },
     "execution_count": 45,
     "metadata": {},
     "output_type": "execute_result"
    }
   ],
   "source": [
    "data.head()"
   ]
  },
  {
   "cell_type": "markdown",
   "metadata": {},
   "source": [
    "**Before applying Hierarchical Clustering, we have to normalize the data so that the scale of each variable is the same. Why is this important? If the scale of the variables is not the same, the model might become biased towards the variables with a higher magnitude like Fresh or Milk.** "
   ]
  },
  {
   "cell_type": "code",
   "execution_count": 46,
   "metadata": {},
   "outputs": [
    {
     "data": {
      "text/html": [
       "<div>\n",
       "<style scoped>\n",
       "    .dataframe tbody tr th:only-of-type {\n",
       "        vertical-align: middle;\n",
       "    }\n",
       "\n",
       "    .dataframe tbody tr th {\n",
       "        vertical-align: top;\n",
       "    }\n",
       "\n",
       "    .dataframe thead th {\n",
       "        text-align: right;\n",
       "    }\n",
       "</style>\n",
       "<table border=\"1\" class=\"dataframe\">\n",
       "  <thead>\n",
       "    <tr style=\"text-align: right;\">\n",
       "      <th></th>\n",
       "      <th>Channel</th>\n",
       "      <th>Region</th>\n",
       "      <th>Fresh</th>\n",
       "      <th>Milk</th>\n",
       "      <th>Grocery</th>\n",
       "      <th>Frozen</th>\n",
       "      <th>Detergents_Paper</th>\n",
       "      <th>Delicassen</th>\n",
       "    </tr>\n",
       "  </thead>\n",
       "  <tbody>\n",
       "    <tr>\n",
       "      <th>0</th>\n",
       "      <td>0.000112</td>\n",
       "      <td>0.000168</td>\n",
       "      <td>0.708333</td>\n",
       "      <td>0.539874</td>\n",
       "      <td>0.422741</td>\n",
       "      <td>0.011965</td>\n",
       "      <td>0.149505</td>\n",
       "      <td>0.074809</td>\n",
       "    </tr>\n",
       "    <tr>\n",
       "      <th>1</th>\n",
       "      <td>0.000125</td>\n",
       "      <td>0.000188</td>\n",
       "      <td>0.442198</td>\n",
       "      <td>0.614704</td>\n",
       "      <td>0.599540</td>\n",
       "      <td>0.110409</td>\n",
       "      <td>0.206342</td>\n",
       "      <td>0.111286</td>\n",
       "    </tr>\n",
       "    <tr>\n",
       "      <th>2</th>\n",
       "      <td>0.000125</td>\n",
       "      <td>0.000187</td>\n",
       "      <td>0.396552</td>\n",
       "      <td>0.549792</td>\n",
       "      <td>0.479632</td>\n",
       "      <td>0.150119</td>\n",
       "      <td>0.219467</td>\n",
       "      <td>0.489619</td>\n",
       "    </tr>\n",
       "    <tr>\n",
       "      <th>3</th>\n",
       "      <td>0.000065</td>\n",
       "      <td>0.000194</td>\n",
       "      <td>0.856837</td>\n",
       "      <td>0.077254</td>\n",
       "      <td>0.272650</td>\n",
       "      <td>0.413659</td>\n",
       "      <td>0.032749</td>\n",
       "      <td>0.115494</td>\n",
       "    </tr>\n",
       "    <tr>\n",
       "      <th>4</th>\n",
       "      <td>0.000079</td>\n",
       "      <td>0.000119</td>\n",
       "      <td>0.895416</td>\n",
       "      <td>0.214203</td>\n",
       "      <td>0.284997</td>\n",
       "      <td>0.155010</td>\n",
       "      <td>0.070358</td>\n",
       "      <td>0.205294</td>\n",
       "    </tr>\n",
       "  </tbody>\n",
       "</table>\n",
       "</div>"
      ],
      "text/plain": [
       "    Channel    Region     Fresh      Milk   Grocery    Frozen  \\\n",
       "0  0.000112  0.000168  0.708333  0.539874  0.422741  0.011965   \n",
       "1  0.000125  0.000188  0.442198  0.614704  0.599540  0.110409   \n",
       "2  0.000125  0.000187  0.396552  0.549792  0.479632  0.150119   \n",
       "3  0.000065  0.000194  0.856837  0.077254  0.272650  0.413659   \n",
       "4  0.000079  0.000119  0.895416  0.214203  0.284997  0.155010   \n",
       "\n",
       "   Detergents_Paper  Delicassen  \n",
       "0          0.149505    0.074809  \n",
       "1          0.206342    0.111286  \n",
       "2          0.219467    0.489619  \n",
       "3          0.032749    0.115494  \n",
       "4          0.070358    0.205294  "
      ]
     },
     "execution_count": 46,
     "metadata": {},
     "output_type": "execute_result"
    }
   ],
   "source": [
    "data_scaled = normalize(data)\n",
    "data_scaled = pd.DataFrame(data_scaled, columns=data.columns)\n",
    "data_scaled.head()"
   ]
  },
  {
   "cell_type": "markdown",
   "metadata": {},
   "source": [
    "**Let’s first draw the dendrogram to help us decide the number of clusters for this particular problem.**"
   ]
  },
  {
   "cell_type": "code",
   "execution_count": 47,
   "metadata": {},
   "outputs": [
    {
     "data": {
      "text/plain": [
       "Text(0.5, 1.0, 'Dendrograms')"
      ]
     },
     "execution_count": 47,
     "metadata": {},
     "output_type": "execute_result"
    },
    {
     "data": {
      "image/png": "[encoded data removed]",
      "text/plain": [
       "<Figure size 720x504 with 1 Axes>"
      ]
     },
     "metadata": {
      "needs_background": "light"
     },
     "output_type": "display_data"
    }
   ],
   "source": [
    "plt.figure(figsize=(10, 7))  \n",
    "dend = shc.dendrogram(shc.linkage(data_scaled, method='ward'))\n",
    "plt.title(\"Dendrograms\")  "
   ]
  },
  {
   "cell_type": "markdown",
   "metadata": {},
   "source": [
    "- The x-axis contains the samples and y-axis represents the Euclidean distance between these samples. \n",
    "- The algorithm will stop once one big (single group) cluster is formed. \n",
    "- Next, we examine the dendrogram. We identify the longest vertical line without any horizontal line passing through it. Then we draw a horizontal line that intersects with this vertical line. \n",
    "- The number of vertical lines of the dendrogram this newly created horizontal line passes is equal to number of clusters.\n",
    "- We see from the above steps, we identify 6 as the max dissimiliar measure (min Euclidean distance) between the clusters.\n",
    "- We have 2 clusters."
   ]
  },
  {
   "cell_type": "code",
   "execution_count": 48,
   "metadata": {},
   "outputs": [],
   "source": [
    "linked = shc.linkage(data_scaled, \n",
    "                    # \"single\", \"centroid\", \"median\", ‘complete’, ‘average’, ‘weighted', 'ward'\n",
    "                     method = 'ward',\n",
    "                     # braycurtis’, ‘canberra’, ‘chebyshev’, ‘cityblock’, ‘correlation’, ‘cosine’, ‘dice’, ‘euclidean’, \n",
    "                     # ‘hamming’, ‘jaccard’, ‘jensenshannon’, ‘kulsinski’, ‘mahalanobis’, ‘matching’, ‘minkowski’, \n",
    "                     # ‘rogerstanimoto’, ‘russellrao’, ‘seuclidean’, ‘sokalmichener’, ‘sokalsneath’, \n",
    "                     # ‘sqeuclidean’, ‘yule’\n",
    "                     metric = 'euclidean') "
   ]
  },
  {
   "cell_type": "code",
   "execution_count": 49,
   "metadata": {},
   "outputs": [
    {
     "data": {
      "text/plain": [
       "<matplotlib.lines.Line2D at 0x26f2b3608c8>"
      ]
     },
     "execution_count": 49,
     "metadata": {},
     "output_type": "execute_result"
    },
    {
     "data": {
      "image/png": "[encoded data removed]",
      "text/plain": [
       "<Figure size 720x504 with 1 Axes>"
      ]
     },
     "metadata": {
      "needs_background": "light"
     },
     "output_type": "display_data"
    }
   ],
   "source": [
    "plt.figure(figsize=(10, 7))  \n",
    "plt.title(\"Dendrograms\")  \n",
    "dend = shc.dendrogram(linked)\n",
    "plt.axhline(y=6, color='r', linestyle='--')"
   ]
  },
  {
   "cell_type": "markdown",
   "metadata": {},
   "source": [
    "**Let's apply hierarchical clustering for 2 clusters.**"
   ]
  },
  {
   "cell_type": "code",
   "execution_count": 50,
   "metadata": {},
   "outputs": [],
   "source": [
    "from sklearn.cluster import AgglomerativeClustering\n",
    "\n",
    "\n",
    "cluster = AgglomerativeClustering(n_clusters=2,  # number of clusters\n",
    "                                  affinity='euclidean', # disimiliarity measure\n",
    "                                  linkage='ward')  # linkage method \n",
    "\n",
    "pred = cluster.fit_predict(data_scaled)  # Can also use cluster.labels_"
   ]
  },
  {
   "cell_type": "code",
   "execution_count": 51,
   "metadata": {},
   "outputs": [
    {
     "data": {
      "text/plain": [
       "array([1, 1, 1, 0, 0, 1, 0, 1, 1, 1, 1, 0, 0, 0, 0, 0, 1, 1, 0, 0, 0, 0,\n",
       "       0, 1, 0, 0, 0, 0, 1, 0, 0, 1, 0, 0, 1, 1, 0, 1, 1, 0, 0, 0, 1, 1,\n",
       "       1, 1, 1, 1, 1, 1, 0, 1, 0, 1, 0, 1, 1, 1, 0, 1, 0, 1, 1, 1, 0, 1,\n",
       "       1, 0, 1, 0, 0, 0, 0, 0, 1, 0, 0, 1, 0, 1, 0, 1, 1, 0, 0, 1, 1, 0,\n",
       "       0, 0, 0, 0, 1, 0, 1, 1, 1, 0, 0, 0, 1, 1, 1, 0, 0, 0, 1, 1, 1, 1,\n",
       "       0, 1, 0, 0, 0, 0, 0, 1, 0, 0, 0, 0, 0, 1, 0, 0, 0, 0, 1, 0, 0, 0,\n",
       "       0, 0, 0, 0, 1, 1, 0, 1, 0, 0, 0, 0, 0, 1, 0, 0, 0, 0, 0, 1, 0, 1,\n",
       "       0, 1, 1, 0, 1, 1, 1, 0, 0, 1, 1, 1, 1, 1, 0, 0, 1, 1, 1, 1, 1, 1,\n",
       "       0, 0, 0, 1, 0, 0, 1, 1, 1, 0, 0, 1, 1, 1, 0, 0, 0, 1, 0, 0, 0, 1,\n",
       "       0, 0, 1, 1, 0, 1, 1, 1, 0, 1, 1, 1, 0, 1, 0, 1, 1, 1, 1, 0, 1, 0,\n",
       "       0, 1, 0, 0, 0, 0, 0, 0, 1, 0, 0, 1, 0, 1, 0, 1, 0, 0, 0, 0, 0, 0,\n",
       "       0, 0, 1, 1, 0, 0, 0, 0, 0, 1, 0, 0, 1, 0, 0, 0, 0, 0, 0, 0, 0, 1,\n",
       "       1, 1, 1, 0, 1, 0, 0, 1, 1, 0, 1, 1, 0, 0, 0, 0, 1, 0, 0, 0, 0, 0,\n",
       "       0, 0, 0, 0, 1, 0, 1, 1, 0, 0, 0, 0, 1, 1, 0, 1, 1, 1, 1, 1, 1, 0,\n",
       "       0, 1, 0, 0, 1, 0, 0, 1, 0, 1, 0, 1, 1, 0, 0, 0, 0, 0, 0, 1, 0, 0,\n",
       "       0, 1, 0, 1, 0, 0, 0, 0, 0, 0, 1, 1, 1, 1, 0, 1, 1, 0, 1, 1, 0, 1,\n",
       "       1, 1, 0, 1, 0, 1, 1, 1, 0, 0, 1, 0, 0, 1, 0, 0, 0, 0, 0, 0, 1, 0,\n",
       "       0, 0, 1, 0, 1, 1, 0, 0, 0, 0, 1, 0, 1, 0, 0, 0, 0, 1, 1, 0, 0, 0,\n",
       "       1, 0, 0, 0, 0, 0, 0, 0, 0, 0, 0, 1, 0, 0, 0, 1, 1, 0, 0, 1, 1, 1,\n",
       "       1, 0, 1, 0, 0, 0, 0, 0, 1, 0, 1, 0, 1, 0, 0, 1, 0, 0, 0, 1, 0, 1],\n",
       "      dtype=int64)"
      ]
     },
     "execution_count": 51,
     "metadata": {},
     "output_type": "execute_result"
    }
   ],
   "source": [
    "pred # We use HC to predict/assign a class label to each observation"
   ]
  },
  {
   "cell_type": "code",
   "execution_count": 52,
   "metadata": {},
   "outputs": [
    {
     "data": {
      "image/png": "[encoded data removed]",
      "text/plain": [
       "<Figure size 720x504 with 1 Axes>"
      ]
     },
     "metadata": {
      "needs_background": "light"
     },
     "output_type": "display_data"
    }
   ],
   "source": [
    "# We plot data in a 2-D feature space (use \"Milk\" and \"Grocery\")\n",
    "# We set color to the cluster labels\n",
    "plt.figure(figsize=(10, 7))  \n",
    "plt.scatter(data_scaled['Milk'], data_scaled['Grocery'], c=cluster.labels_)  # use hierarchical clustering\n",
    "plt.xlabel('Milk',fontsize=12)\n",
    "plt.ylabel('Grocery',fontsize=12);"
   ]
  },
  {
   "cell_type": "markdown",
   "metadata": {},
   "source": []
  },
  {
   "cell_type": "markdown",
   "metadata": {},
   "source": [
    "## Clustering on the NCI60 dataset\n",
    "- Consists of 6,830 gene expression measurements on 64 cancer cell lines.\n",
    "- 64 observations, 6830 features-- thus I have a high-dimensional setting."
   ]
  },
  {
   "cell_type": "code",
   "execution_count": 53,
   "metadata": {},
   "outputs": [
    {
     "data": {
      "text/html": [
       "<div>\n",
       "<style scoped>\n",
       "    .dataframe tbody tr th:only-of-type {\n",
       "        vertical-align: middle;\n",
       "    }\n",
       "\n",
       "    .dataframe tbody tr th {\n",
       "        vertical-align: top;\n",
       "    }\n",
       "\n",
       "    .dataframe thead th {\n",
       "        text-align: right;\n",
       "    }\n",
       "</style>\n",
       "<table border=\"1\" class=\"dataframe\">\n",
       "  <thead>\n",
       "    <tr style=\"text-align: right;\">\n",
       "      <th></th>\n",
       "      <th>data.1</th>\n",
       "      <th>data.2</th>\n",
       "      <th>data.3</th>\n",
       "      <th>data.4</th>\n",
       "      <th>data.5</th>\n",
       "      <th>data.6</th>\n",
       "      <th>data.7</th>\n",
       "      <th>data.8</th>\n",
       "      <th>data.9</th>\n",
       "      <th>data.10</th>\n",
       "      <th>...</th>\n",
       "      <th>data.6822</th>\n",
       "      <th>data.6823</th>\n",
       "      <th>data.6824</th>\n",
       "      <th>data.6825</th>\n",
       "      <th>data.6826</th>\n",
       "      <th>data.6827</th>\n",
       "      <th>data.6828</th>\n",
       "      <th>data.6829</th>\n",
       "      <th>data.6830</th>\n",
       "      <th>labs</th>\n",
       "    </tr>\n",
       "  </thead>\n",
       "  <tbody>\n",
       "    <tr>\n",
       "      <th>0</th>\n",
       "      <td>0.300000</td>\n",
       "      <td>1.180000</td>\n",
       "      <td>0.550000</td>\n",
       "      <td>1.140000</td>\n",
       "      <td>-0.265000</td>\n",
       "      <td>-7.000000e-02</td>\n",
       "      <td>0.350000</td>\n",
       "      <td>-0.315000</td>\n",
       "      <td>-0.450000</td>\n",
       "      <td>-0.654981</td>\n",
       "      <td>...</td>\n",
       "      <td>0.000000</td>\n",
       "      <td>0.030000</td>\n",
       "      <td>-0.175000</td>\n",
       "      <td>0.629981</td>\n",
       "      <td>-0.030000</td>\n",
       "      <td>0.000000</td>\n",
       "      <td>0.280000</td>\n",
       "      <td>-0.340000</td>\n",
       "      <td>-1.930000</td>\n",
       "      <td>CNS</td>\n",
       "    </tr>\n",
       "    <tr>\n",
       "      <th>1</th>\n",
       "      <td>0.679961</td>\n",
       "      <td>1.289961</td>\n",
       "      <td>0.169961</td>\n",
       "      <td>0.379961</td>\n",
       "      <td>0.464961</td>\n",
       "      <td>5.799610e-01</td>\n",
       "      <td>0.699961</td>\n",
       "      <td>0.724961</td>\n",
       "      <td>-0.040039</td>\n",
       "      <td>-0.285020</td>\n",
       "      <td>...</td>\n",
       "      <td>-0.300039</td>\n",
       "      <td>-0.250039</td>\n",
       "      <td>-0.535039</td>\n",
       "      <td>0.109941</td>\n",
       "      <td>-0.860039</td>\n",
       "      <td>-1.250049</td>\n",
       "      <td>-0.770039</td>\n",
       "      <td>-0.390039</td>\n",
       "      <td>-2.000039</td>\n",
       "      <td>CNS</td>\n",
       "    </tr>\n",
       "    <tr>\n",
       "      <th>2</th>\n",
       "      <td>0.940000</td>\n",
       "      <td>-0.040000</td>\n",
       "      <td>-0.170000</td>\n",
       "      <td>-0.040000</td>\n",
       "      <td>-0.605000</td>\n",
       "      <td>0.000000e+00</td>\n",
       "      <td>0.090000</td>\n",
       "      <td>0.645000</td>\n",
       "      <td>0.430000</td>\n",
       "      <td>0.475019</td>\n",
       "      <td>...</td>\n",
       "      <td>0.120000</td>\n",
       "      <td>-0.740000</td>\n",
       "      <td>-0.595000</td>\n",
       "      <td>-0.270020</td>\n",
       "      <td>-0.150000</td>\n",
       "      <td>0.000000</td>\n",
       "      <td>-0.120000</td>\n",
       "      <td>-0.410000</td>\n",
       "      <td>0.000000</td>\n",
       "      <td>CNS</td>\n",
       "    </tr>\n",
       "    <tr>\n",
       "      <th>3</th>\n",
       "      <td>0.280000</td>\n",
       "      <td>-0.310000</td>\n",
       "      <td>0.680000</td>\n",
       "      <td>-0.810000</td>\n",
       "      <td>0.625000</td>\n",
       "      <td>-1.387779e-17</td>\n",
       "      <td>0.170000</td>\n",
       "      <td>0.245000</td>\n",
       "      <td>0.020000</td>\n",
       "      <td>0.095019</td>\n",
       "      <td>...</td>\n",
       "      <td>-0.110000</td>\n",
       "      <td>-0.160000</td>\n",
       "      <td>0.095000</td>\n",
       "      <td>-0.350020</td>\n",
       "      <td>-0.300000</td>\n",
       "      <td>-1.150010</td>\n",
       "      <td>1.090000</td>\n",
       "      <td>-0.260000</td>\n",
       "      <td>-1.100000</td>\n",
       "      <td>RENAL</td>\n",
       "    </tr>\n",
       "    <tr>\n",
       "      <th>4</th>\n",
       "      <td>0.485000</td>\n",
       "      <td>-0.465000</td>\n",
       "      <td>0.395000</td>\n",
       "      <td>0.905000</td>\n",
       "      <td>0.200000</td>\n",
       "      <td>-5.000000e-03</td>\n",
       "      <td>0.085000</td>\n",
       "      <td>0.110000</td>\n",
       "      <td>0.235000</td>\n",
       "      <td>1.490019</td>\n",
       "      <td>...</td>\n",
       "      <td>-0.775000</td>\n",
       "      <td>-0.515000</td>\n",
       "      <td>-0.320000</td>\n",
       "      <td>0.634980</td>\n",
       "      <td>0.605000</td>\n",
       "      <td>0.000000</td>\n",
       "      <td>0.745000</td>\n",
       "      <td>0.425000</td>\n",
       "      <td>0.145000</td>\n",
       "      <td>BREAST</td>\n",
       "    </tr>\n",
       "  </tbody>\n",
       "</table>\n",
       "<p>5 rows × 6831 columns</p>\n",
       "</div>"
      ],
      "text/plain": [
       "     data.1    data.2    data.3    data.4    data.5        data.6    data.7  \\\n",
       "0  0.300000  1.180000  0.550000  1.140000 -0.265000 -7.000000e-02  0.350000   \n",
       "1  0.679961  1.289961  0.169961  0.379961  0.464961  5.799610e-01  0.699961   \n",
       "2  0.940000 -0.040000 -0.170000 -0.040000 -0.605000  0.000000e+00  0.090000   \n",
       "3  0.280000 -0.310000  0.680000 -0.810000  0.625000 -1.387779e-17  0.170000   \n",
       "4  0.485000 -0.465000  0.395000  0.905000  0.200000 -5.000000e-03  0.085000   \n",
       "\n",
       "     data.8    data.9   data.10  ...  data.6822  data.6823  data.6824  \\\n",
       "0 -0.315000 -0.450000 -0.654981  ...   0.000000   0.030000  -0.175000   \n",
       "1  0.724961 -0.040039 -0.285020  ...  -0.300039  -0.250039  -0.535039   \n",
       "2  0.645000  0.430000  0.475019  ...   0.120000  -0.740000  -0.595000   \n",
       "3  0.245000  0.020000  0.095019  ...  -0.110000  -0.160000   0.095000   \n",
       "4  0.110000  0.235000  1.490019  ...  -0.775000  -0.515000  -0.320000   \n",
       "\n",
       "   data.6825  data.6826  data.6827  data.6828  data.6829  data.6830    labs  \n",
       "0   0.629981  -0.030000   0.000000   0.280000  -0.340000  -1.930000     CNS  \n",
       "1   0.109941  -0.860039  -1.250049  -0.770039  -0.390039  -2.000039     CNS  \n",
       "2  -0.270020  -0.150000   0.000000  -0.120000  -0.410000   0.000000     CNS  \n",
       "3  -0.350020  -0.300000  -1.150010   1.090000  -0.260000  -1.100000   RENAL  \n",
       "4   0.634980   0.605000   0.000000   0.745000   0.425000   0.145000  BREAST  \n",
       "\n",
       "[5 rows x 6831 columns]"
      ]
     },
     "execution_count": 53,
     "metadata": {},
     "output_type": "execute_result"
    }
   ],
   "source": [
    "data = pd.read_csv('data/NCI60.csv').drop(\"Unnamed: 0\", axis=1)\n",
    "data.head()"
   ]
  },
  {
   "cell_type": "code",
   "execution_count": 54,
   "metadata": {},
   "outputs": [
    {
     "data": {
      "text/plain": [
       "RENAL          9\n",
       "NSCLC          9\n",
       "MELANOMA       8\n",
       "COLON          7\n",
       "BREAST         7\n",
       "OVARIAN        6\n",
       "LEUKEMIA       6\n",
       "CNS            5\n",
       "PROSTATE       2\n",
       "MCF7A-repro    1\n",
       "K562B-repro    1\n",
       "MCF7D-repro    1\n",
       "UNKNOWN        1\n",
       "K562A-repro    1\n",
       "Name: labs, dtype: int64"
      ]
     },
     "execution_count": 54,
     "metadata": {},
     "output_type": "execute_result"
    }
   ],
   "source": [
    "data.labs.value_counts()"
   ]
  },
  {
   "cell_type": "code",
   "execution_count": 55,
   "metadata": {},
   "outputs": [
    {
     "data": {
      "text/plain": [
       "{'BREAST',\n",
       " 'CNS',\n",
       " 'COLON',\n",
       " 'K562A-repro',\n",
       " 'K562B-repro',\n",
       " 'LEUKEMIA',\n",
       " 'MCF7A-repro',\n",
       " 'MCF7D-repro',\n",
       " 'MELANOMA',\n",
       " 'NSCLC',\n",
       " 'OVARIAN',\n",
       " 'PROSTATE',\n",
       " 'RENAL',\n",
       " 'UNKNOWN'}"
      ]
     },
     "execution_count": 55,
     "metadata": {},
     "output_type": "execute_result"
    }
   ],
   "source": [
    "set(data.labs) # 14 classes"
   ]
  },
  {
   "cell_type": "code",
   "execution_count": 56,
   "metadata": {},
   "outputs": [
    {
     "data": {
      "text/plain": [
       "(64, 6831)"
      ]
     },
     "execution_count": 56,
     "metadata": {},
     "output_type": "execute_result"
    }
   ],
   "source": [
    "data.shape"
   ]
  },
  {
   "cell_type": "code",
   "execution_count": 57,
   "metadata": {},
   "outputs": [],
   "source": [
    "# Encode the labels\n",
    "enc = LabelEncoder()\n",
    "data[\"labs_encoded\"] = enc.fit_transform(data.labs)"
   ]
  },
  {
   "cell_type": "markdown",
   "metadata": {},
   "source": [
    "**We first perform PCA on the data after scaling the variables (genes) to have standard deviation one, although one could reasonably argue that it is better not to scale the genes.**"
   ]
  },
  {
   "cell_type": "code",
   "execution_count": 58,
   "metadata": {},
   "outputs": [
    {
     "data": {
      "text/html": [
       "<div>\n",
       "<style scoped>\n",
       "    .dataframe tbody tr th:only-of-type {\n",
       "        vertical-align: middle;\n",
       "    }\n",
       "\n",
       "    .dataframe tbody tr th {\n",
       "        vertical-align: top;\n",
       "    }\n",
       "\n",
       "    .dataframe thead th {\n",
       "        text-align: right;\n",
       "    }\n",
       "</style>\n",
       "<table border=\"1\" class=\"dataframe\">\n",
       "  <thead>\n",
       "    <tr style=\"text-align: right;\">\n",
       "      <th></th>\n",
       "      <th>data.1</th>\n",
       "      <th>data.2</th>\n",
       "      <th>data.3</th>\n",
       "      <th>data.4</th>\n",
       "      <th>data.5</th>\n",
       "      <th>data.6</th>\n",
       "      <th>data.7</th>\n",
       "      <th>data.8</th>\n",
       "      <th>data.9</th>\n",
       "      <th>data.10</th>\n",
       "      <th>...</th>\n",
       "      <th>data.6821</th>\n",
       "      <th>data.6822</th>\n",
       "      <th>data.6823</th>\n",
       "      <th>data.6824</th>\n",
       "      <th>data.6825</th>\n",
       "      <th>data.6826</th>\n",
       "      <th>data.6827</th>\n",
       "      <th>data.6828</th>\n",
       "      <th>data.6829</th>\n",
       "      <th>data.6830</th>\n",
       "    </tr>\n",
       "  </thead>\n",
       "  <tbody>\n",
       "    <tr>\n",
       "      <th>0</th>\n",
       "      <td>0.728671</td>\n",
       "      <td>1.607220</td>\n",
       "      <td>1.325688</td>\n",
       "      <td>1.355688</td>\n",
       "      <td>-0.604845</td>\n",
       "      <td>-0.220654</td>\n",
       "      <td>0.898137</td>\n",
       "      <td>-0.868741</td>\n",
       "      <td>-1.058612</td>\n",
       "      <td>-1.059174</td>\n",
       "      <td>...</td>\n",
       "      <td>-1.030663</td>\n",
       "      <td>-0.358518</td>\n",
       "      <td>-0.238245</td>\n",
       "      <td>-0.392487</td>\n",
       "      <td>0.831370</td>\n",
       "      <td>-0.200286</td>\n",
       "      <td>-0.075668</td>\n",
       "      <td>0.520893</td>\n",
       "      <td>-0.836365</td>\n",
       "      <td>-1.384675</td>\n",
       "    </tr>\n",
       "    <tr>\n",
       "      <th>1</th>\n",
       "      <td>1.596418</td>\n",
       "      <td>1.753544</td>\n",
       "      <td>0.441686</td>\n",
       "      <td>0.654119</td>\n",
       "      <td>0.911898</td>\n",
       "      <td>1.648748</td>\n",
       "      <td>1.849697</td>\n",
       "      <td>2.226625</td>\n",
       "      <td>-0.095860</td>\n",
       "      <td>-0.477977</td>\n",
       "      <td>...</td>\n",
       "      <td>-0.215657</td>\n",
       "      <td>-0.625720</td>\n",
       "      <td>-0.489938</td>\n",
       "      <td>-0.800791</td>\n",
       "      <td>0.013818</td>\n",
       "      <td>-1.105413</td>\n",
       "      <td>-1.117676</td>\n",
       "      <td>-0.823652</td>\n",
       "      <td>-0.925425</td>\n",
       "      <td>-1.431446</td>\n",
       "    </tr>\n",
       "    <tr>\n",
       "      <th>2</th>\n",
       "      <td>2.190290</td>\n",
       "      <td>-0.016217</td>\n",
       "      <td>-0.349092</td>\n",
       "      <td>0.266465</td>\n",
       "      <td>-1.311310</td>\n",
       "      <td>-0.019322</td>\n",
       "      <td>0.191185</td>\n",
       "      <td>1.988627</td>\n",
       "      <td>1.007979</td>\n",
       "      <td>0.716019</td>\n",
       "      <td>...</td>\n",
       "      <td>0.452274</td>\n",
       "      <td>-0.251651</td>\n",
       "      <td>-0.930304</td>\n",
       "      <td>-0.868790</td>\n",
       "      <td>-0.583517</td>\n",
       "      <td>-0.331142</td>\n",
       "      <td>-0.075668</td>\n",
       "      <td>0.008704</td>\n",
       "      <td>-0.960951</td>\n",
       "      <td>-0.095838</td>\n",
       "    </tr>\n",
       "    <tr>\n",
       "      <th>3</th>\n",
       "      <td>0.682995</td>\n",
       "      <td>-0.375502</td>\n",
       "      <td>1.628079</td>\n",
       "      <td>-0.444299</td>\n",
       "      <td>1.244434</td>\n",
       "      <td>-0.019322</td>\n",
       "      <td>0.408709</td>\n",
       "      <td>0.798057</td>\n",
       "      <td>0.045135</td>\n",
       "      <td>0.119051</td>\n",
       "      <td>...</td>\n",
       "      <td>-1.313667</td>\n",
       "      <td>-0.456479</td>\n",
       "      <td>-0.409013</td>\n",
       "      <td>-0.086293</td>\n",
       "      <td>-0.709285</td>\n",
       "      <td>-0.494711</td>\n",
       "      <td>-1.034286</td>\n",
       "      <td>1.558075</td>\n",
       "      <td>-0.693981</td>\n",
       "      <td>-0.830408</td>\n",
       "    </tr>\n",
       "    <tr>\n",
       "      <th>4</th>\n",
       "      <td>1.151170</td>\n",
       "      <td>-0.581759</td>\n",
       "      <td>0.965145</td>\n",
       "      <td>1.138767</td>\n",
       "      <td>0.361351</td>\n",
       "      <td>-0.033703</td>\n",
       "      <td>0.177590</td>\n",
       "      <td>0.396239</td>\n",
       "      <td>0.550041</td>\n",
       "      <td>2.310550</td>\n",
       "      <td>...</td>\n",
       "      <td>0.718297</td>\n",
       "      <td>-1.048700</td>\n",
       "      <td>-0.728079</td>\n",
       "      <td>-0.556925</td>\n",
       "      <td>0.839231</td>\n",
       "      <td>0.492157</td>\n",
       "      <td>-0.075668</td>\n",
       "      <td>1.116312</td>\n",
       "      <td>0.525182</td>\n",
       "      <td>0.000992</td>\n",
       "    </tr>\n",
       "  </tbody>\n",
       "</table>\n",
       "<p>5 rows × 6830 columns</p>\n",
       "</div>"
      ],
      "text/plain": [
       "     data.1    data.2    data.3    data.4    data.5    data.6    data.7  \\\n",
       "0  0.728671  1.607220  1.325688  1.355688 -0.604845 -0.220654  0.898137   \n",
       "1  1.596418  1.753544  0.441686  0.654119  0.911898  1.648748  1.849697   \n",
       "2  2.190290 -0.016217 -0.349092  0.266465 -1.311310 -0.019322  0.191185   \n",
       "3  0.682995 -0.375502  1.628079 -0.444299  1.244434 -0.019322  0.408709   \n",
       "4  1.151170 -0.581759  0.965145  1.138767  0.361351 -0.033703  0.177590   \n",
       "\n",
       "     data.8    data.9   data.10  ...  data.6821  data.6822  data.6823  \\\n",
       "0 -0.868741 -1.058612 -1.059174  ...  -1.030663  -0.358518  -0.238245   \n",
       "1  2.226625 -0.095860 -0.477977  ...  -0.215657  -0.625720  -0.489938   \n",
       "2  1.988627  1.007979  0.716019  ...   0.452274  -0.251651  -0.930304   \n",
       "3  0.798057  0.045135  0.119051  ...  -1.313667  -0.456479  -0.409013   \n",
       "4  0.396239  0.550041  2.310550  ...   0.718297  -1.048700  -0.728079   \n",
       "\n",
       "   data.6824  data.6825  data.6826  data.6827  data.6828  data.6829  data.6830  \n",
       "0  -0.392487   0.831370  -0.200286  -0.075668   0.520893  -0.836365  -1.384675  \n",
       "1  -0.800791   0.013818  -1.105413  -1.117676  -0.823652  -0.925425  -1.431446  \n",
       "2  -0.868790  -0.583517  -0.331142  -0.075668   0.008704  -0.960951  -0.095838  \n",
       "3  -0.086293  -0.709285  -0.494711  -1.034286   1.558075  -0.693981  -0.830408  \n",
       "4  -0.556925   0.839231   0.492157  -0.075668   1.116312   0.525182   0.000992  \n",
       "\n",
       "[5 rows x 6830 columns]"
      ]
     },
     "execution_count": 58,
     "metadata": {},
     "output_type": "execute_result"
    }
   ],
   "source": [
    "scaler = StandardScaler()\n",
    "data_scaled = scaler.fit_transform(data.iloc[:,:-2])\n",
    "data_scaled = pd.DataFrame(data_scaled, columns=data.columns.values[:-2])\n",
    "data_scaled.head()"
   ]
  },
  {
   "cell_type": "code",
   "execution_count": 59,
   "metadata": {},
   "outputs": [],
   "source": [
    "n_samples = data.shape[0] # number of observations\n",
    "n_features = data.shape[1]-2 # number of features (exclude \"labs\" and \"labs_ecnoded\")"
   ]
  },
  {
   "cell_type": "code",
   "execution_count": 60,
   "metadata": {},
   "outputs": [],
   "source": [
    "# I set n_component to min(n_samples = 64, n_features = 6830) = 64\n",
    "pca = PCA(n_components = min(n_samples, n_features))  # 64 observations with 64 derived features\n",
    "pca.fit(data_scaled)\n",
    "processed= pca.transform(data_scaled)"
   ]
  },
  {
   "cell_type": "code",
   "execution_count": 61,
   "metadata": {},
   "outputs": [
    {
     "data": {
      "text/plain": [
       "(64, 6830)"
      ]
     },
     "execution_count": 61,
     "metadata": {},
     "output_type": "execute_result"
    }
   ],
   "source": [
    "pca.components_.shape  # I have 64 derived variables (PCs) from 6830 original variables. So I have 64x6830 loadings"
   ]
  },
  {
   "cell_type": "markdown",
   "metadata": {},
   "source": [
    "**Plot of the cumulative explained variance**"
   ]
  },
  {
   "cell_type": "code",
   "execution_count": 62,
   "metadata": {
    "scrolled": true
   },
   "outputs": [
    {
     "data": {
      "text/plain": [
       "Text(0.5, 1.0, 'Cumulative explained variance plot')"
      ]
     },
     "execution_count": 62,
     "metadata": {},
     "output_type": "execute_result"
    },
    {
     "data": {
      "image/png": "[encoded data removed]",
      "text/plain": [
       "<Figure size 720x432 with 1 Axes>"
      ]
     },
     "metadata": {
      "needs_background": "light"
     },
     "output_type": "display_data"
    }
   ],
   "source": [
    "plt.figure(figsize=(10,6))\n",
    "plt.plot(np.cumsum(pca.explained_variance_ratio_))\n",
    "\n",
    "plt.xticks(fontsize=12)\n",
    "plt.yticks(fontsize=14)\n",
    "plt.xlabel('number of components', fontsize=16)\n",
    "plt.ylabel('cumulative explained variance', fontsize=16)\n",
    "plt.title('Cumulative explained variance plot', fontsize=16)"
   ]
  },
  {
   "cell_type": "code",
   "execution_count": null,
   "metadata": {},
   "outputs": [],
   "source": []
  },
  {
   "cell_type": "code",
   "execution_count": 63,
   "metadata": {},
   "outputs": [
    {
     "data": {
      "text/plain": [
       "Text(0.5, 1.0, 'Scree plot')"
      ]
     },
     "execution_count": 63,
     "metadata": {},
     "output_type": "execute_result"
    },
    {
     "data": {
      "image/png": "[encoded data removed]",
      "text/plain": [
       "<Figure size 720x432 with 1 Axes>"
      ]
     },
     "metadata": {
      "needs_background": "light"
     },
     "output_type": "display_data"
    }
   ],
   "source": [
    "plt.figure(figsize=(10,6))\n",
    "plt.plot(pca.explained_variance_ratio_)\n",
    "\n",
    "plt.xticks(fontsize=12)\n",
    "plt.yticks(fontsize=14)\n",
    "plt.xlabel('number of components', fontsize=16)\n",
    "plt.ylabel('proportion of explained variance', fontsize=16)\n",
    "plt.title('Scree plot', fontsize=16)"
   ]
  },
  {
   "cell_type": "code",
   "execution_count": 64,
   "metadata": {},
   "outputs": [
    {
     "data": {
      "text/plain": [
       "array([0.11358942, 0.06756203, 0.05751842, 0.04247554, 0.03734972])"
      ]
     },
     "execution_count": 64,
     "metadata": {},
     "output_type": "execute_result"
    }
   ],
   "source": [
    "pca.explained_variance_ratio_[:5] # The PVE of the first 5 PCs"
   ]
  },
  {
   "cell_type": "markdown",
   "metadata": {},
   "source": [
    "**Thoughts**\n",
    "- From the scree plot (PVE vs number of PCs), we see that there is an \"elbow\" at n_components =7. Thus, after PC7, the PVE of each subsequent PC is small.\n",
    "- From the cumulative variance plot, the first 7 PC explain close to 40% of the total variation in the observations."
   ]
  },
  {
   "cell_type": "markdown",
   "metadata": {},
   "source": [
    "**Plot observations in the PC1-PC2 feature space**"
   ]
  },
  {
   "cell_type": "code",
   "execution_count": 65,
   "metadata": {},
   "outputs": [
    {
     "data": {
      "image/png": "[encoded data removed]",
      "text/plain": [
       "<Figure size 720x432 with 2 Axes>"
      ]
     },
     "metadata": {
      "needs_background": "light"
     },
     "output_type": "display_data"
    }
   ],
   "source": [
    "fig, ax = plt.subplots(1,2,figsize=(10,6))\n",
    "ax[0].scatter(processed[:,0], processed[:,1], c= data.labs_encoded)\n",
    "ax[0].set_xlabel('Principal Component 1',fontsize=16)\n",
    "ax[0].set_ylabel('Principal Component 2',fontsize=16)\n",
    "\n",
    "\n",
    "ax[1].scatter(processed[:,0], processed[:,2], c= data.labs_encoded)\n",
    "ax[1].set_xlabel('Principal Component 1',fontsize=16)\n",
    "ax[1].set_ylabel('Principal Component 3',fontsize=16)\n",
    "# fig.tight_layout()\n",
    "\n",
    "plt.subplots_adjust(left=0.125,\n",
    "                    bottom=0.1, \n",
    "                    right=0.9, \n",
    "                    top=0.9, \n",
    "                    wspace=0.4, \n",
    "                    hspace=0.55)"
   ]
  },
  {
   "cell_type": "markdown",
   "metadata": {},
   "source": [
    "**Thoughts**\n",
    "- Projections of the NCI60 cancer cell lines onto the first three principal components (in other words, the scores for the first three principal components).\n",
    "- On the whole, observations belonging to a single cancer type tend to lie near each other in this low-dimensional space.\n",
    "- It would not have been possible to visualize the data without using a dimension reduction method such as PCA since there would have been two many possible pairs of features (too many scatterplots and none of them are informative)."
   ]
  },
  {
   "cell_type": "code",
   "execution_count": null,
   "metadata": {},
   "outputs": [],
   "source": []
  },
  {
   "cell_type": "markdown",
   "metadata": {},
   "source": [
    "## Hierarchical clustering of the NCI60 data\n",
    "- Standardize the data\n",
    "- Plot the dendrogram using complete linkage, average linkage, and single linkage. We use Euclidean distance as the dissimilarity measure.\n",
    "- Perform hierarchical clustering\n",
    "- The goal is to find out whether or not the observations cluster into distinct types of cancer."
   ]
  },
  {
   "cell_type": "code",
   "execution_count": 66,
   "metadata": {},
   "outputs": [
    {
     "data": {
      "text/html": [
       "<div>\n",
       "<style scoped>\n",
       "    .dataframe tbody tr th:only-of-type {\n",
       "        vertical-align: middle;\n",
       "    }\n",
       "\n",
       "    .dataframe tbody tr th {\n",
       "        vertical-align: top;\n",
       "    }\n",
       "\n",
       "    .dataframe thead th {\n",
       "        text-align: right;\n",
       "    }\n",
       "</style>\n",
       "<table border=\"1\" class=\"dataframe\">\n",
       "  <thead>\n",
       "    <tr style=\"text-align: right;\">\n",
       "      <th></th>\n",
       "      <th>data.1</th>\n",
       "      <th>data.2</th>\n",
       "      <th>data.3</th>\n",
       "      <th>data.4</th>\n",
       "      <th>data.5</th>\n",
       "      <th>data.6</th>\n",
       "      <th>data.7</th>\n",
       "      <th>data.8</th>\n",
       "      <th>data.9</th>\n",
       "      <th>data.10</th>\n",
       "      <th>...</th>\n",
       "      <th>data.6822</th>\n",
       "      <th>data.6823</th>\n",
       "      <th>data.6824</th>\n",
       "      <th>data.6825</th>\n",
       "      <th>data.6826</th>\n",
       "      <th>data.6827</th>\n",
       "      <th>data.6828</th>\n",
       "      <th>data.6829</th>\n",
       "      <th>data.6830</th>\n",
       "      <th>labs</th>\n",
       "    </tr>\n",
       "  </thead>\n",
       "  <tbody>\n",
       "    <tr>\n",
       "      <th>0</th>\n",
       "      <td>0.300000</td>\n",
       "      <td>1.180000</td>\n",
       "      <td>0.550000</td>\n",
       "      <td>1.140000</td>\n",
       "      <td>-0.265000</td>\n",
       "      <td>-7.000000e-02</td>\n",
       "      <td>0.350000</td>\n",
       "      <td>-0.315000</td>\n",
       "      <td>-0.450000</td>\n",
       "      <td>-0.654981</td>\n",
       "      <td>...</td>\n",
       "      <td>0.000000</td>\n",
       "      <td>0.030000</td>\n",
       "      <td>-0.175000</td>\n",
       "      <td>0.629981</td>\n",
       "      <td>-0.030000</td>\n",
       "      <td>0.000000</td>\n",
       "      <td>0.280000</td>\n",
       "      <td>-0.340000</td>\n",
       "      <td>-1.930000</td>\n",
       "      <td>CNS</td>\n",
       "    </tr>\n",
       "    <tr>\n",
       "      <th>1</th>\n",
       "      <td>0.679961</td>\n",
       "      <td>1.289961</td>\n",
       "      <td>0.169961</td>\n",
       "      <td>0.379961</td>\n",
       "      <td>0.464961</td>\n",
       "      <td>5.799610e-01</td>\n",
       "      <td>0.699961</td>\n",
       "      <td>0.724961</td>\n",
       "      <td>-0.040039</td>\n",
       "      <td>-0.285020</td>\n",
       "      <td>...</td>\n",
       "      <td>-0.300039</td>\n",
       "      <td>-0.250039</td>\n",
       "      <td>-0.535039</td>\n",
       "      <td>0.109941</td>\n",
       "      <td>-0.860039</td>\n",
       "      <td>-1.250049</td>\n",
       "      <td>-0.770039</td>\n",
       "      <td>-0.390039</td>\n",
       "      <td>-2.000039</td>\n",
       "      <td>CNS</td>\n",
       "    </tr>\n",
       "    <tr>\n",
       "      <th>2</th>\n",
       "      <td>0.940000</td>\n",
       "      <td>-0.040000</td>\n",
       "      <td>-0.170000</td>\n",
       "      <td>-0.040000</td>\n",
       "      <td>-0.605000</td>\n",
       "      <td>0.000000e+00</td>\n",
       "      <td>0.090000</td>\n",
       "      <td>0.645000</td>\n",
       "      <td>0.430000</td>\n",
       "      <td>0.475019</td>\n",
       "      <td>...</td>\n",
       "      <td>0.120000</td>\n",
       "      <td>-0.740000</td>\n",
       "      <td>-0.595000</td>\n",
       "      <td>-0.270020</td>\n",
       "      <td>-0.150000</td>\n",
       "      <td>0.000000</td>\n",
       "      <td>-0.120000</td>\n",
       "      <td>-0.410000</td>\n",
       "      <td>0.000000</td>\n",
       "      <td>CNS</td>\n",
       "    </tr>\n",
       "    <tr>\n",
       "      <th>3</th>\n",
       "      <td>0.280000</td>\n",
       "      <td>-0.310000</td>\n",
       "      <td>0.680000</td>\n",
       "      <td>-0.810000</td>\n",
       "      <td>0.625000</td>\n",
       "      <td>-1.387779e-17</td>\n",
       "      <td>0.170000</td>\n",
       "      <td>0.245000</td>\n",
       "      <td>0.020000</td>\n",
       "      <td>0.095019</td>\n",
       "      <td>...</td>\n",
       "      <td>-0.110000</td>\n",
       "      <td>-0.160000</td>\n",
       "      <td>0.095000</td>\n",
       "      <td>-0.350020</td>\n",
       "      <td>-0.300000</td>\n",
       "      <td>-1.150010</td>\n",
       "      <td>1.090000</td>\n",
       "      <td>-0.260000</td>\n",
       "      <td>-1.100000</td>\n",
       "      <td>RENAL</td>\n",
       "    </tr>\n",
       "    <tr>\n",
       "      <th>4</th>\n",
       "      <td>0.485000</td>\n",
       "      <td>-0.465000</td>\n",
       "      <td>0.395000</td>\n",
       "      <td>0.905000</td>\n",
       "      <td>0.200000</td>\n",
       "      <td>-5.000000e-03</td>\n",
       "      <td>0.085000</td>\n",
       "      <td>0.110000</td>\n",
       "      <td>0.235000</td>\n",
       "      <td>1.490019</td>\n",
       "      <td>...</td>\n",
       "      <td>-0.775000</td>\n",
       "      <td>-0.515000</td>\n",
       "      <td>-0.320000</td>\n",
       "      <td>0.634980</td>\n",
       "      <td>0.605000</td>\n",
       "      <td>0.000000</td>\n",
       "      <td>0.745000</td>\n",
       "      <td>0.425000</td>\n",
       "      <td>0.145000</td>\n",
       "      <td>BREAST</td>\n",
       "    </tr>\n",
       "  </tbody>\n",
       "</table>\n",
       "<p>5 rows × 6831 columns</p>\n",
       "</div>"
      ],
      "text/plain": [
       "     data.1    data.2    data.3    data.4    data.5        data.6    data.7  \\\n",
       "0  0.300000  1.180000  0.550000  1.140000 -0.265000 -7.000000e-02  0.350000   \n",
       "1  0.679961  1.289961  0.169961  0.379961  0.464961  5.799610e-01  0.699961   \n",
       "2  0.940000 -0.040000 -0.170000 -0.040000 -0.605000  0.000000e+00  0.090000   \n",
       "3  0.280000 -0.310000  0.680000 -0.810000  0.625000 -1.387779e-17  0.170000   \n",
       "4  0.485000 -0.465000  0.395000  0.905000  0.200000 -5.000000e-03  0.085000   \n",
       "\n",
       "     data.8    data.9   data.10  ...  data.6822  data.6823  data.6824  \\\n",
       "0 -0.315000 -0.450000 -0.654981  ...   0.000000   0.030000  -0.175000   \n",
       "1  0.724961 -0.040039 -0.285020  ...  -0.300039  -0.250039  -0.535039   \n",
       "2  0.645000  0.430000  0.475019  ...   0.120000  -0.740000  -0.595000   \n",
       "3  0.245000  0.020000  0.095019  ...  -0.110000  -0.160000   0.095000   \n",
       "4  0.110000  0.235000  1.490019  ...  -0.775000  -0.515000  -0.320000   \n",
       "\n",
       "   data.6825  data.6826  data.6827  data.6828  data.6829  data.6830    labs  \n",
       "0   0.629981  -0.030000   0.000000   0.280000  -0.340000  -1.930000     CNS  \n",
       "1   0.109941  -0.860039  -1.250049  -0.770039  -0.390039  -2.000039     CNS  \n",
       "2  -0.270020  -0.150000   0.000000  -0.120000  -0.410000   0.000000     CNS  \n",
       "3  -0.350020  -0.300000  -1.150010   1.090000  -0.260000  -1.100000   RENAL  \n",
       "4   0.634980   0.605000   0.000000   0.745000   0.425000   0.145000  BREAST  \n",
       "\n",
       "[5 rows x 6831 columns]"
      ]
     },
     "execution_count": 66,
     "metadata": {},
     "output_type": "execute_result"
    }
   ],
   "source": [
    "data = pd.read_csv('data/NCI60.csv').drop(\"Unnamed: 0\", axis=1)\n",
    "data.head()"
   ]
  },
  {
   "cell_type": "code",
   "execution_count": 67,
   "metadata": {},
   "outputs": [],
   "source": [
    "# Encode the labels\n",
    "enc = LabelEncoder()\n",
    "data[\"labs_encoded\"] = enc.fit_transform(data.labs)"
   ]
  },
  {
   "cell_type": "code",
   "execution_count": 68,
   "metadata": {},
   "outputs": [
    {
     "data": {
      "text/html": [
       "<div>\n",
       "<style scoped>\n",
       "    .dataframe tbody tr th:only-of-type {\n",
       "        vertical-align: middle;\n",
       "    }\n",
       "\n",
       "    .dataframe tbody tr th {\n",
       "        vertical-align: top;\n",
       "    }\n",
       "\n",
       "    .dataframe thead th {\n",
       "        text-align: right;\n",
       "    }\n",
       "</style>\n",
       "<table border=\"1\" class=\"dataframe\">\n",
       "  <thead>\n",
       "    <tr style=\"text-align: right;\">\n",
       "      <th></th>\n",
       "      <th>data.1</th>\n",
       "      <th>data.2</th>\n",
       "      <th>data.3</th>\n",
       "      <th>data.4</th>\n",
       "      <th>data.5</th>\n",
       "      <th>data.6</th>\n",
       "      <th>data.7</th>\n",
       "      <th>data.8</th>\n",
       "      <th>data.9</th>\n",
       "      <th>data.10</th>\n",
       "      <th>...</th>\n",
       "      <th>data.6821</th>\n",
       "      <th>data.6822</th>\n",
       "      <th>data.6823</th>\n",
       "      <th>data.6824</th>\n",
       "      <th>data.6825</th>\n",
       "      <th>data.6826</th>\n",
       "      <th>data.6827</th>\n",
       "      <th>data.6828</th>\n",
       "      <th>data.6829</th>\n",
       "      <th>data.6830</th>\n",
       "    </tr>\n",
       "  </thead>\n",
       "  <tbody>\n",
       "    <tr>\n",
       "      <th>0</th>\n",
       "      <td>0.728671</td>\n",
       "      <td>1.607220</td>\n",
       "      <td>1.325688</td>\n",
       "      <td>1.355688</td>\n",
       "      <td>-0.604845</td>\n",
       "      <td>-0.220654</td>\n",
       "      <td>0.898137</td>\n",
       "      <td>-0.868741</td>\n",
       "      <td>-1.058612</td>\n",
       "      <td>-1.059174</td>\n",
       "      <td>...</td>\n",
       "      <td>-1.030663</td>\n",
       "      <td>-0.358518</td>\n",
       "      <td>-0.238245</td>\n",
       "      <td>-0.392487</td>\n",
       "      <td>0.831370</td>\n",
       "      <td>-0.200286</td>\n",
       "      <td>-0.075668</td>\n",
       "      <td>0.520893</td>\n",
       "      <td>-0.836365</td>\n",
       "      <td>-1.384675</td>\n",
       "    </tr>\n",
       "    <tr>\n",
       "      <th>1</th>\n",
       "      <td>1.596418</td>\n",
       "      <td>1.753544</td>\n",
       "      <td>0.441686</td>\n",
       "      <td>0.654119</td>\n",
       "      <td>0.911898</td>\n",
       "      <td>1.648748</td>\n",
       "      <td>1.849697</td>\n",
       "      <td>2.226625</td>\n",
       "      <td>-0.095860</td>\n",
       "      <td>-0.477977</td>\n",
       "      <td>...</td>\n",
       "      <td>-0.215657</td>\n",
       "      <td>-0.625720</td>\n",
       "      <td>-0.489938</td>\n",
       "      <td>-0.800791</td>\n",
       "      <td>0.013818</td>\n",
       "      <td>-1.105413</td>\n",
       "      <td>-1.117676</td>\n",
       "      <td>-0.823652</td>\n",
       "      <td>-0.925425</td>\n",
       "      <td>-1.431446</td>\n",
       "    </tr>\n",
       "    <tr>\n",
       "      <th>2</th>\n",
       "      <td>2.190290</td>\n",
       "      <td>-0.016217</td>\n",
       "      <td>-0.349092</td>\n",
       "      <td>0.266465</td>\n",
       "      <td>-1.311310</td>\n",
       "      <td>-0.019322</td>\n",
       "      <td>0.191185</td>\n",
       "      <td>1.988627</td>\n",
       "      <td>1.007979</td>\n",
       "      <td>0.716019</td>\n",
       "      <td>...</td>\n",
       "      <td>0.452274</td>\n",
       "      <td>-0.251651</td>\n",
       "      <td>-0.930304</td>\n",
       "      <td>-0.868790</td>\n",
       "      <td>-0.583517</td>\n",
       "      <td>-0.331142</td>\n",
       "      <td>-0.075668</td>\n",
       "      <td>0.008704</td>\n",
       "      <td>-0.960951</td>\n",
       "      <td>-0.095838</td>\n",
       "    </tr>\n",
       "    <tr>\n",
       "      <th>3</th>\n",
       "      <td>0.682995</td>\n",
       "      <td>-0.375502</td>\n",
       "      <td>1.628079</td>\n",
       "      <td>-0.444299</td>\n",
       "      <td>1.244434</td>\n",
       "      <td>-0.019322</td>\n",
       "      <td>0.408709</td>\n",
       "      <td>0.798057</td>\n",
       "      <td>0.045135</td>\n",
       "      <td>0.119051</td>\n",
       "      <td>...</td>\n",
       "      <td>-1.313667</td>\n",
       "      <td>-0.456479</td>\n",
       "      <td>-0.409013</td>\n",
       "      <td>-0.086293</td>\n",
       "      <td>-0.709285</td>\n",
       "      <td>-0.494711</td>\n",
       "      <td>-1.034286</td>\n",
       "      <td>1.558075</td>\n",
       "      <td>-0.693981</td>\n",
       "      <td>-0.830408</td>\n",
       "    </tr>\n",
       "    <tr>\n",
       "      <th>4</th>\n",
       "      <td>1.151170</td>\n",
       "      <td>-0.581759</td>\n",
       "      <td>0.965145</td>\n",
       "      <td>1.138767</td>\n",
       "      <td>0.361351</td>\n",
       "      <td>-0.033703</td>\n",
       "      <td>0.177590</td>\n",
       "      <td>0.396239</td>\n",
       "      <td>0.550041</td>\n",
       "      <td>2.310550</td>\n",
       "      <td>...</td>\n",
       "      <td>0.718297</td>\n",
       "      <td>-1.048700</td>\n",
       "      <td>-0.728079</td>\n",
       "      <td>-0.556925</td>\n",
       "      <td>0.839231</td>\n",
       "      <td>0.492157</td>\n",
       "      <td>-0.075668</td>\n",
       "      <td>1.116312</td>\n",
       "      <td>0.525182</td>\n",
       "      <td>0.000992</td>\n",
       "    </tr>\n",
       "  </tbody>\n",
       "</table>\n",
       "<p>5 rows × 6830 columns</p>\n",
       "</div>"
      ],
      "text/plain": [
       "     data.1    data.2    data.3    data.4    data.5    data.6    data.7  \\\n",
       "0  0.728671  1.607220  1.325688  1.355688 -0.604845 -0.220654  0.898137   \n",
       "1  1.596418  1.753544  0.441686  0.654119  0.911898  1.648748  1.849697   \n",
       "2  2.190290 -0.016217 -0.349092  0.266465 -1.311310 -0.019322  0.191185   \n",
       "3  0.682995 -0.375502  1.628079 -0.444299  1.244434 -0.019322  0.408709   \n",
       "4  1.151170 -0.581759  0.965145  1.138767  0.361351 -0.033703  0.177590   \n",
       "\n",
       "     data.8    data.9   data.10  ...  data.6821  data.6822  data.6823  \\\n",
       "0 -0.868741 -1.058612 -1.059174  ...  -1.030663  -0.358518  -0.238245   \n",
       "1  2.226625 -0.095860 -0.477977  ...  -0.215657  -0.625720  -0.489938   \n",
       "2  1.988627  1.007979  0.716019  ...   0.452274  -0.251651  -0.930304   \n",
       "3  0.798057  0.045135  0.119051  ...  -1.313667  -0.456479  -0.409013   \n",
       "4  0.396239  0.550041  2.310550  ...   0.718297  -1.048700  -0.728079   \n",
       "\n",
       "   data.6824  data.6825  data.6826  data.6827  data.6828  data.6829  data.6830  \n",
       "0  -0.392487   0.831370  -0.200286  -0.075668   0.520893  -0.836365  -1.384675  \n",
       "1  -0.800791   0.013818  -1.105413  -1.117676  -0.823652  -0.925425  -1.431446  \n",
       "2  -0.868790  -0.583517  -0.331142  -0.075668   0.008704  -0.960951  -0.095838  \n",
       "3  -0.086293  -0.709285  -0.494711  -1.034286   1.558075  -0.693981  -0.830408  \n",
       "4  -0.556925   0.839231   0.492157  -0.075668   1.116312   0.525182   0.000992  \n",
       "\n",
       "[5 rows x 6830 columns]"
      ]
     },
     "execution_count": 68,
     "metadata": {},
     "output_type": "execute_result"
    }
   ],
   "source": [
    "scaler = StandardScaler()\n",
    "data_scaled = scaler.fit_transform(data.iloc[:,:-2])\n",
    "data_scaled = pd.DataFrame(data_scaled, columns=data.columns.values[:-2])\n",
    "data_scaled.head()"
   ]
  },
  {
   "cell_type": "markdown",
   "metadata": {},
   "source": [
    "**Dendrograms (complete linkage)**"
   ]
  },
  {
   "cell_type": "code",
   "execution_count": 69,
   "metadata": {},
   "outputs": [],
   "source": [
    "linked = shc.linkage(data_scaled, \n",
    "                     method = 'complete',\n",
    "                     metric = 'euclidean') "
   ]
  },
  {
   "cell_type": "code",
   "execution_count": 70,
   "metadata": {},
   "outputs": [
    {
     "data": {
      "image/png": "[encoded data removed]",
      "text/plain": [
       "<Figure size 720x504 with 1 Axes>"
      ]
     },
     "metadata": {
      "needs_background": "light"
     },
     "output_type": "display_data"
    }
   ],
   "source": [
    "plt.figure(figsize=(10, 7))  \n",
    "plt.title(\"Dendrograms (complete linkage)\")  \n",
    "dend = shc.dendrogram(linked)"
   ]
  },
  {
   "cell_type": "markdown",
   "metadata": {},
   "source": [
    "**Dendrograms (average linkage)**"
   ]
  },
  {
   "cell_type": "code",
   "execution_count": 71,
   "metadata": {},
   "outputs": [
    {
     "data": {
      "image/png": "[encoded data removed]",
      "text/plain": [
       "<Figure size 720x504 with 1 Axes>"
      ]
     },
     "metadata": {
      "needs_background": "light"
     },
     "output_type": "display_data"
    }
   ],
   "source": [
    "linked = shc.linkage(data_scaled, \n",
    "                     method = 'average',\n",
    "                     metric = 'euclidean') \n",
    "\n",
    "plt.figure(figsize=(10, 7))  \n",
    "plt.title(\"Dendrograms (average linkage)\")  \n",
    "dend = shc.dendrogram(linked)"
   ]
  },
  {
   "cell_type": "markdown",
   "metadata": {},
   "source": [
    "**Dendrograms (single linkage)**"
   ]
  },
  {
   "cell_type": "code",
   "execution_count": 72,
   "metadata": {},
   "outputs": [
    {
     "data": {
      "image/png": "[encoded data removed]",
      "text/plain": [
       "<Figure size 720x504 with 1 Axes>"
      ]
     },
     "metadata": {
      "needs_background": "light"
     },
     "output_type": "display_data"
    }
   ],
   "source": [
    "linked = shc.linkage(data_scaled, \n",
    "                     method = 'single',\n",
    "                     metric = 'euclidean') \n",
    "\n",
    "plt.figure(figsize=(10, 7))  \n",
    "plt.title(\"Dendrograms (single linkage)\")  \n",
    "dend = shc.dendrogram(linked)"
   ]
  },
  {
   "cell_type": "markdown",
   "metadata": {},
   "source": [
    "**Thoughts**\n",
    "- From the above dendrograms, we see that the choice of linkage affect the results obtained. \n",
    "- Typically, single linkage will tend to yield trailing clusters: very large clusters onto which individual observations\n",
    "attach one-by-one. \n",
    "- On the other hand, complete and average linkage tend to yield more even-sized and balanced clusters. \n",
    "- For this reason, complete and average linkage are generally preferred to single linkage."
   ]
  },
  {
   "cell_type": "markdown",
   "metadata": {},
   "source": [
    "**Cut the dendrogram**"
   ]
  },
  {
   "cell_type": "markdown",
   "metadata": {},
   "source": [
    "- From the dendrograms, cell lines within a single cancer type do tend to cluster together, although the clustering is not perfect. We will use complete linkage hierarchical clustering for the analysis that follows.\n",
    "- We can cut the dendrogram at the height that will yield a particular number of clusters, say four ( min Ecludiean distance between cluster = 140)."
   ]
  },
  {
   "cell_type": "code",
   "execution_count": 73,
   "metadata": {},
   "outputs": [
    {
     "data": {
      "text/plain": [
       "<matplotlib.lines.Line2D at 0x26f2c2f3488>"
      ]
     },
     "execution_count": 73,
     "metadata": {},
     "output_type": "execute_result"
    },
    {
     "data": {
      "image/png": "[encoded data removed]",
      "text/plain": [
       "<Figure size 720x504 with 1 Axes>"
      ]
     },
     "metadata": {
      "needs_background": "light"
     },
     "output_type": "display_data"
    }
   ],
   "source": [
    "linked = shc.linkage(data_scaled, \n",
    "                     method = 'complete',\n",
    "                     metric = 'euclidean') \n",
    "\n",
    "plt.figure(figsize=(10, 7))  \n",
    "plt.title(\"Dendrograms (complete linkage)\")  \n",
    "dend = shc.dendrogram(linked)\n",
    "plt.axhline(y=140, color='r', linestyle='--')"
   ]
  },
  {
   "cell_type": "code",
   "execution_count": 74,
   "metadata": {},
   "outputs": [],
   "source": [
    "cluster = AgglomerativeClustering(n_clusters=4,  # number of clusters\n",
    "                                  affinity='euclidean', # disimiliarity measure\n",
    "                                  linkage='complete')  # linkage method \n",
    "\n",
    "pred = cluster.fit_predict(data_scaled)  # Can also use cluster.labels_"
   ]
  },
  {
   "cell_type": "code",
   "execution_count": 75,
   "metadata": {
    "scrolled": true
   },
   "outputs": [
    {
     "data": {
      "text/plain": [
       "array([0, 0, 0, 0, 3, 3, 3, 3, 0, 0, 0, 0, 0, 0, 0, 0, 0, 3, 3, 3, 0, 0,\n",
       "       0, 0, 0, 0, 0, 0, 0, 0, 0, 0, 0, 1, 1, 1, 1, 1, 1, 1, 1, 0, 2, 0,\n",
       "       2, 2, 2, 2, 2, 2, 2, 2, 0, 0, 0, 0, 0, 0, 0, 0, 0, 0, 0, 0],\n",
       "      dtype=int64)"
      ]
     },
     "execution_count": 75,
     "metadata": {},
     "output_type": "execute_result"
    }
   ],
   "source": [
    "pred"
   ]
  },
  {
   "cell_type": "code",
   "execution_count": null,
   "metadata": {},
   "outputs": [],
   "source": []
  },
  {
   "cell_type": "markdown",
   "metadata": {},
   "source": [
    "**Perform PCA, then clustering**"
   ]
  },
  {
   "cell_type": "markdown",
   "metadata": {},
   "source": [
    "- Rather than performing hierarchical clustering on the entire data matrix, we can simply perform hierarchical clustering on the first few principal component score vectors.\n",
    "- Sometimes performing clustering on the first few principal component score vectors can give better results than performing clustering on the full data. In this situation, we might view the principal component step as one of denoising the data. We could also perform K-means clustering on the first few principal component score vectors rather than the full data set."
   ]
  },
  {
   "cell_type": "markdown",
   "metadata": {},
   "source": [
    "**PCA**"
   ]
  },
  {
   "cell_type": "code",
   "execution_count": 76,
   "metadata": {},
   "outputs": [],
   "source": [
    "n_samples = data_scaled.shape[0] # number of observations\n",
    "n_features = data_scaled.shape[1] # number of features "
   ]
  },
  {
   "cell_type": "code",
   "execution_count": 77,
   "metadata": {},
   "outputs": [],
   "source": [
    "# n_components = min(n_samples = 64, n_features = 6830)\n",
    "pca = PCA(n_components = min(n_samples, n_features))  # Thus, I have 64 derived variables, and 64 observations\n",
    "pca.fit(data_scaled)\n",
    "processed= pca.transform(data_scaled)"
   ]
  },
  {
   "cell_type": "code",
   "execution_count": 78,
   "metadata": {},
   "outputs": [
    {
     "data": {
      "text/plain": [
       "(64, 64)"
      ]
     },
     "execution_count": 78,
     "metadata": {},
     "output_type": "execute_result"
    }
   ],
   "source": [
    "processed.shape # 64 observations, with 6830 features that is \"summarized\" by 64 derived features."
   ]
  },
  {
   "cell_type": "markdown",
   "metadata": {},
   "source": [
    "**Perform hierarchical clustering on the derived features**"
   ]
  },
  {
   "cell_type": "code",
   "execution_count": 79,
   "metadata": {},
   "outputs": [],
   "source": [
    "cluster = AgglomerativeClustering(n_clusters=4,  # number of clusters\n",
    "                                  affinity='euclidean', # disimiliarity measure\n",
    "                                  linkage='complete')  # linkage method \n",
    "\n",
    "pred = cluster.fit_predict(processed)  # Can also use cluster.labels_"
   ]
  },
  {
   "cell_type": "code",
   "execution_count": 80,
   "metadata": {},
   "outputs": [
    {
     "data": {
      "image/png": "[encoded data removed]",
      "text/plain": [
       "<Figure size 720x504 with 1 Axes>"
      ]
     },
     "metadata": {
      "needs_background": "light"
     },
     "output_type": "display_data"
    }
   ],
   "source": [
    "# We plot data in a 2-D feature space (use PC1 and PC2)\n",
    "# We set color to the cluster labels\n",
    "plt.figure(figsize=(10, 7))  \n",
    "plt.scatter(processed[:,0], processed[:,1], c=cluster.labels_)  # clusters predicted by hierarchical clustering\n",
    "plt.xlabel('PC1',fontsize=12) \n",
    "plt.ylabel('PC2',fontsize=12)\n",
    "plt.title(\"Hierarchical Clustering of the derived variables (PCs) from the NCI60 data\", fontsize=16);"
   ]
  },
  {
   "cell_type": "markdown",
   "metadata": {},
   "source": [
    "**Perform K-means on the derived features**"
   ]
  },
  {
   "cell_type": "code",
   "execution_count": 81,
   "metadata": {},
   "outputs": [],
   "source": [
    "kmeans= KMeans(n_clusters = 4, # specify 4 clusters \n",
    "               n_init = 10, # the number of times the k-means algorithm will run with different initializations\n",
    "               max_iter = 300, # the number of iterations the k-means algorithm will have for a SINGLE run (default= 300)\n",
    "               random_state = 10,\n",
    "               verbose = 2,\n",
    "               n_jobs = -1)"
   ]
  },
  {
   "cell_type": "code",
   "execution_count": 82,
   "metadata": {},
   "outputs": [],
   "source": [
    "pred = kmeans.fit_predict(processed) # clustered on data processed with PCA"
   ]
  },
  {
   "cell_type": "code",
   "execution_count": 83,
   "metadata": {},
   "outputs": [
    {
     "data": {
      "image/png": "[encoded data removed]",
      "text/plain": [
       "<Figure size 720x504 with 1 Axes>"
      ]
     },
     "metadata": {
      "needs_background": "light"
     },
     "output_type": "display_data"
    }
   ],
   "source": [
    "plt.figure(figsize=(10, 7))  \n",
    "plt.scatter(processed[:,0],processed[:,1],c=pred) # k-means clusters\n",
    "plt.xlabel('PC1',fontsize=12)\n",
    "plt.ylabel('PC2',fontsize=12)\n",
    "plt.title(\"K-means Clustering of the derived variables (PCs) from the NCI60 data\", fontsize=16);"
   ]
  },
  {
   "cell_type": "markdown",
   "metadata": {},
   "source": [
    "- In general, the four clusters obtained using hierarchical clustering and Kmeans clustering are somewhat different. "
   ]
  },
  {
   "cell_type": "code",
   "execution_count": null,
   "metadata": {},
   "outputs": [],
   "source": []
  }
 ],
 "metadata": {
  "kernelspec": {
   "display_name": "Python 3",
   "language": "python",
   "name": "python3"
  },
  "language_info": {
   "codemirror_mode": {
    "name": "ipython",
    "version": 3
   },
   "file_extension": ".py",
   "mimetype": "text/x-python",
   "name": "python",
   "nbconvert_exporter": "python",
   "pygments_lexer": "ipython3",
   "version": "3.7.5"
  },
  "varInspector": {
   "cols": {
    "lenName": 16,
    "lenType": 16,
    "lenVar": 40
   },
   "kernels_config": {
    "python": {
     "delete_cmd_postfix": "",
     "delete_cmd_prefix": "del ",
     "library": "var_list.py",
     "varRefreshCmd": "print(var_dic_list())"
    },
    "r": {
     "delete_cmd_postfix": ") ",
     "delete_cmd_prefix": "rm(",
     "library": "var_list.r",
     "varRefreshCmd": "cat(var_dic_list()) "
    }
   },
   "types_to_exclude": [
    "module",
    "function",
    "builtin_function_or_method",
    "instance",
    "_Feature"
   ],
   "window_display": false
  }
 },
 "nbformat": 4,
 "nbformat_minor": 2
}
