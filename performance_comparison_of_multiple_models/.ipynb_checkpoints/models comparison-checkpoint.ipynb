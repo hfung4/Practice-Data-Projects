{
 "cells": [
  {
   "cell_type": "markdown",
   "metadata": {},
   "source": [
    "**The purpose of this notebook is to present ways in which we can compare multiple statistical learning approaches for a dataset**\n",
    "- For simplicity, I will use a toy dataset (breast cancer classification problem) from sklearn.\n",
    "- I will write a function that outputs a DataFrame that contains k estimated test error/accuracy (from CV) for each of the 6 models.\n",
    "- Next I will bootstrap 30 samples of the CV performance measures (time and fit) for each of the 6 models.\n",
    "- I will use data visualization to compare the average performance measures (time and fit) across the models."
   ]
  },
  {
   "cell_type": "markdown",
   "metadata": {},
   "source": [
    "**I will also write another function that (in a compact way) perform GridSearch on multiple models**\n",
    "- Create a pipeline that standardize the train data, then optimize and fit the model with GridSearchCV\n",
    "- Get a list of \"optimized\" models \n",
    "- Compare the optimized models and choose the \"best\" statistical learning approach based on highest AUC score (on the test dataset)"
   ]
  },
  {
   "cell_type": "code",
   "execution_count": null,
   "metadata": {},
   "outputs": [],
   "source": []
  },
  {
   "cell_type": "code",
   "execution_count": 161,
   "metadata": {},
   "outputs": [],
   "source": [
    "'''data'''\n",
    "import pandas as pd\n",
    "import numpy as np\n",
    "from scipy import stats\n",
    "import itertools\n",
    "from sklearn.pipeline import Pipeline\n",
    "\n",
    "'''plots'''\n",
    "import seaborn as sns\n",
    "import matplotlib.pyplot as plt\n",
    "%matplotlib inline\n",
    "\n",
    "'''models'''\n",
    "from sklearn.model_selection import train_test_split, StratifiedShuffleSplit, cross_validate \n",
    "from sklearn.ensemble import RandomForestClassifier\n",
    "from sklearn.naive_bayes import GaussianNB\n",
    "from sklearn.svm import SVC\n",
    "from sklearn.neighbors import KNeighborsClassifier\n",
    "from sklearn.linear_model import LogisticRegression, SGDClassifier\n",
    "from xgboost import XGBClassifier\n",
    "\n",
    "'''metrics'''\n",
    "from sklearn.metrics import accuracy_score, f1_score, roc_auc_score, auc, classification_report\n"
   ]
  },
  {
   "cell_type": "markdown",
   "metadata": {},
   "source": [
    "## Import Data"
   ]
  },
  {
   "cell_type": "code",
   "execution_count": 75,
   "metadata": {},
   "outputs": [],
   "source": [
    "from sklearn.datasets import load_breast_cancer"
   ]
  },
  {
   "cell_type": "code",
   "execution_count": 162,
   "metadata": {},
   "outputs": [],
   "source": [
    "feature_names=load_breast_cancer()['feature_names'] # Get the feature names of the dataset"
   ]
  },
  {
   "cell_type": "code",
   "execution_count": 163,
   "metadata": {},
   "outputs": [],
   "source": [
    "X, y = data = load_breast_cancer(return_X_y=True)  # Features and response variables"
   ]
  },
  {
   "cell_type": "code",
   "execution_count": 164,
   "metadata": {
    "scrolled": true
   },
   "outputs": [
    {
     "data": {
      "text/plain": [
       "((569, 30), (569,))"
      ]
     },
     "execution_count": 164,
     "metadata": {},
     "output_type": "execute_result"
    }
   ],
   "source": [
    "X.shape, y.shape"
   ]
  },
  {
   "cell_type": "markdown",
   "metadata": {},
   "source": [
    "## Train-Test Split"
   ]
  },
  {
   "cell_type": "code",
   "execution_count": 165,
   "metadata": {},
   "outputs": [],
   "source": [
    "X_train, X_test, y_train, y_test = train_test_split(X,y,test_size = 0.2, random_state=10)"
   ]
  },
  {
   "cell_type": "markdown",
   "metadata": {},
   "source": [
    "## Modelling"
   ]
  },
  {
   "cell_type": "markdown",
   "metadata": {},
   "source": [
    "This function outputs the classification report of each of the 6 models, and a DataFrame that contains the individual cv scores (5 folds) for each of the 6 models."
   ]
  },
  {
   "cell_type": "code",
   "execution_count": 166,
   "metadata": {},
   "outputs": [],
   "source": [
    "# A list of tuples that contains the estimator objects and their names\n",
    "models = [('LogReg', LogisticRegression()),\n",
    "          ('KNN', KNeighborsClassifier()),\n",
    "          ('gnb',GaussianNB()),\n",
    "          ('SVM', SVC()),          \n",
    "          ('rf', RandomForestClassifier()),\n",
    "          ('xgb', XGBClassifier())]"
   ]
  },
  {
   "cell_type": "code",
   "execution_count": 167,
   "metadata": {},
   "outputs": [],
   "source": [
    "''' Run models and find the model with the best performance'''\n",
    "def run_models (X_train: pd.DataFrame,\n",
    "                y_train: pd.DataFrame,\n",
    "                X_test: pd.DataFrame,\n",
    "                y_test: pd.DataFrame,\n",
    "                models) ->pd.DataFrame:\n",
    "    \n",
    "    # contains a list of DataFrames of CV results of each classifier\n",
    "    dfs = []\n",
    "    \n",
    "    scoring = ['accuracy', 'f1_weighted', 'roc_auc']  # use three different scoring methods\n",
    "    \n",
    "    for name, model in models: # model name and model objects\n",
    "        \n",
    "        # Get the estimated test error (from CV)\n",
    "        this_cv = StratifiedShuffleSplit(n_splits = 5, test_size = 0.3, random_state = 10) \n",
    "        # cv_results is an array of and array of scores from the 5 CV for each of the 6 models\n",
    "        cv_results = cross_validate(model, X_train, y_train, cv=this_cv, scoring=scoring)\n",
    "        \n",
    "        # Prediction and test error (on test dataset)\n",
    "        clf = model.fit(X_train, y_train)\n",
    "        y_pred = clf.predict(X_test)\n",
    "        \n",
    "        # Classification report\n",
    "        print(name)\n",
    "        print(classification_report(y_test,y_pred))\n",
    "        \n",
    "        # Create a list of DataFrames that contains cv_results\n",
    "        this_df = pd.DataFrame(cv_results)\n",
    "        this_df['model'] = name\n",
    "        dfs.append(this_df)\n",
    "        \n",
    "    # Final DataFrame that contains the cv_results of the 6 models\n",
    "    final = pd.concat(dfs, ignore_index=True)\n",
    "    return final"
   ]
  },
  {
   "cell_type": "code",
   "execution_count": 168,
   "metadata": {},
   "outputs": [
    {
     "name": "stderr",
     "output_type": "stream",
     "text": [
      "C:\\Users\\henry_dw8mcdk\\Anaconda3\\lib\\site-packages\\sklearn\\linear_model\\_logistic.py:940: ConvergenceWarning: lbfgs failed to converge (status=1):\n",
      "STOP: TOTAL NO. of ITERATIONS REACHED LIMIT.\n",
      "\n",
      "Increase the number of iterations (max_iter) or scale the data as shown in:\n",
      "    https://scikit-learn.org/stable/modules/preprocessing.html\n",
      "Please also refer to the documentation for alternative solver options:\n",
      "    https://scikit-learn.org/stable/modules/linear_model.html#logistic-regression\n",
      "  extra_warning_msg=_LOGISTIC_SOLVER_CONVERGENCE_MSG)\n",
      "C:\\Users\\henry_dw8mcdk\\Anaconda3\\lib\\site-packages\\sklearn\\linear_model\\_logistic.py:940: ConvergenceWarning: lbfgs failed to converge (status=1):\n",
      "STOP: TOTAL NO. of ITERATIONS REACHED LIMIT.\n",
      "\n",
      "Increase the number of iterations (max_iter) or scale the data as shown in:\n",
      "    https://scikit-learn.org/stable/modules/preprocessing.html\n",
      "Please also refer to the documentation for alternative solver options:\n",
      "    https://scikit-learn.org/stable/modules/linear_model.html#logistic-regression\n",
      "  extra_warning_msg=_LOGISTIC_SOLVER_CONVERGENCE_MSG)\n",
      "C:\\Users\\henry_dw8mcdk\\Anaconda3\\lib\\site-packages\\sklearn\\linear_model\\_logistic.py:940: ConvergenceWarning: lbfgs failed to converge (status=1):\n",
      "STOP: TOTAL NO. of ITERATIONS REACHED LIMIT.\n",
      "\n",
      "Increase the number of iterations (max_iter) or scale the data as shown in:\n",
      "    https://scikit-learn.org/stable/modules/preprocessing.html\n",
      "Please also refer to the documentation for alternative solver options:\n",
      "    https://scikit-learn.org/stable/modules/linear_model.html#logistic-regression\n",
      "  extra_warning_msg=_LOGISTIC_SOLVER_CONVERGENCE_MSG)\n",
      "C:\\Users\\henry_dw8mcdk\\Anaconda3\\lib\\site-packages\\sklearn\\linear_model\\_logistic.py:940: ConvergenceWarning: lbfgs failed to converge (status=1):\n",
      "STOP: TOTAL NO. of ITERATIONS REACHED LIMIT.\n",
      "\n",
      "Increase the number of iterations (max_iter) or scale the data as shown in:\n",
      "    https://scikit-learn.org/stable/modules/preprocessing.html\n",
      "Please also refer to the documentation for alternative solver options:\n",
      "    https://scikit-learn.org/stable/modules/linear_model.html#logistic-regression\n",
      "  extra_warning_msg=_LOGISTIC_SOLVER_CONVERGENCE_MSG)\n",
      "C:\\Users\\henry_dw8mcdk\\Anaconda3\\lib\\site-packages\\sklearn\\linear_model\\_logistic.py:940: ConvergenceWarning: lbfgs failed to converge (status=1):\n",
      "STOP: TOTAL NO. of ITERATIONS REACHED LIMIT.\n",
      "\n",
      "Increase the number of iterations (max_iter) or scale the data as shown in:\n",
      "    https://scikit-learn.org/stable/modules/preprocessing.html\n",
      "Please also refer to the documentation for alternative solver options:\n",
      "    https://scikit-learn.org/stable/modules/linear_model.html#logistic-regression\n",
      "  extra_warning_msg=_LOGISTIC_SOLVER_CONVERGENCE_MSG)\n",
      "C:\\Users\\henry_dw8mcdk\\Anaconda3\\lib\\site-packages\\sklearn\\linear_model\\_logistic.py:940: ConvergenceWarning: lbfgs failed to converge (status=1):\n",
      "STOP: TOTAL NO. of ITERATIONS REACHED LIMIT.\n",
      "\n",
      "Increase the number of iterations (max_iter) or scale the data as shown in:\n",
      "    https://scikit-learn.org/stable/modules/preprocessing.html\n",
      "Please also refer to the documentation for alternative solver options:\n",
      "    https://scikit-learn.org/stable/modules/linear_model.html#logistic-regression\n",
      "  extra_warning_msg=_LOGISTIC_SOLVER_CONVERGENCE_MSG)\n"
     ]
    },
    {
     "name": "stdout",
     "output_type": "stream",
     "text": [
      "LogReg\n",
      "              precision    recall  f1-score   support\n",
      "\n",
      "           0       0.88      0.92      0.90        39\n",
      "           1       0.96      0.93      0.95        75\n",
      "\n",
      "    accuracy                           0.93       114\n",
      "   macro avg       0.92      0.93      0.92       114\n",
      "weighted avg       0.93      0.93      0.93       114\n",
      "\n",
      "KNN\n",
      "              precision    recall  f1-score   support\n",
      "\n",
      "           0       0.89      0.87      0.88        39\n",
      "           1       0.93      0.95      0.94        75\n",
      "\n",
      "    accuracy                           0.92       114\n",
      "   macro avg       0.91      0.91      0.91       114\n",
      "weighted avg       0.92      0.92      0.92       114\n",
      "\n",
      "gnb\n",
      "              precision    recall  f1-score   support\n",
      "\n",
      "           0       0.90      0.97      0.94        39\n",
      "           1       0.99      0.95      0.97        75\n",
      "\n",
      "    accuracy                           0.96       114\n",
      "   macro avg       0.95      0.96      0.95       114\n",
      "weighted avg       0.96      0.96      0.96       114\n",
      "\n",
      "SVM\n",
      "              precision    recall  f1-score   support\n",
      "\n",
      "           0       0.94      0.82      0.88        39\n",
      "           1       0.91      0.97      0.94        75\n",
      "\n",
      "    accuracy                           0.92       114\n",
      "   macro avg       0.93      0.90      0.91       114\n",
      "weighted avg       0.92      0.92      0.92       114\n",
      "\n",
      "rf\n",
      "              precision    recall  f1-score   support\n",
      "\n",
      "           0       0.95      1.00      0.97        39\n",
      "           1       1.00      0.97      0.99        75\n",
      "\n",
      "    accuracy                           0.98       114\n",
      "   macro avg       0.98      0.99      0.98       114\n",
      "weighted avg       0.98      0.98      0.98       114\n",
      "\n",
      "xgb\n",
      "              precision    recall  f1-score   support\n",
      "\n",
      "           0       0.93      0.97      0.95        39\n",
      "           1       0.99      0.96      0.97        75\n",
      "\n",
      "    accuracy                           0.96       114\n",
      "   macro avg       0.96      0.97      0.96       114\n",
      "weighted avg       0.97      0.96      0.97       114\n",
      "\n"
     ]
    }
   ],
   "source": [
    "models_cv_results = run_models(X_train, y_train, X_test, y_test, models)"
   ]
  },
  {
   "cell_type": "markdown",
   "metadata": {},
   "source": [
    "**Bootstrap 30 samples for the performance metrics (from CV) for each of the 6 models**"
   ]
  },
  {
   "cell_type": "code",
   "execution_count": 171,
   "metadata": {},
   "outputs": [
    {
     "data": {
      "text/html": [
       "<div>\n",
       "<style scoped>\n",
       "    .dataframe tbody tr th:only-of-type {\n",
       "        vertical-align: middle;\n",
       "    }\n",
       "\n",
       "    .dataframe tbody tr th {\n",
       "        vertical-align: top;\n",
       "    }\n",
       "\n",
       "    .dataframe thead th {\n",
       "        text-align: right;\n",
       "    }\n",
       "</style>\n",
       "<table border=\"1\" class=\"dataframe\">\n",
       "  <thead>\n",
       "    <tr style=\"text-align: right;\">\n",
       "      <th></th>\n",
       "      <th>fit_time</th>\n",
       "      <th>score_time</th>\n",
       "      <th>test_accuracy</th>\n",
       "      <th>test_f1_weighted</th>\n",
       "      <th>test_roc_auc</th>\n",
       "      <th>model</th>\n",
       "    </tr>\n",
       "  </thead>\n",
       "  <tbody>\n",
       "    <tr>\n",
       "      <th>0</th>\n",
       "      <td>0.045969</td>\n",
       "      <td>0.004000</td>\n",
       "      <td>0.934307</td>\n",
       "      <td>0.934425</td>\n",
       "      <td>0.991855</td>\n",
       "      <td>LogReg</td>\n",
       "    </tr>\n",
       "    <tr>\n",
       "      <th>1</th>\n",
       "      <td>0.041975</td>\n",
       "      <td>0.002999</td>\n",
       "      <td>0.934307</td>\n",
       "      <td>0.932846</td>\n",
       "      <td>0.994796</td>\n",
       "      <td>LogReg</td>\n",
       "    </tr>\n",
       "    <tr>\n",
       "      <th>2</th>\n",
       "      <td>0.034981</td>\n",
       "      <td>0.002997</td>\n",
       "      <td>0.912409</td>\n",
       "      <td>0.912976</td>\n",
       "      <td>0.984842</td>\n",
       "      <td>LogReg</td>\n",
       "    </tr>\n",
       "    <tr>\n",
       "      <th>3</th>\n",
       "      <td>0.046973</td>\n",
       "      <td>0.006996</td>\n",
       "      <td>0.941606</td>\n",
       "      <td>0.941109</td>\n",
       "      <td>0.988235</td>\n",
       "      <td>LogReg</td>\n",
       "    </tr>\n",
       "    <tr>\n",
       "      <th>4</th>\n",
       "      <td>0.034981</td>\n",
       "      <td>0.003997</td>\n",
       "      <td>0.905109</td>\n",
       "      <td>0.902381</td>\n",
       "      <td>0.977376</td>\n",
       "      <td>LogReg</td>\n",
       "    </tr>\n",
       "    <tr>\n",
       "      <th>5</th>\n",
       "      <td>0.003995</td>\n",
       "      <td>0.016989</td>\n",
       "      <td>0.934307</td>\n",
       "      <td>0.934425</td>\n",
       "      <td>0.959842</td>\n",
       "      <td>KNN</td>\n",
       "    </tr>\n",
       "    <tr>\n",
       "      <th>6</th>\n",
       "      <td>0.002999</td>\n",
       "      <td>0.016990</td>\n",
       "      <td>0.912409</td>\n",
       "      <td>0.912059</td>\n",
       "      <td>0.946154</td>\n",
       "      <td>KNN</td>\n",
       "    </tr>\n",
       "    <tr>\n",
       "      <th>7</th>\n",
       "      <td>0.002998</td>\n",
       "      <td>0.017990</td>\n",
       "      <td>0.934307</td>\n",
       "      <td>0.933901</td>\n",
       "      <td>0.965950</td>\n",
       "      <td>KNN</td>\n",
       "    </tr>\n",
       "    <tr>\n",
       "      <th>8</th>\n",
       "      <td>0.002998</td>\n",
       "      <td>0.015992</td>\n",
       "      <td>0.905109</td>\n",
       "      <td>0.903562</td>\n",
       "      <td>0.946833</td>\n",
       "      <td>KNN</td>\n",
       "    </tr>\n",
       "    <tr>\n",
       "      <th>9</th>\n",
       "      <td>0.001999</td>\n",
       "      <td>0.014996</td>\n",
       "      <td>0.919708</td>\n",
       "      <td>0.917399</td>\n",
       "      <td>0.929186</td>\n",
       "      <td>KNN</td>\n",
       "    </tr>\n",
       "  </tbody>\n",
       "</table>\n",
       "</div>"
      ],
      "text/plain": [
       "   fit_time  score_time  test_accuracy  test_f1_weighted  test_roc_auc   model\n",
       "0  0.045969    0.004000       0.934307          0.934425      0.991855  LogReg\n",
       "1  0.041975    0.002999       0.934307          0.932846      0.994796  LogReg\n",
       "2  0.034981    0.002997       0.912409          0.912976      0.984842  LogReg\n",
       "3  0.046973    0.006996       0.941606          0.941109      0.988235  LogReg\n",
       "4  0.034981    0.003997       0.905109          0.902381      0.977376  LogReg\n",
       "5  0.003995    0.016989       0.934307          0.934425      0.959842     KNN\n",
       "6  0.002999    0.016990       0.912409          0.912059      0.946154     KNN\n",
       "7  0.002998    0.017990       0.934307          0.933901      0.965950     KNN\n",
       "8  0.002998    0.015992       0.905109          0.903562      0.946833     KNN\n",
       "9  0.001999    0.014996       0.919708          0.917399      0.929186     KNN"
      ]
     },
     "execution_count": 171,
     "metadata": {},
     "output_type": "execute_result"
    }
   ],
   "source": [
    "models_cv_results.head(10)"
   ]
  },
  {
   "cell_type": "code",
   "execution_count": 172,
   "metadata": {},
   "outputs": [],
   "source": [
    "bootstrapped_metrics = []\n",
    "for model in list(models_cv_results.model.unique()):\n",
    "    # Bootstrap 30 samples for the performance metrics for EACH sample\n",
    "    mdl = models_cv_results.loc[models_cv_results[\"model\"]== model]\n",
    "    # sample with replacement (generate 30 samples) for each model\n",
    "    # From 5 metric (CV) of each model, I have now 30 samples\n",
    "    bootstrapped_metric = mdl.sample(n=30, replace= True)\n",
    "    bootstrapped_metrics.append(bootstrapped_metric) \n",
    "bootstrapped_metrics = pd.concat(bootstrapped_metrics, ignore_index=True)"
   ]
  },
  {
   "cell_type": "code",
   "execution_count": 175,
   "metadata": {
    "scrolled": true
   },
   "outputs": [
    {
     "data": {
      "text/html": [
       "<div>\n",
       "<style scoped>\n",
       "    .dataframe tbody tr th:only-of-type {\n",
       "        vertical-align: middle;\n",
       "    }\n",
       "\n",
       "    .dataframe tbody tr th {\n",
       "        vertical-align: top;\n",
       "    }\n",
       "\n",
       "    .dataframe thead th {\n",
       "        text-align: right;\n",
       "    }\n",
       "</style>\n",
       "<table border=\"1\" class=\"dataframe\">\n",
       "  <thead>\n",
       "    <tr style=\"text-align: right;\">\n",
       "      <th></th>\n",
       "      <th>fit_time</th>\n",
       "      <th>score_time</th>\n",
       "      <th>test_accuracy</th>\n",
       "      <th>test_f1_weighted</th>\n",
       "      <th>test_roc_auc</th>\n",
       "      <th>model</th>\n",
       "    </tr>\n",
       "  </thead>\n",
       "  <tbody>\n",
       "    <tr>\n",
       "      <th>0</th>\n",
       "      <td>0.034981</td>\n",
       "      <td>0.002997</td>\n",
       "      <td>0.912409</td>\n",
       "      <td>0.912976</td>\n",
       "      <td>0.984842</td>\n",
       "      <td>LogReg</td>\n",
       "    </tr>\n",
       "    <tr>\n",
       "      <th>1</th>\n",
       "      <td>0.041975</td>\n",
       "      <td>0.002999</td>\n",
       "      <td>0.934307</td>\n",
       "      <td>0.932846</td>\n",
       "      <td>0.994796</td>\n",
       "      <td>LogReg</td>\n",
       "    </tr>\n",
       "    <tr>\n",
       "      <th>2</th>\n",
       "      <td>0.034981</td>\n",
       "      <td>0.002997</td>\n",
       "      <td>0.912409</td>\n",
       "      <td>0.912976</td>\n",
       "      <td>0.984842</td>\n",
       "      <td>LogReg</td>\n",
       "    </tr>\n",
       "    <tr>\n",
       "      <th>3</th>\n",
       "      <td>0.045969</td>\n",
       "      <td>0.004000</td>\n",
       "      <td>0.934307</td>\n",
       "      <td>0.934425</td>\n",
       "      <td>0.991855</td>\n",
       "      <td>LogReg</td>\n",
       "    </tr>\n",
       "    <tr>\n",
       "      <th>4</th>\n",
       "      <td>0.034981</td>\n",
       "      <td>0.003997</td>\n",
       "      <td>0.905109</td>\n",
       "      <td>0.902381</td>\n",
       "      <td>0.977376</td>\n",
       "      <td>LogReg</td>\n",
       "    </tr>\n",
       "  </tbody>\n",
       "</table>\n",
       "</div>"
      ],
      "text/plain": [
       "   fit_time  score_time  test_accuracy  test_f1_weighted  test_roc_auc   model\n",
       "0  0.034981    0.002997       0.912409          0.912976      0.984842  LogReg\n",
       "1  0.041975    0.002999       0.934307          0.932846      0.994796  LogReg\n",
       "2  0.034981    0.002997       0.912409          0.912976      0.984842  LogReg\n",
       "3  0.045969    0.004000       0.934307          0.934425      0.991855  LogReg\n",
       "4  0.034981    0.003997       0.905109          0.902381      0.977376  LogReg"
      ]
     },
     "execution_count": 175,
     "metadata": {},
     "output_type": "execute_result"
    }
   ],
   "source": [
    "# bootstrapped_metrics is a DataFrame that contains the time and performance metrics of the 6 models.\n",
    "# Each model contains 30 bootstrapped performance and time metrics\n",
    "# The DataFrame has 30*6= 180 rows\n",
    "bootstrapped_metrics.head() "
   ]
  },
  {
   "cell_type": "code",
   "execution_count": 176,
   "metadata": {},
   "outputs": [
    {
     "data": {
      "text/html": [
       "<div>\n",
       "<style scoped>\n",
       "    .dataframe tbody tr th:only-of-type {\n",
       "        vertical-align: middle;\n",
       "    }\n",
       "\n",
       "    .dataframe tbody tr th {\n",
       "        vertical-align: top;\n",
       "    }\n",
       "\n",
       "    .dataframe thead th {\n",
       "        text-align: right;\n",
       "    }\n",
       "</style>\n",
       "<table border=\"1\" class=\"dataframe\">\n",
       "  <thead>\n",
       "    <tr style=\"text-align: right;\">\n",
       "      <th></th>\n",
       "      <th>fit_time</th>\n",
       "      <th>score_time</th>\n",
       "      <th>test_accuracy</th>\n",
       "      <th>test_f1_weighted</th>\n",
       "      <th>test_roc_auc</th>\n",
       "      <th>model</th>\n",
       "    </tr>\n",
       "  </thead>\n",
       "  <tbody>\n",
       "    <tr>\n",
       "      <th>175</th>\n",
       "      <td>0.100941</td>\n",
       "      <td>0.004001</td>\n",
       "      <td>0.956204</td>\n",
       "      <td>0.956357</td>\n",
       "      <td>0.985294</td>\n",
       "      <td>xgb</td>\n",
       "    </tr>\n",
       "    <tr>\n",
       "      <th>176</th>\n",
       "      <td>0.093945</td>\n",
       "      <td>0.004019</td>\n",
       "      <td>0.934307</td>\n",
       "      <td>0.933901</td>\n",
       "      <td>0.963914</td>\n",
       "      <td>xgb</td>\n",
       "    </tr>\n",
       "    <tr>\n",
       "      <th>177</th>\n",
       "      <td>0.088949</td>\n",
       "      <td>0.003997</td>\n",
       "      <td>0.948905</td>\n",
       "      <td>0.948806</td>\n",
       "      <td>0.989819</td>\n",
       "      <td>xgb</td>\n",
       "    </tr>\n",
       "    <tr>\n",
       "      <th>178</th>\n",
       "      <td>0.092926</td>\n",
       "      <td>0.005997</td>\n",
       "      <td>0.934307</td>\n",
       "      <td>0.934180</td>\n",
       "      <td>0.986199</td>\n",
       "      <td>xgb</td>\n",
       "    </tr>\n",
       "    <tr>\n",
       "      <th>179</th>\n",
       "      <td>0.100941</td>\n",
       "      <td>0.004001</td>\n",
       "      <td>0.956204</td>\n",
       "      <td>0.956357</td>\n",
       "      <td>0.985294</td>\n",
       "      <td>xgb</td>\n",
       "    </tr>\n",
       "  </tbody>\n",
       "</table>\n",
       "</div>"
      ],
      "text/plain": [
       "     fit_time  score_time  test_accuracy  test_f1_weighted  test_roc_auc model\n",
       "175  0.100941    0.004001       0.956204          0.956357      0.985294   xgb\n",
       "176  0.093945    0.004019       0.934307          0.933901      0.963914   xgb\n",
       "177  0.088949    0.003997       0.948905          0.948806      0.989819   xgb\n",
       "178  0.092926    0.005997       0.934307          0.934180      0.986199   xgb\n",
       "179  0.100941    0.004001       0.956204          0.956357      0.985294   xgb"
      ]
     },
     "execution_count": 176,
     "metadata": {},
     "output_type": "execute_result"
    }
   ],
   "source": [
    "bootstrapped_metrics.tail()"
   ]
  },
  {
   "cell_type": "code",
   "execution_count": 178,
   "metadata": {},
   "outputs": [],
   "source": [
    "# Put the above DataFrame in long format\n",
    "long_df = pd.melt(bootstrapped_metrics,id_vars=['model'],var_name='metrics', value_name='values')"
   ]
  },
  {
   "cell_type": "code",
   "execution_count": 179,
   "metadata": {},
   "outputs": [
    {
     "data": {
      "text/html": [
       "<div>\n",
       "<style scoped>\n",
       "    .dataframe tbody tr th:only-of-type {\n",
       "        vertical-align: middle;\n",
       "    }\n",
       "\n",
       "    .dataframe tbody tr th {\n",
       "        vertical-align: top;\n",
       "    }\n",
       "\n",
       "    .dataframe thead th {\n",
       "        text-align: right;\n",
       "    }\n",
       "</style>\n",
       "<table border=\"1\" class=\"dataframe\">\n",
       "  <thead>\n",
       "    <tr style=\"text-align: right;\">\n",
       "      <th></th>\n",
       "      <th>model</th>\n",
       "      <th>metrics</th>\n",
       "      <th>values</th>\n",
       "    </tr>\n",
       "  </thead>\n",
       "  <tbody>\n",
       "    <tr>\n",
       "      <th>0</th>\n",
       "      <td>LogReg</td>\n",
       "      <td>fit_time</td>\n",
       "      <td>0.034981</td>\n",
       "    </tr>\n",
       "    <tr>\n",
       "      <th>1</th>\n",
       "      <td>LogReg</td>\n",
       "      <td>fit_time</td>\n",
       "      <td>0.041975</td>\n",
       "    </tr>\n",
       "    <tr>\n",
       "      <th>2</th>\n",
       "      <td>LogReg</td>\n",
       "      <td>fit_time</td>\n",
       "      <td>0.034981</td>\n",
       "    </tr>\n",
       "    <tr>\n",
       "      <th>3</th>\n",
       "      <td>LogReg</td>\n",
       "      <td>fit_time</td>\n",
       "      <td>0.045969</td>\n",
       "    </tr>\n",
       "    <tr>\n",
       "      <th>4</th>\n",
       "      <td>LogReg</td>\n",
       "      <td>fit_time</td>\n",
       "      <td>0.034981</td>\n",
       "    </tr>\n",
       "    <tr>\n",
       "      <th>...</th>\n",
       "      <td>...</td>\n",
       "      <td>...</td>\n",
       "      <td>...</td>\n",
       "    </tr>\n",
       "    <tr>\n",
       "      <th>895</th>\n",
       "      <td>xgb</td>\n",
       "      <td>test_roc_auc</td>\n",
       "      <td>0.985294</td>\n",
       "    </tr>\n",
       "    <tr>\n",
       "      <th>896</th>\n",
       "      <td>xgb</td>\n",
       "      <td>test_roc_auc</td>\n",
       "      <td>0.963914</td>\n",
       "    </tr>\n",
       "    <tr>\n",
       "      <th>897</th>\n",
       "      <td>xgb</td>\n",
       "      <td>test_roc_auc</td>\n",
       "      <td>0.989819</td>\n",
       "    </tr>\n",
       "    <tr>\n",
       "      <th>898</th>\n",
       "      <td>xgb</td>\n",
       "      <td>test_roc_auc</td>\n",
       "      <td>0.986199</td>\n",
       "    </tr>\n",
       "    <tr>\n",
       "      <th>899</th>\n",
       "      <td>xgb</td>\n",
       "      <td>test_roc_auc</td>\n",
       "      <td>0.985294</td>\n",
       "    </tr>\n",
       "  </tbody>\n",
       "</table>\n",
       "<p>900 rows × 3 columns</p>\n",
       "</div>"
      ],
      "text/plain": [
       "      model       metrics    values\n",
       "0    LogReg      fit_time  0.034981\n",
       "1    LogReg      fit_time  0.041975\n",
       "2    LogReg      fit_time  0.034981\n",
       "3    LogReg      fit_time  0.045969\n",
       "4    LogReg      fit_time  0.034981\n",
       "..      ...           ...       ...\n",
       "895     xgb  test_roc_auc  0.985294\n",
       "896     xgb  test_roc_auc  0.963914\n",
       "897     xgb  test_roc_auc  0.989819\n",
       "898     xgb  test_roc_auc  0.986199\n",
       "899     xgb  test_roc_auc  0.985294\n",
       "\n",
       "[900 rows x 3 columns]"
      ]
     },
     "execution_count": 179,
     "metadata": {},
     "output_type": "execute_result"
    }
   ],
   "source": [
    "long_df"
   ]
  },
  {
   "cell_type": "code",
   "execution_count": 181,
   "metadata": {},
   "outputs": [],
   "source": [
    "# The time metrics of a model are rows where metric = \"fit_time\" or \"score_time\" \n",
    "time_metrics = ['fit_time','score_time']"
   ]
  },
  {
   "cell_type": "code",
   "execution_count": 182,
   "metadata": {},
   "outputs": [],
   "source": [
    "# Time metrics df\n",
    "df_time = long_df.loc[long_df['metrics'].isin(time_metrics)] \n",
    "df_time = df_time.sort_values(by='values')"
   ]
  },
  {
   "cell_type": "code",
   "execution_count": 183,
   "metadata": {},
   "outputs": [],
   "source": [
    "# Fit performance metrics df\n",
    "df_perf = long_df.loc[~long_df['metrics'].isin(time_metrics)] \n",
    "df_perf = df_perf.sort_values(by='values')"
   ]
  },
  {
   "cell_type": "markdown",
   "metadata": {},
   "source": [
    "**Plot the fit performance metric of each model for comparison (boxplots)**"
   ]
  },
  {
   "cell_type": "code",
   "execution_count": 184,
   "metadata": {},
   "outputs": [
    {
     "data": {
      "text/plain": [
       "Text(0.5, 1.0, 'Time metric comparison of models')"
      ]
     },
     "execution_count": 184,
     "metadata": {},
     "output_type": "execute_result"
    },
    {
     "data": {
      "image/png": "[encoded data removed]",
      "text/plain": [
       "<Figure size 1080x576 with 1 Axes>"
      ]
     },
     "metadata": {
      "needs_background": "light"
     },
     "output_type": "display_data"
    }
   ],
   "source": [
    "plt.figure(figsize=(15, 8))\n",
    "p1= sns.boxplot(x=\"model\", y=\"values\", hue=\"metrics\", data=df_time)\n",
    "plt.title('Time metric comparison of models')"
   ]
  },
  {
   "cell_type": "code",
   "execution_count": 17,
   "metadata": {},
   "outputs": [
    {
     "data": {
      "text/plain": [
       "Text(0.5, 1.0, 'Fit performance metric comparison of models')"
      ]
     },
     "execution_count": 17,
     "metadata": {},
     "output_type": "execute_result"
    },
    {
     "data": {
      "image/png": "[encoded data removed]",
      "text/plain": [
       "<Figure size 1080x576 with 1 Axes>"
      ]
     },
     "metadata": {
      "needs_background": "light"
     },
     "output_type": "display_data"
    }
   ],
   "source": [
    "plt.figure(figsize=(15, 8))\n",
    "p1= sns.boxplot(x=\"model\", y=\"values\", hue=\"metrics\", data=df_perf)\n",
    "plt.title('Fit performance metric comparison of models')"
   ]
  },
  {
   "cell_type": "markdown",
   "metadata": {},
   "source": [
    "**Thoughts**\n",
    "- Logreg, Rf and XGboost have great fit performance, SVM have the worst fit performance for all metrics.  Not surpirsingly, XGBoost and RF takes the longest to train."
   ]
  },
  {
   "cell_type": "code",
   "execution_count": null,
   "metadata": {},
   "outputs": [],
   "source": []
  },
  {
   "cell_type": "markdown",
   "metadata": {},
   "source": [
    "**Compute the mean metrics for each model**"
   ]
  },
  {
   "cell_type": "code",
   "execution_count": 185,
   "metadata": {},
   "outputs": [],
   "source": [
    "metrics = ['test_f1_weighted', 'test_accuracy', 'test_roc_auc']"
   ]
  },
  {
   "cell_type": "code",
   "execution_count": 186,
   "metadata": {},
   "outputs": [
    {
     "data": {
      "text/html": [
       "<div>\n",
       "<style scoped>\n",
       "    .dataframe tbody tr th:only-of-type {\n",
       "        vertical-align: middle;\n",
       "    }\n",
       "\n",
       "    .dataframe tbody tr th {\n",
       "        vertical-align: top;\n",
       "    }\n",
       "\n",
       "    .dataframe thead tr th {\n",
       "        text-align: left;\n",
       "    }\n",
       "\n",
       "    .dataframe thead tr:last-of-type th {\n",
       "        text-align: right;\n",
       "    }\n",
       "</style>\n",
       "<table border=\"1\" class=\"dataframe\">\n",
       "  <thead>\n",
       "    <tr>\n",
       "      <th></th>\n",
       "      <th colspan=\"2\" halign=\"left\">test_f1_weighted</th>\n",
       "      <th colspan=\"2\" halign=\"left\">test_accuracy</th>\n",
       "      <th colspan=\"2\" halign=\"left\">test_roc_auc</th>\n",
       "    </tr>\n",
       "    <tr>\n",
       "      <th></th>\n",
       "      <th>std</th>\n",
       "      <th>mean</th>\n",
       "      <th>std</th>\n",
       "      <th>mean</th>\n",
       "      <th>std</th>\n",
       "      <th>mean</th>\n",
       "    </tr>\n",
       "    <tr>\n",
       "      <th>model</th>\n",
       "      <th></th>\n",
       "      <th></th>\n",
       "      <th></th>\n",
       "      <th></th>\n",
       "      <th></th>\n",
       "      <th></th>\n",
       "    </tr>\n",
       "  </thead>\n",
       "  <tbody>\n",
       "    <tr>\n",
       "      <th>KNN</th>\n",
       "      <td>0.012332</td>\n",
       "      <td>0.919185</td>\n",
       "      <td>0.011891</td>\n",
       "      <td>0.919951</td>\n",
       "      <td>0.011416</td>\n",
       "      <td>0.950064</td>\n",
       "    </tr>\n",
       "    <tr>\n",
       "      <th>LogReg</th>\n",
       "      <td>0.014627</td>\n",
       "      <td>0.927134</td>\n",
       "      <td>0.014132</td>\n",
       "      <td>0.927737</td>\n",
       "      <td>0.005516</td>\n",
       "      <td>0.987602</td>\n",
       "    </tr>\n",
       "    <tr>\n",
       "      <th>SVM</th>\n",
       "      <td>0.016735</td>\n",
       "      <td>0.909724</td>\n",
       "      <td>0.015496</td>\n",
       "      <td>0.911679</td>\n",
       "      <td>0.012571</td>\n",
       "      <td>0.963793</td>\n",
       "    </tr>\n",
       "    <tr>\n",
       "      <th>gnb</th>\n",
       "      <td>0.026652</td>\n",
       "      <td>0.927274</td>\n",
       "      <td>0.026334</td>\n",
       "      <td>0.927981</td>\n",
       "      <td>0.005836</td>\n",
       "      <td>0.982112</td>\n",
       "    </tr>\n",
       "    <tr>\n",
       "      <th>rf</th>\n",
       "      <td>0.010897</td>\n",
       "      <td>0.949743</td>\n",
       "      <td>0.010798</td>\n",
       "      <td>0.949878</td>\n",
       "      <td>0.004629</td>\n",
       "      <td>0.981870</td>\n",
       "    </tr>\n",
       "    <tr>\n",
       "      <th>xgb</th>\n",
       "      <td>0.009249</td>\n",
       "      <td>0.947086</td>\n",
       "      <td>0.009130</td>\n",
       "      <td>0.947202</td>\n",
       "      <td>0.009735</td>\n",
       "      <td>0.981361</td>\n",
       "    </tr>\n",
       "  </tbody>\n",
       "</table>\n",
       "</div>"
      ],
      "text/plain": [
       "       test_f1_weighted           test_accuracy           test_roc_auc  \\\n",
       "                    std      mean           std      mean          std   \n",
       "model                                                                    \n",
       "KNN            0.012332  0.919185      0.011891  0.919951     0.011416   \n",
       "LogReg         0.014627  0.927134      0.014132  0.927737     0.005516   \n",
       "SVM            0.016735  0.909724      0.015496  0.911679     0.012571   \n",
       "gnb            0.026652  0.927274      0.026334  0.927981     0.005836   \n",
       "rf             0.010897  0.949743      0.010798  0.949878     0.004629   \n",
       "xgb            0.009249  0.947086      0.009130  0.947202     0.009735   \n",
       "\n",
       "                  \n",
       "            mean  \n",
       "model             \n",
       "KNN     0.950064  \n",
       "LogReg  0.987602  \n",
       "SVM     0.963793  \n",
       "gnb     0.982112  \n",
       "rf      0.981870  \n",
       "xgb     0.981361  "
      ]
     },
     "execution_count": 186,
     "metadata": {},
     "output_type": "execute_result"
    }
   ],
   "source": [
    "bootstrapped_metrics.groupby(['model'])[metrics].agg([np.std, np.mean])"
   ]
  },
  {
   "cell_type": "markdown",
   "metadata": {},
   "source": [
    "**In a real project, I might only care about the mean precision or recall of ONE of the classes, rather than the mean f1_score (which is an aggregate measure of precision and recall across all classes).**"
   ]
  },
  {
   "cell_type": "code",
   "execution_count": null,
   "metadata": {},
   "outputs": [],
   "source": []
  },
  {
   "cell_type": "code",
   "execution_count": null,
   "metadata": {},
   "outputs": [],
   "source": []
  },
  {
   "cell_type": "code",
   "execution_count": null,
   "metadata": {},
   "outputs": [],
   "source": []
  },
  {
   "cell_type": "markdown",
   "metadata": {},
   "source": [
    "## GridSearchCV for multiple models\n",
    "- Write a function that performs GridSearchCV to optimize multiple models"
   ]
  },
  {
   "cell_type": "code",
   "execution_count": 205,
   "metadata": {},
   "outputs": [],
   "source": [
    "'''data'''\n",
    "import pandas as pd\n",
    "import numpy as np\n",
    "from scipy import stats\n",
    "import itertools\n",
    "from sklearn.pipeline import Pipeline\n",
    "from sklearn.preprocessing import StandardScaler\n",
    "\n",
    "'''plots'''\n",
    "import seaborn as sns\n",
    "import matplotlib.pyplot as plt\n",
    "%matplotlib inline\n",
    "\n",
    "'''models'''\n",
    "from sklearn.model_selection import train_test_split, StratifiedShuffleSplit, cross_validate \n",
    "from sklearn.ensemble import RandomForestClassifier\n",
    "from sklearn.naive_bayes import GaussianNB\n",
    "from sklearn.svm import SVC\n",
    "from sklearn.neighbors import KNeighborsClassifier\n",
    "from sklearn.linear_model import LogisticRegression\n",
    "from xgboost import XGBClassifier\n",
    "\n",
    "'''metrics'''\n",
    "from sklearn.metrics import accuracy_score, f1_score, roc_auc_score, auc, classification_report\n"
   ]
  },
  {
   "cell_type": "markdown",
   "metadata": {},
   "source": [
    "**Import data**"
   ]
  },
  {
   "cell_type": "code",
   "execution_count": 206,
   "metadata": {},
   "outputs": [],
   "source": [
    "from sklearn.datasets import load_breast_cancer\n",
    "feature_names=load_breast_cancer()['feature_names'] # Get the feature names of the dataset\n",
    "X, y = data = load_breast_cancer(return_X_y=True)  # Features and response variables\n",
    "\n",
    "# Test Harness\n",
    "X_train, X_test, y_train, y_test = train_test_split(X,y,test_size = 0.2, random_state=10)"
   ]
  },
  {
   "cell_type": "markdown",
   "metadata": {},
   "source": [
    "**I only train two models: Logistic Regression and Random Forest**"
   ]
  },
  {
   "cell_type": "code",
   "execution_count": 207,
   "metadata": {},
   "outputs": [],
   "source": [
    "models = {\n",
    "    'LogisticRegression': LogisticRegression(),\n",
    "    'RandomForestClassifier': RandomForestClassifier()\n",
    "}"
   ]
  },
  {
   "cell_type": "code",
   "execution_count": 208,
   "metadata": {},
   "outputs": [],
   "source": [
    "# Use a dictionary of dictionaries to set grid params for logreg and rf\n",
    "params = {\n",
    "    'LogisticRegression':  {\n",
    "        \"solver\": ['newton-cg', 'sag', 'lbfgs'],\n",
    "        \"multi_class\": ['ovr', 'multinomial']\n",
    "        },\n",
    "    \n",
    "    'RandomForestClassifier':  { \n",
    "        \"n_estimators\" : [100, 200, 500, 1000],\n",
    "        \"max_features\"      : [\"auto\", \"sqrt\", \"log2\"],\n",
    "        \"criterion\": ['gini', 'entropy'],\n",
    "    }   \n",
    "}"
   ]
  },
  {
   "cell_type": "markdown",
   "metadata": {},
   "source": [
    "**GridSearchCV**"
   ]
  },
  {
   "cell_type": "code",
   "execution_count": 209,
   "metadata": {},
   "outputs": [],
   "source": [
    "from sklearn.model_selection import GridSearchCV"
   ]
  },
  {
   "cell_type": "code",
   "execution_count": 210,
   "metadata": {},
   "outputs": [],
   "source": [
    "def fit_assess(X_train, y_train):\n",
    "    \"\"\" \n",
    "    Fit a list of models with the training data one at a time and obtain \n",
    "    models with the best parameters (have the lowest test error from CV)\n",
    "    \"\"\"\n",
    "    best_estimators = [] # a list of \"best\" estimators: a best logreg and a best rf\n",
    "    \n",
    "    for name in models.keys():\n",
    "        est = models[name]  # initial model object\n",
    "        est_params = params[name] # parameters for the model\n",
    "        gscv = GridSearchCV(estimator=est, \n",
    "                            param_grid=est_params, \n",
    "                            cv=5,\n",
    "                            verbose = 2,\n",
    "                            n_jobs=-1)  #GridSearchCV model\n",
    "        gscv.fit(X_train, y_train)\n",
    "        print(\"The best parameters are: {}\".format(gscv.best_params_))\n",
    "        \n",
    "        best_estimators.append(gscv.best_estimator_)\n",
    "\n",
    "    return best_estimators"
   ]
  },
  {
   "cell_type": "code",
   "execution_count": 211,
   "metadata": {},
   "outputs": [
    {
     "name": "stdout",
     "output_type": "stream",
     "text": [
      "Fitting 5 folds for each of 6 candidates, totalling 30 fits\n"
     ]
    },
    {
     "name": "stderr",
     "output_type": "stream",
     "text": [
      "[Parallel(n_jobs=-1)]: Using backend LokyBackend with 4 concurrent workers.\n",
      "[Parallel(n_jobs=-1)]: Done  30 out of  30 | elapsed:    3.6s finished\n"
     ]
    },
    {
     "name": "stdout",
     "output_type": "stream",
     "text": [
      "The best parameters are: {'multi_class': 'multinomial', 'solver': 'newton-cg'}\n",
      "Fitting 5 folds for each of 24 candidates, totalling 120 fits\n"
     ]
    },
    {
     "name": "stderr",
     "output_type": "stream",
     "text": [
      "[Parallel(n_jobs=-1)]: Using backend LokyBackend with 4 concurrent workers.\n",
      "[Parallel(n_jobs=-1)]: Done  33 tasks      | elapsed:   16.7s\n",
      "[Parallel(n_jobs=-1)]: Done 120 out of 120 | elapsed:  1.2min finished\n"
     ]
    },
    {
     "name": "stdout",
     "output_type": "stream",
     "text": [
      "The best parameters are: {'criterion': 'entropy', 'max_features': 'auto', 'n_estimators': 100}\n"
     ]
    }
   ],
   "source": [
    "best_models=fit_assess(X,y)"
   ]
  },
  {
   "cell_type": "code",
   "execution_count": null,
   "metadata": {},
   "outputs": [],
   "source": []
  },
  {
   "cell_type": "markdown",
   "metadata": {},
   "source": [
    "## Standardize data and perform GridSearchCV on multiple models"
   ]
  },
  {
   "cell_type": "code",
   "execution_count": 212,
   "metadata": {},
   "outputs": [],
   "source": [
    "#I have two statistical learning approaches: LogReg and RF\n",
    "models = {\n",
    "    'LogisticRegression': LogisticRegression(),\n",
    "    'RandomForestClassifier': RandomForestClassifier()\n",
    "}"
   ]
  },
  {
   "cell_type": "code",
   "execution_count": 213,
   "metadata": {},
   "outputs": [],
   "source": [
    "# Use a dictionary of dictionaries to set the param grid for each of the models\n",
    "params = {\n",
    "    'LogisticRegression':  {\n",
    "        \"clf__solver\": ['newton-cg', 'sag', 'lbfgs'],\n",
    "        \"clf__multi_class\": ['ovr', 'multinomial']\n",
    "        },\n",
    "    \n",
    "    'RandomForestClassifier':  { \n",
    "        \"clf__n_estimators\" : [100, 200, 500, 1000],\n",
    "        \"clf__max_features\"      : [\"auto\", \"sqrt\", \"log2\"],\n",
    "        \"clf__criterion\": ['gini', 'entropy'],\n",
    "    }   \n",
    "}"
   ]
  },
  {
   "cell_type": "code",
   "execution_count": 214,
   "metadata": {},
   "outputs": [],
   "source": [
    "def fit_assess_pipeline(X_train, y_train):\n",
    "    \"\"\" \n",
    "    fits the list of models with the training data one at a time and obtain \n",
    "    the \"best\" test error (from CV) for each model\n",
    "    \"\"\"\n",
    "    gscvs = [] # a list of trained GridSearchCV objects\n",
    "    \n",
    "    for name in models.keys():\n",
    "        pipeline = Pipeline([('scl',StandardScaler()),\n",
    "                             ('clf', models[name])])  # pipeline for the model    \n",
    "        est_params = params[name] # parameters for that model\n",
    "        gscv = GridSearchCV(estimator=pipeline, \n",
    "                            param_grid=est_params, \n",
    "                            cv=5,\n",
    "                            verbose = 2,\n",
    "                            n_jobs=-1)  #GridSearchCV model\n",
    "        gscv.fit(X_train, y_train)\n",
    "        print(\"The best parameters are: {}\".format(gscv.best_params_))\n",
    "        \n",
    "        gscvs.append(gscv)\n",
    "    return gscvs"
   ]
  },
  {
   "cell_type": "code",
   "execution_count": 215,
   "metadata": {},
   "outputs": [
    {
     "name": "stdout",
     "output_type": "stream",
     "text": [
      "Fitting 5 folds for each of 6 candidates, totalling 30 fits\n"
     ]
    },
    {
     "name": "stderr",
     "output_type": "stream",
     "text": [
      "[Parallel(n_jobs=-1)]: Using backend LokyBackend with 4 concurrent workers.\n",
      "[Parallel(n_jobs=-1)]: Done  30 out of  30 | elapsed:    0.5s finished\n",
      "[Parallel(n_jobs=-1)]: Using backend LokyBackend with 4 concurrent workers.\n"
     ]
    },
    {
     "name": "stdout",
     "output_type": "stream",
     "text": [
      "The best parameters are: {'clf__multi_class': 'ovr', 'clf__solver': 'newton-cg'}\n",
      "Fitting 5 folds for each of 24 candidates, totalling 120 fits\n"
     ]
    },
    {
     "name": "stderr",
     "output_type": "stream",
     "text": [
      "[Parallel(n_jobs=-1)]: Done  33 tasks      | elapsed:   14.9s\n",
      "[Parallel(n_jobs=-1)]: Done 120 out of 120 | elapsed:  1.1min finished\n"
     ]
    },
    {
     "name": "stdout",
     "output_type": "stream",
     "text": [
      "The best parameters are: {'clf__criterion': 'entropy', 'clf__max_features': 'sqrt', 'clf__n_estimators': 500}\n"
     ]
    }
   ],
   "source": [
    "gridSearchObjs=fit_assess_pipeline(X,y)"
   ]
  },
  {
   "cell_type": "markdown",
   "metadata": {},
   "source": [
    "**Take a look at the optimized logistic regression model**"
   ]
  },
  {
   "cell_type": "code",
   "execution_count": 216,
   "metadata": {},
   "outputs": [],
   "source": [
    "lr_pipeline_optim=gridSearchObjs[0]"
   ]
  },
  {
   "cell_type": "code",
   "execution_count": 217,
   "metadata": {},
   "outputs": [],
   "source": [
    "# Call predict on the estimator with the best found parameters\n",
    "y_pred = lr_pipeline_optim.predict(X_test)"
   ]
  },
  {
   "cell_type": "code",
   "execution_count": 218,
   "metadata": {},
   "outputs": [],
   "source": [
    "# The \"long way\" would be to get the estimator with the best parameters \n",
    "# (with the highest estimated test score, or the lowest estimated test error from CV)\n",
    "# And then call predict on that estimator\n",
    "y_pred= lr_pipeline_optim.best_estimator_.predict(X_test)"
   ]
  },
  {
   "cell_type": "code",
   "execution_count": 219,
   "metadata": {},
   "outputs": [
    {
     "name": "stdout",
     "output_type": "stream",
     "text": [
      "              precision    recall  f1-score   support\n",
      "\n",
      "           0       1.00      1.00      1.00        39\n",
      "           1       1.00      1.00      1.00        75\n",
      "\n",
      "    accuracy                           1.00       114\n",
      "   macro avg       1.00      1.00      1.00       114\n",
      "weighted avg       1.00      1.00      1.00       114\n",
      "\n"
     ]
    }
   ],
   "source": [
    "print(classification_report(y_test, y_pred))"
   ]
  },
  {
   "cell_type": "code",
   "execution_count": null,
   "metadata": {},
   "outputs": [],
   "source": []
  },
  {
   "cell_type": "markdown",
   "metadata": {},
   "source": [
    "**Take a look at \"important features\" of the random forest model, use \"named_steps\" to access to \"clf\" in the pipeline object**"
   ]
  },
  {
   "cell_type": "code",
   "execution_count": 220,
   "metadata": {},
   "outputs": [],
   "source": [
    "# Use named_steps to have access to \"clf\" in the pipeline object\n",
    "rf_pipeline_optim = gridSearchObjs[1]\n",
    "rf_optim = rf_pipeline_optim.best_estimator_.named_steps['clf']\n",
    "feature_importance = pd.DataFrame({'feature':list(feature_names),\n",
    "                                  'importance': rf_optim.feature_importances_})"
   ]
  },
  {
   "cell_type": "code",
   "execution_count": 221,
   "metadata": {},
   "outputs": [
    {
     "data": {
      "text/html": [
       "<div>\n",
       "<style scoped>\n",
       "    .dataframe tbody tr th:only-of-type {\n",
       "        vertical-align: middle;\n",
       "    }\n",
       "\n",
       "    .dataframe tbody tr th {\n",
       "        vertical-align: top;\n",
       "    }\n",
       "\n",
       "    .dataframe thead th {\n",
       "        text-align: right;\n",
       "    }\n",
       "</style>\n",
       "<table border=\"1\" class=\"dataframe\">\n",
       "  <thead>\n",
       "    <tr style=\"text-align: right;\">\n",
       "      <th></th>\n",
       "      <th>feature</th>\n",
       "      <th>importance</th>\n",
       "    </tr>\n",
       "  </thead>\n",
       "  <tbody>\n",
       "    <tr>\n",
       "      <th>0</th>\n",
       "      <td>worst concave points</td>\n",
       "      <td>0.131302</td>\n",
       "    </tr>\n",
       "    <tr>\n",
       "      <th>1</th>\n",
       "      <td>worst perimeter</td>\n",
       "      <td>0.117413</td>\n",
       "    </tr>\n",
       "    <tr>\n",
       "      <th>2</th>\n",
       "      <td>worst area</td>\n",
       "      <td>0.116128</td>\n",
       "    </tr>\n",
       "    <tr>\n",
       "      <th>3</th>\n",
       "      <td>mean concave points</td>\n",
       "      <td>0.105584</td>\n",
       "    </tr>\n",
       "    <tr>\n",
       "      <th>4</th>\n",
       "      <td>worst radius</td>\n",
       "      <td>0.091847</td>\n",
       "    </tr>\n",
       "    <tr>\n",
       "      <th>5</th>\n",
       "      <td>mean concavity</td>\n",
       "      <td>0.050422</td>\n",
       "    </tr>\n",
       "    <tr>\n",
       "      <th>6</th>\n",
       "      <td>area error</td>\n",
       "      <td>0.042826</td>\n",
       "    </tr>\n",
       "    <tr>\n",
       "      <th>7</th>\n",
       "      <td>mean area</td>\n",
       "      <td>0.042614</td>\n",
       "    </tr>\n",
       "    <tr>\n",
       "      <th>8</th>\n",
       "      <td>mean perimeter</td>\n",
       "      <td>0.041376</td>\n",
       "    </tr>\n",
       "    <tr>\n",
       "      <th>9</th>\n",
       "      <td>worst concavity</td>\n",
       "      <td>0.037779</td>\n",
       "    </tr>\n",
       "  </tbody>\n",
       "</table>\n",
       "</div>"
      ],
      "text/plain": [
       "                feature  importance\n",
       "0  worst concave points    0.131302\n",
       "1       worst perimeter    0.117413\n",
       "2            worst area    0.116128\n",
       "3   mean concave points    0.105584\n",
       "4          worst radius    0.091847\n",
       "5        mean concavity    0.050422\n",
       "6            area error    0.042826\n",
       "7             mean area    0.042614\n",
       "8        mean perimeter    0.041376\n",
       "9       worst concavity    0.037779"
      ]
     },
     "execution_count": 221,
     "metadata": {},
     "output_type": "execute_result"
    }
   ],
   "source": [
    "feature_importance.sort_values('importance', ascending=False).reset_index(drop=True).head(10)"
   ]
  },
  {
   "cell_type": "markdown",
   "metadata": {},
   "source": [
    "**Armed with the optimized models from GridSearchCV, I can choose the \"best\" statistical learning approach based on highest AUC score (on the test dataset)**"
   ]
  },
  {
   "cell_type": "code",
   "execution_count": 222,
   "metadata": {},
   "outputs": [
    {
     "name": "stdout",
     "output_type": "stream",
     "text": [
      "\n",
      "\n",
      "LogisticRegression\n",
      "Best parameters are: {'clf__multi_class': 'ovr', 'clf__solver': 'newton-cg'}\n",
      "Estimated test accuracy (from CV) of the model with the best parameters: 0.9806862288464524\n",
      "AUC score of the model with the best parameters (on the test dataset): 1.0\n",
      "\n",
      "\n",
      "RandomForestClassifier\n",
      "Best parameters are: {'clf__criterion': 'entropy', 'clf__max_features': 'sqrt', 'clf__n_estimators': 500}\n",
      "Estimated test accuracy (from CV) of the model with the best parameters: 0.9683744760130415\n",
      "AUC score of the model with the best parameters (on the test dataset): 1.0\n",
      "\n",
      " The best statistical learning approach (on the test dataset) is RandomForestClassifier\n"
     ]
    }
   ],
   "source": [
    "best_roc_auc=0\n",
    "best_gs = ''\n",
    "\n",
    "for i, gs in enumerate(gridSearchObjs):\n",
    "    \n",
    "    # Get best parameters\n",
    "    print(\"\\n\")\n",
    "    print(list(models.keys())[i])\n",
    "    print(\"Best parameters are: {}\".format(gs.best_params_))\n",
    "     # Best estimated test error (CV)\n",
    "    print(\"Estimated test accuracy (from CV) of the model with the best parameters: {}\".format(gs.best_score_))\n",
    "    \n",
    "    # test predictions \n",
    "    y_pred = gs.predict(X_test)\n",
    "    \n",
    "    print(\"AUC score of the model with the best parameters (on the test dataset): {}\".format(roc_auc_score(y_test,y_pred)))\n",
    "    \n",
    "    # Get the best statistical learning approach\n",
    "    if roc_auc_score(y_test,y_pred) >= best_roc_auc:\n",
    "        best_roc_auc = roc_auc_score(y_test,y_pred)  # update best rmse score\n",
    "        best_gs = gs  # update the best statistical learning approach\n",
    "        \n",
    "\n",
    "print(\"\\n The best statistical learning approach (on the test dataset) is {}\".format(list(models.keys())[i]))"
   ]
  },
  {
   "cell_type": "code",
   "execution_count": null,
   "metadata": {},
   "outputs": [],
   "source": []
  }
 ],
 "metadata": {
  "kernelspec": {
   "display_name": "Python 3",
   "language": "python",
   "name": "python3"
  },
  "language_info": {
   "codemirror_mode": {
    "name": "ipython",
    "version": 3
   },
   "file_extension": ".py",
   "mimetype": "text/x-python",
   "name": "python",
   "nbconvert_exporter": "python",
   "pygments_lexer": "ipython3",
   "version": "3.7.5"
  },
  "varInspector": {
   "cols": {
    "lenName": 16,
    "lenType": 16,
    "lenVar": 40
   },
   "kernels_config": {
    "python": {
     "delete_cmd_postfix": "",
     "delete_cmd_prefix": "del ",
     "library": "var_list.py",
     "varRefreshCmd": "print(var_dic_list())"
    },
    "r": {
     "delete_cmd_postfix": ") ",
     "delete_cmd_prefix": "rm(",
     "library": "var_list.r",
     "varRefreshCmd": "cat(var_dic_list()) "
    }
   },
   "types_to_exclude": [
    "module",
    "function",
    "builtin_function_or_method",
    "instance",
    "_Feature"
   ],
   "window_display": false
  }
 },
 "nbformat": 4,
 "nbformat_minor": 2
}
