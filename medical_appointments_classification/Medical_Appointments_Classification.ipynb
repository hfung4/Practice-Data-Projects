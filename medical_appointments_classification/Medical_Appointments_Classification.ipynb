{
 "cells": [
  {
   "cell_type": "markdown",
   "metadata": {
    "colab_type": "text",
    "id": "D5YjMlEb3coy"
   },
   "source": [
    "# Patient Classification: Medical Appointments"
   ]
  },
  {
   "cell_type": "markdown",
   "metadata": {
    "colab_type": "text",
    "id": "36H0TRIZ3coz"
   },
   "source": [
    "**The goal is to classify patient's medical appointment status based on his/her characteristics**\n",
    "- No show: the response variable.  The patient did not show up \n",
    "- Age: age of patient\n",
    "- Gender: gender of patient\n",
    "- Diabetes: Patient has diabetes\n",
    "- Alcoholism: Patient suffers from alcoholism\n",
    "- HyperTension: Patient suffers from hypertension\n",
    "- Handcap: Patient has handicap\n",
    "- Scholarship: Patient receives financial aids\n",
    "- Sms_Reminder: SMS was sent to patient as reminder\n",
    "- Neighborhood:  Clinic location\n",
    "- PatientID: Patient identifier\n",
    "- AppointmentID: Appointment identifier\n",
    "- ScheduledDay: The day/time in which the patient registered the appointment\n",
    "- AppointmentDay: The day the patient actually came for appointment"
   ]
  },
  {
   "cell_type": "markdown",
   "metadata": {},
   "source": [
    "**Data source**\n",
    "- https://www.kaggle.com/joniarroba/noshowappointments"
   ]
  },
  {
   "cell_type": "markdown",
   "metadata": {
    "colab_type": "text",
    "id": "0I4MtBf13co0"
   },
   "source": [
    "**Questions**\n",
    "- Predict which patient will NOT show up to his/her appointment? This will help the clinic reassign doctors to other tasks/patients."
   ]
  },
  {
   "cell_type": "markdown",
   "metadata": {
    "colab_type": "text",
    "id": "BgVmO2ah3co1"
   },
   "source": [
    "**Workflow**\n",
    "- Data cleaning and formatting\n",
    "- EDA\n",
    "- Feature engineering and feature selection\n",
    "- Split data into train and test datasets\n",
    "- Baseline prediction\n",
    "- Modelling, estimate test error with k-fold CV\n",
    "- Select the best model based on a metric\n",
    "- Optimize the model (tune hyperparameter)\n",
    "- Return to Feature Engineering and Modelling if necessary\n",
    "- Evaluate the final optimized model on the test dataset \n",
    "- Interpret the model results and draw conclusions"
   ]
  },
  {
   "cell_type": "code",
   "execution_count": 0,
   "metadata": {
    "colab": {},
    "colab_type": "code",
    "id": "aLT-U5mu3co2"
   },
   "outputs": [],
   "source": [
    "'''Data'''\n",
    "import pandas as pd\n",
    "import numpy as np\n",
    "from scipy import stats\n",
    "import itertools\n",
    "import datetime\n",
    "import calendar\n",
    "import pprint\n",
    "\n",
    "'''plots'''\n",
    "import seaborn as sns\n",
    "import matplotlib.pyplot as plt\n",
    "%matplotlib inline\n",
    "plt.rcParams['figure.figsize'] = [25, 15]\n",
    "\n",
    "'''processing'''\n",
    "from sklearn.preprocessing import LabelEncoder, StandardScaler"
   ]
  },
  {
   "cell_type": "markdown",
   "metadata": {
    "colab_type": "text",
    "id": "9XoOJo2N3co9"
   },
   "source": [
    "# Import data"
   ]
  },
  {
   "cell_type": "code",
   "execution_count": 0,
   "metadata": {
    "colab": {},
    "colab_type": "code",
    "id": "DRjKwz5A3co9"
   },
   "outputs": [],
   "source": [
    "df = pd.read_csv(\"https://raw.githubusercontent.com/hfung4/datasets/master/medical_appointments.csv?token=AGVPHMFKKKQPPCU6SHE5TYC62LVJS\")"
   ]
  },
  {
   "cell_type": "code",
   "execution_count": 0,
   "metadata": {
    "colab": {
     "base_uri": "https://localhost:8080/",
     "height": 326
    },
    "colab_type": "code",
    "id": "_GM_v9BJ3cpC",
    "outputId": "ca807383-a2df-4ac7-bcaf-5d1e8b04dc17"
   },
   "outputs": [
    {
     "data": {
      "text/html": [
       "<div>\n",
       "<style scoped>\n",
       "    .dataframe tbody tr th:only-of-type {\n",
       "        vertical-align: middle;\n",
       "    }\n",
       "\n",
       "    .dataframe tbody tr th {\n",
       "        vertical-align: top;\n",
       "    }\n",
       "\n",
       "    .dataframe thead th {\n",
       "        text-align: right;\n",
       "    }\n",
       "</style>\n",
       "<table border=\"1\" class=\"dataframe\">\n",
       "  <thead>\n",
       "    <tr style=\"text-align: right;\">\n",
       "      <th></th>\n",
       "      <th>PatientId</th>\n",
       "      <th>AppointmentID</th>\n",
       "      <th>Gender</th>\n",
       "      <th>ScheduledDay</th>\n",
       "      <th>AppointmentDay</th>\n",
       "      <th>Age</th>\n",
       "      <th>Neighbourhood</th>\n",
       "      <th>Scholarship</th>\n",
       "      <th>Hipertension</th>\n",
       "      <th>Diabetes</th>\n",
       "      <th>Alcoholism</th>\n",
       "      <th>Handcap</th>\n",
       "      <th>SMS_received</th>\n",
       "      <th>No-show</th>\n",
       "    </tr>\n",
       "  </thead>\n",
       "  <tbody>\n",
       "    <tr>\n",
       "      <th>0</th>\n",
       "      <td>2.987250e+13</td>\n",
       "      <td>5642903</td>\n",
       "      <td>F</td>\n",
       "      <td>2016-04-29T18:38:08Z</td>\n",
       "      <td>2016-04-29T00:00:00Z</td>\n",
       "      <td>62</td>\n",
       "      <td>JARDIM DA PENHA</td>\n",
       "      <td>0</td>\n",
       "      <td>1</td>\n",
       "      <td>0</td>\n",
       "      <td>0</td>\n",
       "      <td>0</td>\n",
       "      <td>0</td>\n",
       "      <td>No</td>\n",
       "    </tr>\n",
       "    <tr>\n",
       "      <th>1</th>\n",
       "      <td>5.589978e+14</td>\n",
       "      <td>5642503</td>\n",
       "      <td>M</td>\n",
       "      <td>2016-04-29T16:08:27Z</td>\n",
       "      <td>2016-04-29T00:00:00Z</td>\n",
       "      <td>56</td>\n",
       "      <td>JARDIM DA PENHA</td>\n",
       "      <td>0</td>\n",
       "      <td>0</td>\n",
       "      <td>0</td>\n",
       "      <td>0</td>\n",
       "      <td>0</td>\n",
       "      <td>0</td>\n",
       "      <td>No</td>\n",
       "    </tr>\n",
       "    <tr>\n",
       "      <th>2</th>\n",
       "      <td>4.262962e+12</td>\n",
       "      <td>5642549</td>\n",
       "      <td>F</td>\n",
       "      <td>2016-04-29T16:19:04Z</td>\n",
       "      <td>2016-04-29T00:00:00Z</td>\n",
       "      <td>62</td>\n",
       "      <td>MATA DA PRAIA</td>\n",
       "      <td>0</td>\n",
       "      <td>0</td>\n",
       "      <td>0</td>\n",
       "      <td>0</td>\n",
       "      <td>0</td>\n",
       "      <td>0</td>\n",
       "      <td>No</td>\n",
       "    </tr>\n",
       "    <tr>\n",
       "      <th>3</th>\n",
       "      <td>8.679512e+11</td>\n",
       "      <td>5642828</td>\n",
       "      <td>F</td>\n",
       "      <td>2016-04-29T17:29:31Z</td>\n",
       "      <td>2016-04-29T00:00:00Z</td>\n",
       "      <td>8</td>\n",
       "      <td>PONTAL DE CAMBURI</td>\n",
       "      <td>0</td>\n",
       "      <td>0</td>\n",
       "      <td>0</td>\n",
       "      <td>0</td>\n",
       "      <td>0</td>\n",
       "      <td>0</td>\n",
       "      <td>No</td>\n",
       "    </tr>\n",
       "    <tr>\n",
       "      <th>4</th>\n",
       "      <td>8.841186e+12</td>\n",
       "      <td>5642494</td>\n",
       "      <td>F</td>\n",
       "      <td>2016-04-29T16:07:23Z</td>\n",
       "      <td>2016-04-29T00:00:00Z</td>\n",
       "      <td>56</td>\n",
       "      <td>JARDIM DA PENHA</td>\n",
       "      <td>0</td>\n",
       "      <td>1</td>\n",
       "      <td>1</td>\n",
       "      <td>0</td>\n",
       "      <td>0</td>\n",
       "      <td>0</td>\n",
       "      <td>No</td>\n",
       "    </tr>\n",
       "  </tbody>\n",
       "</table>\n",
       "</div>"
      ],
      "text/plain": [
       "      PatientId  AppointmentID Gender  ... Handcap SMS_received  No-show\n",
       "0  2.987250e+13        5642903      F  ...       0            0       No\n",
       "1  5.589978e+14        5642503      M  ...       0            0       No\n",
       "2  4.262962e+12        5642549      F  ...       0            0       No\n",
       "3  8.679512e+11        5642828      F  ...       0            0       No\n",
       "4  8.841186e+12        5642494      F  ...       0            0       No\n",
       "\n",
       "[5 rows x 14 columns]"
      ]
     },
     "execution_count": 3,
     "metadata": {
      "tags": []
     },
     "output_type": "execute_result"
    }
   ],
   "source": [
    "df.head()"
   ]
  },
  {
   "cell_type": "markdown",
   "metadata": {
    "colab_type": "text",
    "id": "1TwPngW-3cpI"
   },
   "source": [
    "# EDA"
   ]
  },
  {
   "cell_type": "code",
   "execution_count": 0,
   "metadata": {
    "colab": {
     "base_uri": "https://localhost:8080/",
     "height": 34
    },
    "colab_type": "code",
    "id": "rqr3bAzS3cpK",
    "outputId": "09aa0c60-e19d-46a3-b768-1b150c313144"
   },
   "outputs": [
    {
     "data": {
      "text/plain": [
       "(110527, 14)"
      ]
     },
     "execution_count": 4,
     "metadata": {
      "tags": []
     },
     "output_type": "execute_result"
    }
   ],
   "source": [
    "df.shape"
   ]
  },
  {
   "cell_type": "code",
   "execution_count": 0,
   "metadata": {
    "colab": {
     "base_uri": "https://localhost:8080/",
     "height": 374
    },
    "colab_type": "code",
    "id": "zfhEP4uQ3cpP",
    "outputId": "ed287534-64de-48a8-a550-146eae7260fc",
    "scrolled": true
   },
   "outputs": [
    {
     "name": "stdout",
     "output_type": "stream",
     "text": [
      "<class 'pandas.core.frame.DataFrame'>\n",
      "RangeIndex: 110527 entries, 0 to 110526\n",
      "Data columns (total 14 columns):\n",
      " #   Column          Non-Null Count   Dtype  \n",
      "---  ------          --------------   -----  \n",
      " 0   PatientId       110527 non-null  float64\n",
      " 1   AppointmentID   110527 non-null  int64  \n",
      " 2   Gender          110527 non-null  object \n",
      " 3   ScheduledDay    110527 non-null  object \n",
      " 4   AppointmentDay  110527 non-null  object \n",
      " 5   Age             110527 non-null  int64  \n",
      " 6   Neighbourhood   110527 non-null  object \n",
      " 7   Scholarship     110527 non-null  int64  \n",
      " 8   Hipertension    110527 non-null  int64  \n",
      " 9   Diabetes        110527 non-null  int64  \n",
      " 10  Alcoholism      110527 non-null  int64  \n",
      " 11  Handcap         110527 non-null  int64  \n",
      " 12  SMS_received    110527 non-null  int64  \n",
      " 13  No-show         110527 non-null  object \n",
      "dtypes: float64(1), int64(8), object(5)\n",
      "memory usage: 11.8+ MB\n"
     ]
    }
   ],
   "source": [
    "df.info()"
   ]
  },
  {
   "cell_type": "code",
   "execution_count": 0,
   "metadata": {
    "colab": {
     "base_uri": "https://localhost:8080/",
     "height": 119
    },
    "colab_type": "code",
    "id": "gZKTfV2S3cpV",
    "outputId": "fda3ac8c-e746-43e3-84a6-ee3a8b59db39"
   },
   "outputs": [
    {
     "data": {
      "text/plain": [
       "Gender            object\n",
       "ScheduledDay      object\n",
       "AppointmentDay    object\n",
       "Neighbourhood     object\n",
       "No-show           object\n",
       "dtype: object"
      ]
     },
     "execution_count": 6,
     "metadata": {
      "tags": []
     },
     "output_type": "execute_result"
    }
   ],
   "source": [
    "df.dtypes[df.dtypes=='O']"
   ]
  },
  {
   "cell_type": "markdown",
   "metadata": {
    "colab_type": "text",
    "id": "tz-DiHyS3cpd"
   },
   "source": [
    "- Binary: Scholarship, Hipertension, Diabetes, Alcoholism, Handcap, SMS_received\n",
    "- Cateogorical: Gender, Neighbourhood, No-show\n",
    "- Continuous: Age\n",
    "- Date: ScheduledDay, AppointmentDay\n",
    "- Identifiers: PatientID, AppointmentID"
   ]
  },
  {
   "cell_type": "code",
   "execution_count": 0,
   "metadata": {
    "colab": {
     "base_uri": "https://localhost:8080/",
     "height": 272
    },
    "colab_type": "code",
    "id": "TDvt6DQJ3cpe",
    "outputId": "2f581928-4f5b-467a-e9f1-c7062afced2b"
   },
   "outputs": [
    {
     "data": {
      "text/plain": [
       "PatientId         0\n",
       "AppointmentID     0\n",
       "Gender            0\n",
       "ScheduledDay      0\n",
       "AppointmentDay    0\n",
       "Age               0\n",
       "Neighbourhood     0\n",
       "Scholarship       0\n",
       "Hipertension      0\n",
       "Diabetes          0\n",
       "Alcoholism        0\n",
       "Handcap           0\n",
       "SMS_received      0\n",
       "No-show           0\n",
       "dtype: int64"
      ]
     },
     "execution_count": 7,
     "metadata": {
      "tags": []
     },
     "output_type": "execute_result"
    }
   ],
   "source": [
    "df.isnull().sum() # no missing data"
   ]
  },
  {
   "cell_type": "markdown",
   "metadata": {
    "colab_type": "text",
    "id": "-4ptnhWi3cph"
   },
   "source": [
    "**Thoughts**\n",
    "- All of the features seems to be useful in predictor No-show.  PatientID and AppointmentID can be used to see the number of appointments that I patient has (find out the number of appointmentID is associated with a patientID).  We also have to figure out a way to use ScheuldedDay and AppointmentDay  (maybe get DayoftheWeek and HoursoftheDay)."
   ]
  },
  {
   "cell_type": "markdown",
   "metadata": {
    "colab_type": "text",
    "id": "lA1kbNBy3cpi"
   },
   "source": [
    "**Number of Distinct values for each column**\n",
    "- I want to see if there is enough variations in my features "
   ]
  },
  {
   "cell_type": "code",
   "execution_count": 0,
   "metadata": {
    "colab": {
     "base_uri": "https://localhost:8080/",
     "height": 272
    },
    "colab_type": "code",
    "id": "UtLrhM5k3cpj",
    "outputId": "0dfa2fa4-587d-499b-b7ef-92082c8b1529",
    "scrolled": true
   },
   "outputs": [
    {
     "name": "stdout",
     "output_type": "stream",
     "text": [
      "          features  unique_count\n",
      "1    AppointmentID        110527\n",
      "3     ScheduledDay        103549\n",
      "0        PatientId         62299\n",
      "5              Age           104\n",
      "6    Neighbourhood            81\n",
      "4   AppointmentDay            27\n",
      "11         Handcap             5\n",
      "2           Gender             2\n",
      "7      Scholarship             2\n",
      "8     Hipertension             2\n",
      "9         Diabetes             2\n",
      "10      Alcoholism             2\n",
      "12    SMS_received             2\n",
      "13         No-show             2\n"
     ]
    }
   ],
   "source": [
    "col_unique = [(col,len(df.loc[:,col].unique())) for col in df.columns.values]\n",
    "temp = pd.DataFrame(col_unique, columns=[\"features\", \"unique_count\"]).sort_values(by=\"unique_count\",ascending=False)\n",
    "pprint.pprint(temp)"
   ]
  },
  {
   "cell_type": "markdown",
   "metadata": {
    "colab_type": "text",
    "id": "J4AZGWRH3cpn"
   },
   "source": [
    "**Number of levels for my categorical features**"
   ]
  },
  {
   "cell_type": "code",
   "execution_count": 0,
   "metadata": {
    "colab": {},
    "colab_type": "code",
    "id": "ARkTjzCb3cpn"
   },
   "outputs": [],
   "source": [
    "def level_counts(df,feature):\n",
    "    count = df.loc[:, feature].value_counts(dropna =False)\n",
    "    percent = round(df.loc[:,feature].value_counts(dropna=False, normalize=True)*100,2)\n",
    "    # Put the series count and percent in an output DataFrame\n",
    "    temp = pd.concat([count, percent], axis=1, keys=[\"count\", \"percent\"])\n",
    "    pprint.pprint(temp.iloc[:10,:])"
   ]
  },
  {
   "cell_type": "code",
   "execution_count": 0,
   "metadata": {
    "colab": {
     "base_uri": "https://localhost:8080/",
     "height": 68
    },
    "colab_type": "code",
    "id": "t7fkftLH3cpu",
    "outputId": "b7a2d436-fd40-447a-9f19-51d3bb614ee2"
   },
   "outputs": [
    {
     "name": "stdout",
     "output_type": "stream",
     "text": [
      "   count  percent\n",
      "F  71840     65.0\n",
      "M  38687     35.0\n"
     ]
    }
   ],
   "source": [
    "level_counts(df,\"Gender\")"
   ]
  },
  {
   "cell_type": "code",
   "execution_count": 0,
   "metadata": {
    "colab": {
     "base_uri": "https://localhost:8080/",
     "height": 204
    },
    "colab_type": "code",
    "id": "3sY2pufG3cpy",
    "outputId": "af1f3e78-89f3-4e29-e695-7bb29605b809"
   },
   "outputs": [
    {
     "name": "stdout",
     "output_type": "stream",
     "text": [
      "                   count  percent\n",
      "JARDIM CAMBURI      7717     6.98\n",
      "MARIA ORTIZ         5805     5.25\n",
      "RESISTÊNCIA         4431     4.01\n",
      "JARDIM DA PENHA     3877     3.51\n",
      "ITARARÉ             3514     3.18\n",
      "CENTRO              3334     3.02\n",
      "TABUAZEIRO          3132     2.83\n",
      "SANTA MARTHA        3131     2.83\n",
      "JESUS DE NAZARETH   2853     2.58\n",
      "BONFIM              2773     2.51\n"
     ]
    }
   ],
   "source": [
    "level_counts(df,\"Neighbourhood\")"
   ]
  },
  {
   "cell_type": "code",
   "execution_count": 0,
   "metadata": {
    "colab": {
     "base_uri": "https://localhost:8080/",
     "height": 68
    },
    "colab_type": "code",
    "id": "-EpTOy3M3cp2",
    "outputId": "08241eb7-2981-4dbf-8108-9af0a93f81bf",
    "scrolled": true
   },
   "outputs": [
    {
     "name": "stdout",
     "output_type": "stream",
     "text": [
      "     count  percent\n",
      "No   88208    79.81\n",
      "Yes  22319    20.19\n"
     ]
    }
   ],
   "source": [
    "level_counts(df,\"No-show\")"
   ]
  },
  {
   "cell_type": "code",
   "execution_count": 0,
   "metadata": {
    "colab": {
     "base_uri": "https://localhost:8080/",
     "height": 119
    },
    "colab_type": "code",
    "id": "26YRbE7U3cp4",
    "outputId": "b0d4b371-8494-4e74-b112-638893076457"
   },
   "outputs": [
    {
     "name": "stdout",
     "output_type": "stream",
     "text": [
      "    count  percent\n",
      "0  108286    97.97\n",
      "1    2042     1.85\n",
      "2     183     0.17\n",
      "3      13     0.01\n",
      "4       3     0.00\n"
     ]
    }
   ],
   "source": [
    "level_counts(df,\"Handcap\") # Handcap have 5 categories, perhaps 0 means no Handcap and 4 means very severe handicap"
   ]
  },
  {
   "cell_type": "markdown",
   "metadata": {
    "colab_type": "text",
    "id": "9HzEqPW53cp9"
   },
   "source": [
    "**Date data processing**"
   ]
  },
  {
   "cell_type": "code",
   "execution_count": 0,
   "metadata": {
    "colab": {
     "base_uri": "https://localhost:8080/",
     "height": 204
    },
    "colab_type": "code",
    "id": "qkQM3HtZ3cp-",
    "outputId": "61c4ba32-c4dd-450e-a611-6308077a9c27"
   },
   "outputs": [
    {
     "data": {
      "text/html": [
       "<div>\n",
       "<style scoped>\n",
       "    .dataframe tbody tr th:only-of-type {\n",
       "        vertical-align: middle;\n",
       "    }\n",
       "\n",
       "    .dataframe tbody tr th {\n",
       "        vertical-align: top;\n",
       "    }\n",
       "\n",
       "    .dataframe thead th {\n",
       "        text-align: right;\n",
       "    }\n",
       "</style>\n",
       "<table border=\"1\" class=\"dataframe\">\n",
       "  <thead>\n",
       "    <tr style=\"text-align: right;\">\n",
       "      <th></th>\n",
       "      <th>ScheduledDay</th>\n",
       "      <th>AppointmentDay</th>\n",
       "    </tr>\n",
       "  </thead>\n",
       "  <tbody>\n",
       "    <tr>\n",
       "      <th>90665</th>\n",
       "      <td>2016-06-03T07:39:22Z</td>\n",
       "      <td>2016-06-03T00:00:00Z</td>\n",
       "    </tr>\n",
       "    <tr>\n",
       "      <th>417</th>\n",
       "      <td>2016-03-21T15:22:17Z</td>\n",
       "      <td>2016-04-29T00:00:00Z</td>\n",
       "    </tr>\n",
       "    <tr>\n",
       "      <th>77445</th>\n",
       "      <td>2016-05-05T07:10:22Z</td>\n",
       "      <td>2016-05-13T00:00:00Z</td>\n",
       "    </tr>\n",
       "    <tr>\n",
       "      <th>76444</th>\n",
       "      <td>2016-05-31T07:47:41Z</td>\n",
       "      <td>2016-05-31T00:00:00Z</td>\n",
       "    </tr>\n",
       "    <tr>\n",
       "      <th>86597</th>\n",
       "      <td>2016-06-02T16:31:28Z</td>\n",
       "      <td>2016-06-02T00:00:00Z</td>\n",
       "    </tr>\n",
       "  </tbody>\n",
       "</table>\n",
       "</div>"
      ],
      "text/plain": [
       "               ScheduledDay        AppointmentDay\n",
       "90665  2016-06-03T07:39:22Z  2016-06-03T00:00:00Z\n",
       "417    2016-03-21T15:22:17Z  2016-04-29T00:00:00Z\n",
       "77445  2016-05-05T07:10:22Z  2016-05-13T00:00:00Z\n",
       "76444  2016-05-31T07:47:41Z  2016-05-31T00:00:00Z\n",
       "86597  2016-06-02T16:31:28Z  2016-06-02T00:00:00Z"
      ]
     },
     "execution_count": 14,
     "metadata": {
      "tags": []
     },
     "output_type": "execute_result"
    }
   ],
   "source": [
    "df[[\"ScheduledDay\",\"AppointmentDay\"]].sample(5)"
   ]
  },
  {
   "cell_type": "code",
   "execution_count": 0,
   "metadata": {
    "colab": {
     "base_uri": "https://localhost:8080/",
     "height": 34
    },
    "colab_type": "code",
    "id": "SGvmQvWT3cqC",
    "outputId": "b64f2db0-8f77-46d6-a31e-daf149f3378f",
    "scrolled": true
   },
   "outputs": [
    {
     "data": {
      "text/plain": [
       "(str, str)"
      ]
     },
     "execution_count": 15,
     "metadata": {
      "tags": []
     },
     "output_type": "execute_result"
    }
   ],
   "source": [
    "type(df.loc[0,\"ScheduledDay\"]), type(df.loc[0,\"AppointmentDay\"]) "
   ]
  },
  {
   "cell_type": "markdown",
   "metadata": {
    "colab_type": "text",
    "id": "ZeEfONdl3cqG"
   },
   "source": [
    "I need to convert from str to datetime objects for these columns."
   ]
  },
  {
   "cell_type": "code",
   "execution_count": 0,
   "metadata": {
    "colab": {},
    "colab_type": "code",
    "id": "iKsC74Mi3cqI"
   },
   "outputs": [],
   "source": [
    "data=df.copy()"
   ]
  },
  {
   "cell_type": "code",
   "execution_count": 0,
   "metadata": {
    "colab": {},
    "colab_type": "code",
    "id": "KSkhio_53cqO"
   },
   "outputs": [],
   "source": [
    "data[\"ScheduledDay\"] =pd.to_datetime(data[\"ScheduledDay\"])\n",
    "data[\"AppointmentDay\"] =pd.to_datetime(data[\"AppointmentDay\"])"
   ]
  },
  {
   "cell_type": "markdown",
   "metadata": {
    "colab_type": "text",
    "id": "9upGr4kq3cqS"
   },
   "source": [
    "**Find the Awaiting Time: the time gap between the patient register for his/her appointment and the time when he/she actually show up for the appointment**"
   ]
  },
  {
   "cell_type": "code",
   "execution_count": 0,
   "metadata": {
    "colab": {},
    "colab_type": "code",
    "id": "36O2Sjlx3cqS"
   },
   "outputs": [],
   "source": [
    "data[\"AwaitingTime\"] = data[\"AppointmentDay\"]-data[\"ScheduledDay\"]"
   ]
  },
  {
   "cell_type": "markdown",
   "metadata": {
    "colab_type": "text",
    "id": "0duud3Oc3cqW"
   },
   "source": [
    "**AppointmentDay has NO time component, so I want to find the time gap in terms of days**\n",
    "- My hypothesis is that the longer the time gap, the more likely the patient will not show up."
   ]
  },
  {
   "cell_type": "code",
   "execution_count": 0,
   "metadata": {
    "colab": {},
    "colab_type": "code",
    "id": "8-1sZsAe3cqW"
   },
   "outputs": [],
   "source": [
    "data[\"AwaitingDays\"] = data[\"AwaitingTime\"].map(lambda x: x.days) "
   ]
  },
  {
   "cell_type": "markdown",
   "metadata": {
    "colab_type": "text",
    "id": "lkxVk7BO3cqZ"
   },
   "source": [
    "**I am interested in the time of the day, and the day of the week in which the patient actually comes to the appointment.  I think that the day of the week (say during a workdaylike Monday to Thursday) would have more no shows.  Ideally, I also want to interact that with hours of the day, but unfortunately, we have no hours information for AppointmentDay.**"
   ]
  },
  {
   "cell_type": "code",
   "execution_count": 0,
   "metadata": {
    "colab": {},
    "colab_type": "code",
    "id": "jiUtukzr3cqa"
   },
   "outputs": [],
   "source": [
    "# Function  to find day of the week given a datetime\n",
    "def findDay(date):\n",
    "    return date.strftime(\"%A\")"
   ]
  },
  {
   "cell_type": "code",
   "execution_count": 0,
   "metadata": {
    "colab": {},
    "colab_type": "code",
    "id": "nzx5gJAO3cqe"
   },
   "outputs": [],
   "source": [
    "data[\"Appoint_Day_of_Week\"] = data.AppointmentDay.map(lambda x: findDay(x))"
   ]
  },
  {
   "cell_type": "code",
   "execution_count": 0,
   "metadata": {
    "colab": {},
    "colab_type": "code",
    "id": "6rcaQ5AL3cqh"
   },
   "outputs": [],
   "source": []
  },
  {
   "cell_type": "markdown",
   "metadata": {
    "colab_type": "text",
    "id": "hnoQrkqL3cqk"
   },
   "source": [
    "## Univariate Analysis\n",
    "- Use plots to find anomalies, patterns, and relationships\n",
    "- Start with a high level overview of the data, then narrows in to specific features "
   ]
  },
  {
   "cell_type": "markdown",
   "metadata": {
    "colab_type": "text",
    "id": "_KDvpBG03cql"
   },
   "source": [
    "**Use barplots to look at all categorical variables**"
   ]
  },
  {
   "cell_type": "code",
   "execution_count": 0,
   "metadata": {
    "colab": {
     "base_uri": "https://localhost:8080/",
     "height": 425
    },
    "colab_type": "code",
    "id": "1W7NxPHV3cql",
    "outputId": "befb5194-804e-4e14-f9b0-1408c30a97dc"
   },
   "outputs": [
    {
     "name": "stdout",
     "output_type": "stream",
     "text": [
      "<class 'pandas.core.frame.DataFrame'>\n",
      "RangeIndex: 110527 entries, 0 to 110526\n",
      "Data columns (total 17 columns):\n",
      " #   Column               Non-Null Count   Dtype              \n",
      "---  ------               --------------   -----              \n",
      " 0   PatientId            110527 non-null  float64            \n",
      " 1   AppointmentID        110527 non-null  int64              \n",
      " 2   Gender               110527 non-null  object             \n",
      " 3   ScheduledDay         110527 non-null  datetime64[ns, UTC]\n",
      " 4   AppointmentDay       110527 non-null  datetime64[ns, UTC]\n",
      " 5   Age                  110527 non-null  int64              \n",
      " 6   Neighbourhood        110527 non-null  object             \n",
      " 7   Scholarship          110527 non-null  int64              \n",
      " 8   Hipertension         110527 non-null  int64              \n",
      " 9   Diabetes             110527 non-null  int64              \n",
      " 10  Alcoholism           110527 non-null  int64              \n",
      " 11  Handcap              110527 non-null  int64              \n",
      " 12  SMS_received         110527 non-null  int64              \n",
      " 13  No-show              110527 non-null  object             \n",
      " 14  AwaitingTime         110527 non-null  timedelta64[ns]    \n",
      " 15  AwaitingDays         110527 non-null  int64              \n",
      " 16  Appoint_Day_of_Week  110527 non-null  object             \n",
      "dtypes: datetime64[ns, UTC](2), float64(1), int64(9), object(4), timedelta64[ns](1)\n",
      "memory usage: 14.3+ MB\n"
     ]
    }
   ],
   "source": [
    "data.info()"
   ]
  },
  {
   "cell_type": "code",
   "execution_count": 0,
   "metadata": {
    "colab": {},
    "colab_type": "code",
    "id": "Sy7JcBAX3cqy"
   },
   "outputs": [],
   "source": [
    "categorical_var = [\"Appoint_Day_of_Week\",\"No-show\",\"SMS_received\",\"Handcap\",\"Alcoholism\",\"Diabetes\",\"Hipertension\",\n",
    "                \"Scholarship\",\"Gender\"]"
   ]
  },
  {
   "cell_type": "code",
   "execution_count": 0,
   "metadata": {
    "colab": {},
    "colab_type": "code",
    "id": "rOJlGZ7k3cq1"
   },
   "outputs": [],
   "source": [
    "def categorical_barplots(var_list):\n",
    "    plt.figure(figsize=(15,25))\n",
    "    \n",
    "    for i, var in enumerate(var_list): # var index and var name from var_list\n",
    "        plt.subplot(7,2,i+1) \n",
    "        data[var].value_counts(normalize=True).plot(kind='bar', title=var)\n",
    "        plt.ylabel(\"Proportion\")\n",
    "        plt.xticks(rotation='horizontal')\n",
    "        # Tweak spacing to prevent clipping of tick-labels\n",
    "        plt.subplots_adjust(bottom=-0.3)"
   ]
  },
  {
   "cell_type": "code",
   "execution_count": 0,
   "metadata": {
    "colab": {
     "base_uri": "https://localhost:8080/",
     "height": 1000
    },
    "colab_type": "code",
    "id": "HmpN7JTI3cq3",
    "outputId": "31283dba-a543-45cc-d6ad-329c2df9f4f4"
   },
   "outputs": [
    {
     "data": {
      "image/png": "[encoded data removed]",
      "text/plain": [
       "<Figure size 1080x1800 with 9 Axes>"
      ]
     },
     "metadata": {
      "needs_background": "light",
      "tags": []
     },
     "output_type": "display_data"
    }
   ],
   "source": [
    "categorical_barplots(categorical_var)"
   ]
  },
  {
   "cell_type": "markdown",
   "metadata": {
    "colab_type": "text",
    "id": "b6BRBLxV3cq6"
   },
   "source": [
    "- The clinic seems to be closed on Saturady and Sunday.  Monday to Wednesdays are the most popular appointment day of the week.\n",
    "- 30% of the patients did not show up to their appointments.\n",
    "- More than 60% of the patients are feamles.\n",
    "- Only 20% has financial aid.\n",
    "- 30% of the patients have SMS reminders.\n",
    "- Only a very small proportion of people have handicaps, so this might not be a good predictor of no show.  It is not a binary variable but instead have 4 levels."
   ]
  },
  {
   "cell_type": "markdown",
   "metadata": {
    "colab_type": "text",
    "id": "1FXBwDMH3cq7"
   },
   "source": [
    "Since only a very small proportion of patients have handcap 2, 3, or 4, I will turn Handcap to a binary variable and set all patients with Handcap>=1 to 1."
   ]
  },
  {
   "cell_type": "code",
   "execution_count": 0,
   "metadata": {
    "colab": {},
    "colab_type": "code",
    "id": "PR2BFtd43cq7"
   },
   "outputs": [],
   "source": [
    "data.loc[data[\"Handcap\"]>=1,\"Handcap\"] = 1"
   ]
  },
  {
   "cell_type": "code",
   "execution_count": 0,
   "metadata": {
    "colab": {
     "base_uri": "https://localhost:8080/",
     "height": 68
    },
    "colab_type": "code",
    "id": "XJh8VSmD3crB",
    "outputId": "86b8af25-49ae-4df5-d4f4-647da7758a77"
   },
   "outputs": [
    {
     "data": {
      "text/plain": [
       "0    108286\n",
       "1      2241\n",
       "Name: Handcap, dtype: int64"
      ]
     },
     "execution_count": 27,
     "metadata": {
      "tags": []
     },
     "output_type": "execute_result"
    }
   ],
   "source": [
    "data.Handcap.value_counts()"
   ]
  },
  {
   "cell_type": "markdown",
   "metadata": {
    "colab_type": "text",
    "id": "gkzZzkDm3crH"
   },
   "source": [
    "**Let's look at the probability distribution of the continuous variables: AwaitingDays and Age**"
   ]
  },
  {
   "cell_type": "code",
   "execution_count": 0,
   "metadata": {
    "colab": {},
    "colab_type": "code",
    "id": "4MwiNnsv3crH"
   },
   "outputs": [],
   "source": [
    "cont_var = [\"Age\", \"AwaitingDays\"]"
   ]
  },
  {
   "cell_type": "code",
   "execution_count": 0,
   "metadata": {
    "colab": {},
    "colab_type": "code",
    "id": "Rbk7KXY83crK"
   },
   "outputs": [],
   "source": [
    "def continuous_kde(var_list):\n",
    "    plt.figure(figsize=(8,15))\n",
    "    for i, var in enumerate(var_list): # var index and var name from var_list\n",
    "        plt.subplot(3,1,i+1) \n",
    "        sns.kdeplot(data=data.loc[:,var])\n",
    "        plt.ylabel(\"f(x)\")\n",
    "        plt.xticks(rotation='horizontal')"
   ]
  },
  {
   "cell_type": "code",
   "execution_count": 0,
   "metadata": {
    "colab": {
     "base_uri": "https://localhost:8080/",
     "height": 576
    },
    "colab_type": "code",
    "id": "fAqJc67Q3crM",
    "outputId": "c134c365-c41e-4f19-873b-c4227af69890"
   },
   "outputs": [
    {
     "data": {
      "image/png": "[encoded data removed]",
      "text/plain": [
       "<Figure size 576x1080 with 2 Axes>"
      ]
     },
     "metadata": {
      "needs_background": "light",
      "tags": []
     },
     "output_type": "display_data"
    }
   ],
   "source": [
    "continuous_kde(cont_var)"
   ]
  },
  {
   "cell_type": "markdown",
   "metadata": {
    "colab_type": "text",
    "id": "XDOyjNO93crR"
   },
   "source": [
    "- There is a small number of patients with negative age and negative AwaitingDays, which is not possible.\n",
    "- The distribution of age is pretty uniform\n",
    "- Some outliers in AwaitingDays\n",
    "- A lot of patients reigster on the same date as their appointments"
   ]
  },
  {
   "cell_type": "code",
   "execution_count": 0,
   "metadata": {
    "colab": {
     "base_uri": "https://localhost:8080/",
     "height": 221
    },
    "colab_type": "code",
    "id": "g2cYpPf_3crR",
    "outputId": "e9651f6c-9083-4465-b834-369d33436de7"
   },
   "outputs": [
    {
     "data": {
      "text/plain": [
       "71533    -7\n",
       "55226    -2\n",
       "72362    -2\n",
       "27033    -2\n",
       "64175    -2\n",
       "         ..\n",
       "39990    -1\n",
       "39991    -1\n",
       "39992    -1\n",
       "39994    -1\n",
       "110517   -1\n",
       "Name: AwaitingDays, Length: 38568, dtype: int64"
      ]
     },
     "execution_count": 31,
     "metadata": {
      "tags": []
     },
     "output_type": "execute_result"
    }
   ],
   "source": [
    "data.loc[data.AwaitingDays<0,\"AwaitingDays\"].sort_values()"
   ]
  },
  {
   "cell_type": "code",
   "execution_count": 0,
   "metadata": {
    "colab": {
     "base_uri": "https://localhost:8080/",
     "height": 34
    },
    "colab_type": "code",
    "id": "ekLqABb73crU",
    "outputId": "e1f82397-3a7a-4fa0-e6aa-3977a9164105"
   },
   "outputs": [
    {
     "data": {
      "text/plain": [
       "0.34894641128412063"
      ]
     },
     "execution_count": 32,
     "metadata": {
      "tags": []
     },
     "output_type": "execute_result"
    }
   ],
   "source": [
    "len(data.loc[data.AwaitingDays<0,\"AwaitingDays\"].sort_values())/len(data)"
   ]
  },
  {
   "cell_type": "markdown",
   "metadata": {
    "colab_type": "text",
    "id": "lV_8XCvO3crY"
   },
   "source": [
    "34.9% of the data has negative AwaitingDays: the Appointment date is BEFORE the register date."
   ]
  },
  {
   "cell_type": "code",
   "execution_count": 0,
   "metadata": {
    "colab": {
     "base_uri": "https://localhost:8080/",
     "height": 34
    },
    "colab_type": "code",
    "id": "R3mP2ypy3crZ",
    "outputId": "a51ca978-bef1-482a-dbce-5ef0ee6c2b76",
    "scrolled": true
   },
   "outputs": [
    {
     "data": {
      "text/plain": [
       "0.34890117346892613"
      ]
     },
     "execution_count": 33,
     "metadata": {
      "tags": []
     },
     "output_type": "execute_result"
    }
   ],
   "source": [
    "len(data.loc[data.AwaitingDays==-1,\"AwaitingDays\"].sort_values())/len(data)"
   ]
  },
  {
   "cell_type": "markdown",
   "metadata": {
    "colab_type": "text",
    "id": "TvKDYqgC3crb"
   },
   "source": [
    "Almost all of them have AwaitingDays== -1"
   ]
  },
  {
   "cell_type": "code",
   "execution_count": 0,
   "metadata": {
    "colab": {
     "base_uri": "https://localhost:8080/",
     "height": 326
    },
    "colab_type": "code",
    "id": "E47hqnZX3crc",
    "outputId": "67662220-0e49-42c4-f297-7e9423f89f84"
   },
   "outputs": [
    {
     "data": {
      "text/html": [
       "<div>\n",
       "<style scoped>\n",
       "    .dataframe tbody tr th:only-of-type {\n",
       "        vertical-align: middle;\n",
       "    }\n",
       "\n",
       "    .dataframe tbody tr th {\n",
       "        vertical-align: top;\n",
       "    }\n",
       "\n",
       "    .dataframe thead th {\n",
       "        text-align: right;\n",
       "    }\n",
       "</style>\n",
       "<table border=\"1\" class=\"dataframe\">\n",
       "  <thead>\n",
       "    <tr style=\"text-align: right;\">\n",
       "      <th></th>\n",
       "      <th>PatientId</th>\n",
       "      <th>AppointmentID</th>\n",
       "      <th>Gender</th>\n",
       "      <th>ScheduledDay</th>\n",
       "      <th>AppointmentDay</th>\n",
       "      <th>Age</th>\n",
       "      <th>Neighbourhood</th>\n",
       "      <th>Scholarship</th>\n",
       "      <th>Hipertension</th>\n",
       "      <th>Diabetes</th>\n",
       "      <th>Alcoholism</th>\n",
       "      <th>Handcap</th>\n",
       "      <th>SMS_received</th>\n",
       "      <th>No-show</th>\n",
       "      <th>AwaitingTime</th>\n",
       "      <th>AwaitingDays</th>\n",
       "      <th>Appoint_Day_of_Week</th>\n",
       "    </tr>\n",
       "  </thead>\n",
       "  <tbody>\n",
       "    <tr>\n",
       "      <th>72487</th>\n",
       "      <td>8.356651e+13</td>\n",
       "      <td>5653960</td>\n",
       "      <td>M</td>\n",
       "      <td>2016-05-03 13:35:10+00:00</td>\n",
       "      <td>2016-05-03 00:00:00+00:00</td>\n",
       "      <td>67</td>\n",
       "      <td>ANDORINHAS</td>\n",
       "      <td>0</td>\n",
       "      <td>1</td>\n",
       "      <td>0</td>\n",
       "      <td>0</td>\n",
       "      <td>0</td>\n",
       "      <td>0</td>\n",
       "      <td>No</td>\n",
       "      <td>-1 days +10:24:50</td>\n",
       "      <td>-1</td>\n",
       "      <td>Tuesday</td>\n",
       "    </tr>\n",
       "    <tr>\n",
       "      <th>12327</th>\n",
       "      <td>1.843618e+14</td>\n",
       "      <td>5706914</td>\n",
       "      <td>M</td>\n",
       "      <td>2016-05-17 08:57:41+00:00</td>\n",
       "      <td>2016-05-17 00:00:00+00:00</td>\n",
       "      <td>41</td>\n",
       "      <td>MARIA ORTIZ</td>\n",
       "      <td>0</td>\n",
       "      <td>0</td>\n",
       "      <td>0</td>\n",
       "      <td>0</td>\n",
       "      <td>0</td>\n",
       "      <td>0</td>\n",
       "      <td>No</td>\n",
       "      <td>-1 days +15:02:19</td>\n",
       "      <td>-1</td>\n",
       "      <td>Tuesday</td>\n",
       "    </tr>\n",
       "    <tr>\n",
       "      <th>42606</th>\n",
       "      <td>4.215124e+13</td>\n",
       "      <td>5739832</td>\n",
       "      <td>M</td>\n",
       "      <td>2016-05-25 14:12:42+00:00</td>\n",
       "      <td>2016-05-25 00:00:00+00:00</td>\n",
       "      <td>15</td>\n",
       "      <td>MARIA ORTIZ</td>\n",
       "      <td>0</td>\n",
       "      <td>0</td>\n",
       "      <td>0</td>\n",
       "      <td>0</td>\n",
       "      <td>0</td>\n",
       "      <td>0</td>\n",
       "      <td>No</td>\n",
       "      <td>-1 days +09:47:18</td>\n",
       "      <td>-1</td>\n",
       "      <td>Wednesday</td>\n",
       "    </tr>\n",
       "    <tr>\n",
       "      <th>66159</th>\n",
       "      <td>6.722978e+12</td>\n",
       "      <td>5643144</td>\n",
       "      <td>M</td>\n",
       "      <td>2016-05-02 07:09:50+00:00</td>\n",
       "      <td>2016-05-02 00:00:00+00:00</td>\n",
       "      <td>6</td>\n",
       "      <td>JARDIM CAMBURI</td>\n",
       "      <td>0</td>\n",
       "      <td>0</td>\n",
       "      <td>0</td>\n",
       "      <td>0</td>\n",
       "      <td>0</td>\n",
       "      <td>0</td>\n",
       "      <td>Yes</td>\n",
       "      <td>-1 days +16:50:10</td>\n",
       "      <td>-1</td>\n",
       "      <td>Monday</td>\n",
       "    </tr>\n",
       "    <tr>\n",
       "      <th>88030</th>\n",
       "      <td>6.887996e+13</td>\n",
       "      <td>5776571</td>\n",
       "      <td>F</td>\n",
       "      <td>2016-06-06 11:25:01+00:00</td>\n",
       "      <td>2016-06-06 00:00:00+00:00</td>\n",
       "      <td>60</td>\n",
       "      <td>DA PENHA</td>\n",
       "      <td>0</td>\n",
       "      <td>1</td>\n",
       "      <td>0</td>\n",
       "      <td>0</td>\n",
       "      <td>0</td>\n",
       "      <td>0</td>\n",
       "      <td>No</td>\n",
       "      <td>-1 days +12:34:59</td>\n",
       "      <td>-1</td>\n",
       "      <td>Monday</td>\n",
       "    </tr>\n",
       "  </tbody>\n",
       "</table>\n",
       "</div>"
      ],
      "text/plain": [
       "          PatientId  AppointmentID  ... AwaitingDays Appoint_Day_of_Week\n",
       "72487  8.356651e+13        5653960  ...           -1             Tuesday\n",
       "12327  1.843618e+14        5706914  ...           -1             Tuesday\n",
       "42606  4.215124e+13        5739832  ...           -1           Wednesday\n",
       "66159  6.722978e+12        5643144  ...           -1              Monday\n",
       "88030  6.887996e+13        5776571  ...           -1              Monday\n",
       "\n",
       "[5 rows x 17 columns]"
      ]
     },
     "execution_count": 34,
     "metadata": {
      "tags": []
     },
     "output_type": "execute_result"
    }
   ],
   "source": [
    "data.loc[data.AwaitingDays==-1,:].sample(5)"
   ]
  },
  {
   "cell_type": "markdown",
   "metadata": {
    "colab_type": "text",
    "id": "uuWmbXeo3crf"
   },
   "source": [
    "**Since AppointmentDay has no time components (they all default to 00:00), for patients who made same-day appointments, they will have AwaitingDay of -1.  I will create a new dummy variable called \"SameDayAppointment\" and will set this variable to 1 for all patients with AwaitingDay =-1, and 0 otherwise.  I will also remove all patients with AwaitingDay <1.**"
   ]
  },
  {
   "cell_type": "code",
   "execution_count": 0,
   "metadata": {
    "colab": {},
    "colab_type": "code",
    "id": "EhOSb1ig3crg"
   },
   "outputs": [],
   "source": [
    "data[\"SameDayAppointment\"] = 0\n",
    "data.loc[data[\"AwaitingDays\"]==-1,\"SameDayAppointment\"] = 1"
   ]
  },
  {
   "cell_type": "code",
   "execution_count": 0,
   "metadata": {
    "colab": {},
    "colab_type": "code",
    "id": "ml6N8JmQ3crk"
   },
   "outputs": [],
   "source": [
    "data.loc[data[\"AwaitingDays\"]==-1,\"AwaitingDays\"] = 0 # set all patients with AwaitingDays=-1 to AwaitingDays=0"
   ]
  },
  {
   "cell_type": "code",
   "execution_count": 0,
   "metadata": {
    "colab": {},
    "colab_type": "code",
    "id": "rzeRyIBX3crp"
   },
   "outputs": [],
   "source": [
    "data=data.loc[data[\"AwaitingDays\"]>-1,:]"
   ]
  },
  {
   "cell_type": "code",
   "execution_count": 0,
   "metadata": {
    "colab": {
     "base_uri": "https://localhost:8080/",
     "height": 34
    },
    "colab_type": "code",
    "id": "6NESQSMf3cru",
    "outputId": "5e23e822-7998-42b4-a69b-85d48b28bd0d"
   },
   "outputs": [
    {
     "data": {
      "text/plain": [
       "9.0479723493965e-06"
      ]
     },
     "execution_count": 38,
     "metadata": {
      "tags": []
     },
     "output_type": "execute_result"
    }
   ],
   "source": [
    "len(data.loc[data.Age<0,\"Age\"].sort_values())/len(data)"
   ]
  },
  {
   "cell_type": "markdown",
   "metadata": {
    "colab_type": "text",
    "id": "uyLw6xfW3cr5"
   },
   "source": [
    "Only a very small proporption of patients have negative age. I will therefore remove those patients."
   ]
  },
  {
   "cell_type": "code",
   "execution_count": 0,
   "metadata": {
    "colab": {},
    "colab_type": "code",
    "id": "pCZJMMqu3cr5"
   },
   "outputs": [],
   "source": [
    "data = data.loc[data.Age>=0,:]"
   ]
  },
  {
   "cell_type": "code",
   "execution_count": 0,
   "metadata": {
    "colab": {
     "base_uri": "https://localhost:8080/",
     "height": 34
    },
    "colab_type": "code",
    "id": "pv6a86L23csD",
    "outputId": "82e862ed-3470-480a-a2db-24dbe14901bb"
   },
   "outputs": [
    {
     "data": {
      "text/plain": [
       "(110521, 18)"
      ]
     },
     "execution_count": 40,
     "metadata": {
      "tags": []
     },
     "output_type": "execute_result"
    }
   ],
   "source": [
    "data.shape"
   ]
  },
  {
   "cell_type": "code",
   "execution_count": 0,
   "metadata": {
    "colab": {
     "base_uri": "https://localhost:8080/",
     "height": 119
    },
    "colab_type": "code",
    "id": "f3GeTesK3csH",
    "outputId": "8703c64f-c68d-4dab-fb96-2a9c0ee2eda0"
   },
   "outputs": [
    {
     "data": {
      "text/plain": [
       "Index(['PatientId', 'AppointmentID', 'Gender', 'ScheduledDay',\n",
       "       'AppointmentDay', 'Age', 'Neighbourhood', 'Scholarship', 'Hipertension',\n",
       "       'Diabetes', 'Alcoholism', 'Handcap', 'SMS_received', 'No-show',\n",
       "       'AwaitingTime', 'AwaitingDays', 'Appoint_Day_of_Week',\n",
       "       'SameDayAppointment'],\n",
       "      dtype='object')"
      ]
     },
     "execution_count": 41,
     "metadata": {
      "tags": []
     },
     "output_type": "execute_result"
    }
   ],
   "source": [
    "data.columns"
   ]
  },
  {
   "cell_type": "markdown",
   "metadata": {
    "colab_type": "text",
    "id": "sGLio0_T3csK"
   },
   "source": [
    "## Outliers\n",
    "- I remove Outliers that are above Q3+3*IQR for Awaiting time"
   ]
  },
  {
   "cell_type": "code",
   "execution_count": 0,
   "metadata": {
    "colab": {},
    "colab_type": "code",
    "id": "WzTcnilg3csK"
   },
   "outputs": [],
   "source": [
    "def remove_outliers(df, feature):\n",
    "    first_quartile = df.loc[:,feature].describe()[\"25%\"]\n",
    "    third_quartile = df.loc[:,feature].describe()[\"75%\"]\n",
    "    \n",
    "    iqr = third_quartile - first_quartile\n",
    "    lower_bound = first_quartile -3*iqr\n",
    "    upper_bound = third_quartile+3*iqr\n",
    "    \n",
    "    # Remove outliers (only keep observations within IQR)\n",
    "    df = df[(df.loc[:,feature]<upper_bound) & (df.loc[:,feature]>lower_bound)]\n",
    "    print (lower_bound, upper_bound)\n",
    "    return df"
   ]
  },
  {
   "cell_type": "code",
   "execution_count": 0,
   "metadata": {
    "colab": {
     "base_uri": "https://localhost:8080/"
    },
    "colab_type": "code",
    "id": "e7menf3b3csN",
    "outputId": "8e41e892-0c11-4a91-d1e7-ef03389addf7"
   },
   "outputs": [
    {
     "name": "stdout",
     "output_type": "stream",
     "text": [
      "-42.0 56.0\n"
     ]
    }
   ],
   "source": [
    "data=remove_outliers(data,\"AwaitingDays\")"
   ]
  },
  {
   "cell_type": "code",
   "execution_count": 0,
   "metadata": {
    "colab": {
     "base_uri": "https://localhost:8080/"
    },
    "colab_type": "code",
    "id": "lRuEYtsR3csP",
    "outputId": "799a22f7-865c-4301-e999-49e076f5ce16"
   },
   "outputs": [
    {
     "name": "stdout",
     "output_type": "stream",
     "text": [
      "-97.0 169.0\n"
     ]
    }
   ],
   "source": [
    "data=remove_outliers(data,\"Age\")"
   ]
  },
  {
   "cell_type": "markdown",
   "metadata": {
    "colab_type": "text",
    "id": "AYjhoe4F3csT"
   },
   "source": [
    "## Are there patients with more than one appointments?"
   ]
  },
  {
   "cell_type": "code",
   "execution_count": 0,
   "metadata": {
    "colab": {},
    "colab_type": "code",
    "id": "BaDNVS0v3csU"
   },
   "outputs": [],
   "source": [
    "num_df = data.groupby(\"PatientId\").size()"
   ]
  },
  {
   "cell_type": "code",
   "execution_count": 0,
   "metadata": {
    "colab": {
     "base_uri": "https://localhost:8080/"
    },
    "colab_type": "code",
    "id": "sB5t5MLU3csX",
    "outputId": "8f344878-b3e0-4f08-fe96-2ef274854875"
   },
   "outputs": [
    {
     "data": {
      "text/plain": [
       "PatientId\n",
       "3.921784e+04    1\n",
       "4.374176e+04    1\n",
       "9.377953e+04    1\n",
       "1.417242e+05    1\n",
       "5.376153e+05    1\n",
       "               ..\n",
       "9.999320e+14    5\n",
       "9.999350e+14    1\n",
       "9.999465e+14    1\n",
       "9.999686e+14    1\n",
       "9.999816e+14    1\n",
       "Length: 61057, dtype: int64"
      ]
     },
     "execution_count": 46,
     "metadata": {
      "tags": []
     },
     "output_type": "execute_result"
    }
   ],
   "source": [
    "num_df"
   ]
  },
  {
   "cell_type": "code",
   "execution_count": 0,
   "metadata": {
    "colab": {},
    "colab_type": "code",
    "id": "qvr_CM6O3csc"
   },
   "outputs": [],
   "source": [
    "# make num_df into a DataFrame\n",
    "num_df = pd.DataFrame(num_df).reset_index()\n",
    "num_df.columns=[\"PatientId\", \"num_appointments\"]"
   ]
  },
  {
   "cell_type": "code",
   "execution_count": 0,
   "metadata": {
    "colab": {},
    "colab_type": "code",
    "id": "9rG-oprI3csg"
   },
   "outputs": [],
   "source": [
    "# merge data and num_df\n",
    "data = pd.merge(data,num_df, on=\"PatientId\")"
   ]
  },
  {
   "cell_type": "code",
   "execution_count": 0,
   "metadata": {
    "colab": {
     "base_uri": "https://localhost:8080/"
    },
    "colab_type": "code",
    "id": "aRh525cy3csn",
    "outputId": "83c2aad9-bda0-48c4-a808-ca4ef244cebc"
   },
   "outputs": [
    {
     "data": {
      "text/plain": [
       "(108055, 19)"
      ]
     },
     "execution_count": 49,
     "metadata": {
      "tags": []
     },
     "output_type": "execute_result"
    }
   ],
   "source": [
    "data.shape"
   ]
  },
  {
   "cell_type": "code",
   "execution_count": 0,
   "metadata": {
    "colab": {
     "base_uri": "https://localhost:8080/"
    },
    "colab_type": "code",
    "id": "WA_M_MmJ3csq",
    "outputId": "a7851eda-af83-49aa-eefd-2872ab08c9ce",
    "scrolled": true
   },
   "outputs": [
    {
     "data": {
      "text/html": [
       "<div>\n",
       "<style scoped>\n",
       "    .dataframe tbody tr th:only-of-type {\n",
       "        vertical-align: middle;\n",
       "    }\n",
       "\n",
       "    .dataframe tbody tr th {\n",
       "        vertical-align: top;\n",
       "    }\n",
       "\n",
       "    .dataframe thead th {\n",
       "        text-align: right;\n",
       "    }\n",
       "</style>\n",
       "<table border=\"1\" class=\"dataframe\">\n",
       "  <thead>\n",
       "    <tr style=\"text-align: right;\">\n",
       "      <th></th>\n",
       "      <th>PatientId</th>\n",
       "      <th>AppointmentID</th>\n",
       "      <th>Gender</th>\n",
       "      <th>ScheduledDay</th>\n",
       "      <th>AppointmentDay</th>\n",
       "      <th>Age</th>\n",
       "      <th>Neighbourhood</th>\n",
       "      <th>Scholarship</th>\n",
       "      <th>Hipertension</th>\n",
       "      <th>Diabetes</th>\n",
       "      <th>Alcoholism</th>\n",
       "      <th>Handcap</th>\n",
       "      <th>SMS_received</th>\n",
       "      <th>No-show</th>\n",
       "      <th>AwaitingTime</th>\n",
       "      <th>AwaitingDays</th>\n",
       "      <th>Appoint_Day_of_Week</th>\n",
       "      <th>SameDayAppointment</th>\n",
       "      <th>num_appointments</th>\n",
       "    </tr>\n",
       "  </thead>\n",
       "  <tbody>\n",
       "    <tr>\n",
       "      <th>52</th>\n",
       "      <td>1.578132e+12</td>\n",
       "      <td>5637986</td>\n",
       "      <td>F</td>\n",
       "      <td>2016-04-29 07:35:56+00:00</td>\n",
       "      <td>2016-04-29 00:00:00+00:00</td>\n",
       "      <td>64</td>\n",
       "      <td>TABUAZEIRO</td>\n",
       "      <td>1</td>\n",
       "      <td>1</td>\n",
       "      <td>1</td>\n",
       "      <td>0</td>\n",
       "      <td>0</td>\n",
       "      <td>0</td>\n",
       "      <td>No</td>\n",
       "      <td>-1 days +16:24:04</td>\n",
       "      <td>0</td>\n",
       "      <td>Friday</td>\n",
       "      <td>1</td>\n",
       "      <td>5</td>\n",
       "    </tr>\n",
       "    <tr>\n",
       "      <th>53</th>\n",
       "      <td>1.578132e+12</td>\n",
       "      <td>5744352</td>\n",
       "      <td>F</td>\n",
       "      <td>2016-05-30 10:08:12+00:00</td>\n",
       "      <td>2016-05-30 00:00:00+00:00</td>\n",
       "      <td>64</td>\n",
       "      <td>TABUAZEIRO</td>\n",
       "      <td>1</td>\n",
       "      <td>1</td>\n",
       "      <td>1</td>\n",
       "      <td>0</td>\n",
       "      <td>0</td>\n",
       "      <td>0</td>\n",
       "      <td>No</td>\n",
       "      <td>-1 days +13:51:48</td>\n",
       "      <td>0</td>\n",
       "      <td>Monday</td>\n",
       "      <td>1</td>\n",
       "      <td>5</td>\n",
       "    </tr>\n",
       "    <tr>\n",
       "      <th>54</th>\n",
       "      <td>1.578132e+12</td>\n",
       "      <td>5639322</td>\n",
       "      <td>F</td>\n",
       "      <td>2016-04-29 08:57:23+00:00</td>\n",
       "      <td>2016-05-06 00:00:00+00:00</td>\n",
       "      <td>64</td>\n",
       "      <td>TABUAZEIRO</td>\n",
       "      <td>1</td>\n",
       "      <td>1</td>\n",
       "      <td>1</td>\n",
       "      <td>0</td>\n",
       "      <td>0</td>\n",
       "      <td>0</td>\n",
       "      <td>Yes</td>\n",
       "      <td>6 days 15:02:37</td>\n",
       "      <td>6</td>\n",
       "      <td>Friday</td>\n",
       "      <td>0</td>\n",
       "      <td>5</td>\n",
       "    </tr>\n",
       "    <tr>\n",
       "      <th>55</th>\n",
       "      <td>1.578132e+12</td>\n",
       "      <td>5714366</td>\n",
       "      <td>F</td>\n",
       "      <td>2016-05-18 11:48:23+00:00</td>\n",
       "      <td>2016-05-30 00:00:00+00:00</td>\n",
       "      <td>64</td>\n",
       "      <td>TABUAZEIRO</td>\n",
       "      <td>1</td>\n",
       "      <td>1</td>\n",
       "      <td>1</td>\n",
       "      <td>0</td>\n",
       "      <td>0</td>\n",
       "      <td>0</td>\n",
       "      <td>Yes</td>\n",
       "      <td>11 days 12:11:37</td>\n",
       "      <td>11</td>\n",
       "      <td>Monday</td>\n",
       "      <td>0</td>\n",
       "      <td>5</td>\n",
       "    </tr>\n",
       "    <tr>\n",
       "      <th>56</th>\n",
       "      <td>1.578132e+12</td>\n",
       "      <td>5743058</td>\n",
       "      <td>F</td>\n",
       "      <td>2016-05-30 08:39:14+00:00</td>\n",
       "      <td>2016-05-30 00:00:00+00:00</td>\n",
       "      <td>64</td>\n",
       "      <td>TABUAZEIRO</td>\n",
       "      <td>1</td>\n",
       "      <td>1</td>\n",
       "      <td>1</td>\n",
       "      <td>0</td>\n",
       "      <td>0</td>\n",
       "      <td>0</td>\n",
       "      <td>No</td>\n",
       "      <td>-1 days +15:20:46</td>\n",
       "      <td>0</td>\n",
       "      <td>Monday</td>\n",
       "      <td>1</td>\n",
       "      <td>5</td>\n",
       "    </tr>\n",
       "  </tbody>\n",
       "</table>\n",
       "</div>"
      ],
      "text/plain": [
       "       PatientId  AppointmentID  ... SameDayAppointment num_appointments\n",
       "52  1.578132e+12        5637986  ...                  1                5\n",
       "53  1.578132e+12        5744352  ...                  1                5\n",
       "54  1.578132e+12        5639322  ...                  0                5\n",
       "55  1.578132e+12        5714366  ...                  0                5\n",
       "56  1.578132e+12        5743058  ...                  1                5\n",
       "\n",
       "[5 rows x 19 columns]"
      ]
     },
     "execution_count": 50,
     "metadata": {
      "tags": []
     },
     "output_type": "execute_result"
    }
   ],
   "source": [
    "data.loc[data[\"num_appointments\"] ==5,:].head(5)"
   ]
  },
  {
   "cell_type": "markdown",
   "metadata": {
    "colab_type": "text",
    "id": "UgDOCiF-3csu"
   },
   "source": [
    "## Label Encoding\n",
    "- Need to encode the nominal variables (order does not matter): Gender, No-Show, Appoint_Day_of_Week\n",
    "- No-show: No = 0, Yes =1\n",
    "- Gender: Female =0, Male =1\n",
    "- Appoint_Day_of_Week"
   ]
  },
  {
   "cell_type": "code",
   "execution_count": 0,
   "metadata": {
    "colab": {},
    "colab_type": "code",
    "id": "dG-hwyPb3csv"
   },
   "outputs": [],
   "source": [
    "data_copy = data.copy() # save a copy of data"
   ]
  },
  {
   "cell_type": "code",
   "execution_count": 0,
   "metadata": {
    "colab": {},
    "colab_type": "code",
    "id": "Bb3XN7yV3csz"
   },
   "outputs": [],
   "source": [
    "nom_var = [\"No-show\", \"Gender\"]"
   ]
  },
  {
   "cell_type": "code",
   "execution_count": 0,
   "metadata": {
    "colab": {},
    "colab_type": "code",
    "id": "DyIrZgkg3cs3"
   },
   "outputs": [],
   "source": [
    "from sklearn.preprocessing import LabelEncoder\n",
    "# init the label encoder\n",
    "le = LabelEncoder()\n",
    "# encode the nominal variables\n",
    "data[nom_var]=data[nom_var].apply(lambda x: le.fit_transform(x), axis=0)"
   ]
  },
  {
   "cell_type": "code",
   "execution_count": 0,
   "metadata": {
    "colab": {},
    "colab_type": "code",
    "id": "Mb4gjZpU3cs6"
   },
   "outputs": [],
   "source": [
    "mapping_dict = {'Monday' : 1, 'Tuesday' : 2, 'Wednesday' : 3, 'Thursday' : 4,\n",
    "'Friday' : 5, 'Saturday' : 6, 'Sunday' : 7}\n",
    "data['Appoint_Day_of_Week'] = data['Appoint_Day_of_Week'].map(mapping_dict)"
   ]
  },
  {
   "cell_type": "markdown",
   "metadata": {
    "colab_type": "text",
    "id": "TrXPmiby3cs-"
   },
   "source": [
    "## Bivariate Analysis"
   ]
  },
  {
   "cell_type": "markdown",
   "metadata": {
    "colab_type": "text",
    "id": "H4Ek6rhM3cs-"
   },
   "source": [
    "**No-Show vs Age**"
   ]
  },
  {
   "cell_type": "code",
   "execution_count": 0,
   "metadata": {
    "colab": {
     "base_uri": "https://localhost:8080/"
    },
    "colab_type": "code",
    "id": "ljHTNtSH3cs_",
    "outputId": "288ed987-90a4-4491-9637-c4b6785e7b0e",
    "scrolled": true
   },
   "outputs": [
    {
     "data": {
      "image/png": "[encoded data removed]",
      "text/plain": [
       "<Figure size 576x432 with 1 Axes>"
      ]
     },
     "metadata": {
      "needs_background": "light",
      "tags": []
     },
     "output_type": "display_data"
    }
   ],
   "source": [
    "fig = plt.figure(figsize=(8,6))\n",
    "sns.kdeplot(data=data.loc[data[\"No-show\"]==0,\"Age\"],\n",
    "            color='gray',\n",
    "            shade='True',\n",
    "            label=\"Show\")\n",
    "\n",
    "sns.kdeplot(data=data.loc[data[\"No-show\"]==1,\"Age\"],\n",
    "            color='blue', \n",
    "            shade=True,\n",
    "            label=\"No Show\")\n",
    "\n",
    "plt.title(\"kde of Age\")            \n",
    "plt.xlabel(\"Age\", fontsize=10)            \n",
    "plt.ylabel(\"pdf\", fontsize=10)   \n",
    "plt.show()"
   ]
  },
  {
   "cell_type": "markdown",
   "metadata": {
    "colab_type": "text",
    "id": "cFl-5ZGu3ctG"
   },
   "source": [
    "- Adults between 18-50 seems to be more likely of no Show.\n",
    "- The Elderly (age >55) have higher chance of show up)"
   ]
  },
  {
   "cell_type": "code",
   "execution_count": 0,
   "metadata": {
    "colab": {},
    "colab_type": "code",
    "id": "12oovd7C3ctH"
   },
   "outputs": [],
   "source": []
  },
  {
   "cell_type": "markdown",
   "metadata": {
    "colab_type": "text",
    "id": "TMvTfsPP3ctL"
   },
   "source": [
    "**No-Show vs number of appointments**"
   ]
  },
  {
   "cell_type": "code",
   "execution_count": 0,
   "metadata": {
    "colab": {
     "base_uri": "https://localhost:8080/"
    },
    "colab_type": "code",
    "id": "MIGM4fvT3ctL",
    "outputId": "781eb471-d2af-44ae-dfd9-7da6ea7402da"
   },
   "outputs": [
    {
     "data": {
      "text/plain": [
       "Text(0, 0.5, 'pdf')"
      ]
     },
     "execution_count": 56,
     "metadata": {
      "tags": []
     },
     "output_type": "execute_result"
    },
    {
     "data": {
      "image/png": "[encoded data removed]",
      "text/plain": [
       "<Figure size 720x432 with 1 Axes>"
      ]
     },
     "metadata": {
      "needs_background": "light",
      "tags": []
     },
     "output_type": "display_data"
    }
   ],
   "source": [
    "fig = plt.figure(figsize=(10,6))\n",
    "sns.kdeplot(data=data.loc[data[\"No-show\"]==0,\"num_appointments\"],\n",
    "            color='gray',\n",
    "            shade='True',\n",
    "            label=\"Show\")\n",
    "\n",
    "sns.kdeplot(data=data.loc[data[\"No-show\"]==1,\"num_appointments\"],\n",
    "            color='blue', \n",
    "            shade=True,\n",
    "            label=\"No Show\")\n",
    "\n",
    "plt.title(\"kde of Number of appointments\")            \n",
    "plt.xlabel(\"Number of appointments\", fontsize=10)            \n",
    "plt.ylabel(\"pdf\", fontsize=10) "
   ]
  },
  {
   "cell_type": "markdown",
   "metadata": {
    "colab_type": "text",
    "id": "_eGxv4r43ctP"
   },
   "source": [
    "## Barplot for categorical variables vs No-show"
   ]
  },
  {
   "cell_type": "code",
   "execution_count": 0,
   "metadata": {
    "colab": {},
    "colab_type": "code",
    "id": "GcZcmuT03ctQ"
   },
   "outputs": [],
   "source": [
    "categorical_var = [\"Appoint_Day_of_Week\",\"SameDayAppointment\",\"SMS_received\",\"Handcap\",\"Alcoholism\",\"Diabetes\",\"Hipertension\",\n",
    "                   \"Scholarship\",\"Gender\"]"
   ]
  },
  {
   "cell_type": "code",
   "execution_count": 0,
   "metadata": {
    "colab": {},
    "colab_type": "code",
    "id": "WMb-1PM73ctS"
   },
   "outputs": [],
   "source": [
    "def categorical_barplots(var_list):\n",
    "    plt.figure(figsize=(15,25))\n",
    "    \n",
    "    for i, var in enumerate(var_list): # var index and var name from var_list\n",
    "        plt.subplot(7,2,i+1) \n",
    "        sns.barplot(y=\"No-show\", x=var, data=data,\n",
    "           capsize=0.05, #width of \"cap\"on errorbars\n",
    "           linewidth=5)\n",
    "        plt.ylabel(\"Proportion of patient who did not Show\")\n",
    "        plt.xlabel(var, fontsize=8)\n",
    "        plt.xticks(rotation='horizontal')\n",
    "        # Tweak spacing to prevent clipping of tick-labels\n",
    "        plt.subplots_adjust(bottom=-0.3)"
   ]
  },
  {
   "cell_type": "code",
   "execution_count": 0,
   "metadata": {
    "colab": {
     "base_uri": "https://localhost:8080/"
    },
    "colab_type": "code",
    "id": "Kl9RgyTw3ctW",
    "outputId": "059aebd2-0b7d-41fb-ee5c-07e96f445265"
   },
   "outputs": [
    {
     "data": {
      "image/png": "[encoded data removed]",
      "text/plain": [
       "<Figure size 1080x1800 with 9 Axes>"
      ]
     },
     "metadata": {
      "needs_background": "light",
      "tags": []
     },
     "output_type": "display_data"
    }
   ],
   "source": [
    "categorical_barplots(categorical_var)"
   ]
  },
  {
   "cell_type": "markdown",
   "metadata": {
    "colab_type": "text",
    "id": "4LjtnKMG3ctY"
   },
   "source": [
    "- A high amount of variance in No show for patients whose appointment is on Saturday.  Friday and Saturday has slightly higher No shows.\n",
    "- Patients with Same-day appointments are likely urgent cases so they have a low proportion of No-shows.\n",
    "- Surprisely, people who received SMS and financial aid has higher proportion of No Shows.  \n",
    "- Handicap, Hipertension, and Diabetes patients has less chance of No-show.\n",
    "- Gender have same amount of Shows and No-Shows."
   ]
  },
  {
   "cell_type": "code",
   "execution_count": 0,
   "metadata": {
    "colab": {},
    "colab_type": "code",
    "id": "qgN39I2m3ctZ"
   },
   "outputs": [],
   "source": []
  },
  {
   "cell_type": "markdown",
   "metadata": {
    "colab_type": "text",
    "id": "5KwyVncL3ctc"
   },
   "source": [
    "## Pair Grid (for continuous variables)\n",
    "- A matrix of plots that allow us to see the relationships between the features and between the feature and the response.\n",
    "- We will only plot a subset of variables that are of interest."
   ]
  },
  {
   "cell_type": "code",
   "execution_count": 0,
   "metadata": {
    "colab": {},
    "colab_type": "code",
    "id": "hGtzLGdt3ctd"
   },
   "outputs": [],
   "source": [
    "cont_var = [\"Age\", \"AwaitingDays\", \"num_appointments\"]"
   ]
  },
  {
   "cell_type": "code",
   "execution_count": 0,
   "metadata": {
    "colab": {},
    "colab_type": "code",
    "id": "XyxcHO503ctf"
   },
   "outputs": [],
   "source": [
    "plot_data = data[cont_var]"
   ]
  },
  {
   "cell_type": "code",
   "execution_count": 0,
   "metadata": {
    "colab": {
     "base_uri": "https://localhost:8080/"
    },
    "colab_type": "code",
    "id": "CrTmqx8Z3ctl",
    "outputId": "ec6efc52-d0ef-492a-a785-fe948a2324c5"
   },
   "outputs": [
    {
     "name": "stderr",
     "output_type": "stream",
     "text": [
      "/usr/local/lib/python3.6/dist-packages/seaborn/axisgrid.py:1259: UserWarning: The `size` parameter has been renamed to `height`; please update your code.\n",
      "  warnings.warn(UserWarning(msg))\n"
     ]
    },
    {
     "data": {
      "image/png": "[encoded data removed]",
      "text/plain": [
       "<Figure size 648x648 with 12 Axes>"
      ]
     },
     "metadata": {
      "needs_background": "light",
      "tags": []
     },
     "output_type": "display_data"
    }
   ],
   "source": [
    "# Create the pairgrid object\n",
    "grid = sns.PairGrid(data = plot_data, size = 3)\n",
    "# Upper is a scatter plot\n",
    "grid.map_upper(plt.scatter, color = 'red', alpha = 0.6)\n",
    "# Diagonal is a histogram\n",
    "grid.map_diag(plt.hist, color = 'red', edgecolor = 'black')\n",
    "# Title for entire plot\n",
    "plt.suptitle('Pairs Plot of continuous features', size = 12, y = 1.02);"
   ]
  },
  {
   "cell_type": "code",
   "execution_count": 0,
   "metadata": {
    "colab": {},
    "colab_type": "code",
    "id": "MNXPZft93ctp"
   },
   "outputs": [],
   "source": [
    "correlations_1 = data[['Age', 'AwaitingDays']].corr(method='spearman')"
   ]
  },
  {
   "cell_type": "code",
   "execution_count": 0,
   "metadata": {
    "colab": {},
    "colab_type": "code",
    "id": "BVJdXIZ13ctr"
   },
   "outputs": [],
   "source": [
    "correlations_2 = data[['Age', 'num_appointments']].corr(method='spearman')"
   ]
  },
  {
   "cell_type": "code",
   "execution_count": 0,
   "metadata": {
    "colab": {},
    "colab_type": "code",
    "id": "4m3e6JD-3ctu"
   },
   "outputs": [],
   "source": [
    "correlations_3 = data[['AwaitingDays', 'num_appointments']].corr(method='spearman')"
   ]
  },
  {
   "cell_type": "code",
   "execution_count": 0,
   "metadata": {
    "colab": {
     "base_uri": "https://localhost:8080/"
    },
    "colab_type": "code",
    "id": "wSyeDJ8Q3ctx",
    "outputId": "03d9338d-c04a-4acc-9f1c-80cdf0c9bd3e"
   },
   "outputs": [
    {
     "data": {
      "text/html": [
       "<div>\n",
       "<style scoped>\n",
       "    .dataframe tbody tr th:only-of-type {\n",
       "        vertical-align: middle;\n",
       "    }\n",
       "\n",
       "    .dataframe tbody tr th {\n",
       "        vertical-align: top;\n",
       "    }\n",
       "\n",
       "    .dataframe thead th {\n",
       "        text-align: right;\n",
       "    }\n",
       "</style>\n",
       "<table border=\"1\" class=\"dataframe\">\n",
       "  <thead>\n",
       "    <tr style=\"text-align: right;\">\n",
       "      <th></th>\n",
       "      <th>Age</th>\n",
       "      <th>AwaitingDays</th>\n",
       "    </tr>\n",
       "  </thead>\n",
       "  <tbody>\n",
       "    <tr>\n",
       "      <th>Age</th>\n",
       "      <td>1.000000</td>\n",
       "      <td>0.006955</td>\n",
       "    </tr>\n",
       "    <tr>\n",
       "      <th>AwaitingDays</th>\n",
       "      <td>0.006955</td>\n",
       "      <td>1.000000</td>\n",
       "    </tr>\n",
       "  </tbody>\n",
       "</table>\n",
       "</div>"
      ],
      "text/plain": [
       "                   Age  AwaitingDays\n",
       "Age           1.000000      0.006955\n",
       "AwaitingDays  0.006955      1.000000"
      ]
     },
     "execution_count": 66,
     "metadata": {
      "tags": []
     },
     "output_type": "execute_result"
    }
   ],
   "source": [
    "correlations_1"
   ]
  },
  {
   "cell_type": "code",
   "execution_count": 0,
   "metadata": {
    "colab": {
     "base_uri": "https://localhost:8080/"
    },
    "colab_type": "code",
    "id": "iEbk9uOJ3ct4",
    "outputId": "d02e12ad-5af6-4d47-bc80-6ea4b8b34edb"
   },
   "outputs": [
    {
     "data": {
      "text/html": [
       "<div>\n",
       "<style scoped>\n",
       "    .dataframe tbody tr th:only-of-type {\n",
       "        vertical-align: middle;\n",
       "    }\n",
       "\n",
       "    .dataframe tbody tr th {\n",
       "        vertical-align: top;\n",
       "    }\n",
       "\n",
       "    .dataframe thead th {\n",
       "        text-align: right;\n",
       "    }\n",
       "</style>\n",
       "<table border=\"1\" class=\"dataframe\">\n",
       "  <thead>\n",
       "    <tr style=\"text-align: right;\">\n",
       "      <th></th>\n",
       "      <th>Age</th>\n",
       "      <th>num_appointments</th>\n",
       "    </tr>\n",
       "  </thead>\n",
       "  <tbody>\n",
       "    <tr>\n",
       "      <th>Age</th>\n",
       "      <td>1.000000</td>\n",
       "      <td>0.034635</td>\n",
       "    </tr>\n",
       "    <tr>\n",
       "      <th>num_appointments</th>\n",
       "      <td>0.034635</td>\n",
       "      <td>1.000000</td>\n",
       "    </tr>\n",
       "  </tbody>\n",
       "</table>\n",
       "</div>"
      ],
      "text/plain": [
       "                       Age  num_appointments\n",
       "Age               1.000000          0.034635\n",
       "num_appointments  0.034635          1.000000"
      ]
     },
     "execution_count": 67,
     "metadata": {
      "tags": []
     },
     "output_type": "execute_result"
    }
   ],
   "source": [
    "correlations_2"
   ]
  },
  {
   "cell_type": "code",
   "execution_count": 0,
   "metadata": {
    "colab": {
     "base_uri": "https://localhost:8080/"
    },
    "colab_type": "code",
    "id": "fvwkQ4a63ct7",
    "outputId": "cf085a67-e400-41c5-c6a0-37337e153ee6"
   },
   "outputs": [
    {
     "data": {
      "text/html": [
       "<div>\n",
       "<style scoped>\n",
       "    .dataframe tbody tr th:only-of-type {\n",
       "        vertical-align: middle;\n",
       "    }\n",
       "\n",
       "    .dataframe tbody tr th {\n",
       "        vertical-align: top;\n",
       "    }\n",
       "\n",
       "    .dataframe thead th {\n",
       "        text-align: right;\n",
       "    }\n",
       "</style>\n",
       "<table border=\"1\" class=\"dataframe\">\n",
       "  <thead>\n",
       "    <tr style=\"text-align: right;\">\n",
       "      <th></th>\n",
       "      <th>AwaitingDays</th>\n",
       "      <th>num_appointments</th>\n",
       "    </tr>\n",
       "  </thead>\n",
       "  <tbody>\n",
       "    <tr>\n",
       "      <th>AwaitingDays</th>\n",
       "      <td>1.000000</td>\n",
       "      <td>-0.063511</td>\n",
       "    </tr>\n",
       "    <tr>\n",
       "      <th>num_appointments</th>\n",
       "      <td>-0.063511</td>\n",
       "      <td>1.000000</td>\n",
       "    </tr>\n",
       "  </tbody>\n",
       "</table>\n",
       "</div>"
      ],
      "text/plain": [
       "                  AwaitingDays  num_appointments\n",
       "AwaitingDays          1.000000         -0.063511\n",
       "num_appointments     -0.063511          1.000000"
      ]
     },
     "execution_count": 68,
     "metadata": {
      "tags": []
     },
     "output_type": "execute_result"
    }
   ],
   "source": [
    "correlations_3"
   ]
  },
  {
   "cell_type": "markdown",
   "metadata": {
    "colab_type": "text",
    "id": "p9jK227o3ct-"
   },
   "source": [
    "Therefore, no correlations amongest the continuous variables."
   ]
  },
  {
   "cell_type": "code",
   "execution_count": 0,
   "metadata": {
    "colab": {
     "base_uri": "https://localhost:8080/"
    },
    "colab_type": "code",
    "id": "4azz9HSx3ct-",
    "outputId": "efec9c59-9d96-4647-fdc2-b2546edd6d9f"
   },
   "outputs": [
    {
     "data": {
      "text/plain": [
       "<matplotlib.axes._subplots.AxesSubplot at 0x7fb91fa3b048>"
      ]
     },
     "execution_count": 69,
     "metadata": {
      "tags": []
     },
     "output_type": "execute_result"
    },
    {
     "data": {
      "image/png": "[encoded data removed]",
      "text/plain": [
       "<Figure size 576x432 with 1 Axes>"
      ]
     },
     "metadata": {
      "needs_background": "light",
      "tags": []
     },
     "output_type": "display_data"
    }
   ],
   "source": [
    "fig = plt.figure(figsize=(8,6))\n",
    "sns.boxplot(y=\"Age\", x=\"No-show\", data= data)"
   ]
  },
  {
   "cell_type": "code",
   "execution_count": 0,
   "metadata": {
    "colab": {
     "base_uri": "https://localhost:8080/"
    },
    "colab_type": "code",
    "id": "U7cD4MAR3cuF",
    "outputId": "cda92c39-2a99-4ceb-a30d-1236bd4a3735"
   },
   "outputs": [
    {
     "data": {
      "text/plain": [
       "<matplotlib.axes._subplots.AxesSubplot at 0x7fb91f7e6e10>"
      ]
     },
     "execution_count": 70,
     "metadata": {
      "tags": []
     },
     "output_type": "execute_result"
    },
    {
     "data": {
      "image/png": "[encoded data removed]",
      "text/plain": [
       "<Figure size 576x432 with 1 Axes>"
      ]
     },
     "metadata": {
      "needs_background": "light",
      "tags": []
     },
     "output_type": "display_data"
    }
   ],
   "source": [
    "fig = plt.figure(figsize=(8,6))\n",
    "sns.boxplot(y=\"AwaitingDays\", x=\"No-show\", data= data)"
   ]
  },
  {
   "cell_type": "markdown",
   "metadata": {
    "colab_type": "text",
    "id": "ZcoY3vOm3cuJ"
   },
   "source": [
    "- The boxplots show that the average age of patients who did not show up is younger than patients who showed up.\n",
    "- The average gap between registration and appointment is higher for patients who did not show up."
   ]
  },
  {
   "cell_type": "code",
   "execution_count": 0,
   "metadata": {
    "colab": {},
    "colab_type": "code",
    "id": "ASP0BiLQ3cuJ"
   },
   "outputs": [],
   "source": []
  },
  {
   "cell_type": "markdown",
   "metadata": {
    "colab_type": "text",
    "id": "iQcDxaPe3cuL"
   },
   "source": [
    "## Cramer's V for Categorical-Categorical Correlations\n",
    "- https://stackoverflow.com/questions/46498455/categorical-features-correlation/46498792#46498792"
   ]
  },
  {
   "cell_type": "code",
   "execution_count": 0,
   "metadata": {
    "colab": {},
    "colab_type": "code",
    "id": "fRPx0rh83cuL"
   },
   "outputs": [],
   "source": [
    "import scipy.stats as ss\n",
    "\n",
    "def cramers_v(confusion_matrix):\n",
    "    \"\"\" calculate Cramers V statistic for categorial-categorial association.\n",
    "        uses correction from Bergsma and Wicher,\n",
    "        Journal of the Korean Statistical Society 42 (2013): 323-328\n",
    "    \"\"\"\n",
    "    chi2 = ss.chi2_contingency(confusion_matrix)[0]\n",
    "    n = confusion_matrix.sum()\n",
    "    phi2 = chi2 / n\n",
    "    r, k = confusion_matrix.shape\n",
    "    phi2corr = max(0, phi2 - ((k-1)*(r-1))/(n-1))\n",
    "    rcorr = r - ((r-1)**2)/(n-1)\n",
    "    kcorr = k - ((k-1)**2)/(n-1)\n",
    "    return np.sqrt(phi2corr / min((kcorr-1), (rcorr-1)))"
   ]
  },
  {
   "cell_type": "code",
   "execution_count": 0,
   "metadata": {
    "colab": {},
    "colab_type": "code",
    "id": "8SF-nNLo3cuQ"
   },
   "outputs": [],
   "source": [
    "def get_categorical_corr(df,X,Y):\n",
    "    confusion_matrix = pd.crosstab(df.loc[:,X], df.loc[:,Y]).to_numpy() # use to_numpy instead of as_matrix\n",
    "    cram_V = round(cramers_v(confusion_matrix),4)\n",
    "    if cram_V > 0.2:\n",
    "        print(\"The Cramer's V of {} and {} is {}\".format(X,Y,cram_V))"
   ]
  },
  {
   "cell_type": "code",
   "execution_count": 0,
   "metadata": {
    "colab": {},
    "colab_type": "code",
    "id": "5KRYrpLd3cuT"
   },
   "outputs": [],
   "source": [
    "categorical_var = [\"Appoint_Day_of_Week\",\"SameDayAppointment\",\"SMS_received\",\"Handcap\",\"Alcoholism\",\"Diabetes\",\"Hipertension\",\n",
    "                   \"Scholarship\",\"Gender\", \"No-show\"]"
   ]
  },
  {
   "cell_type": "code",
   "execution_count": 0,
   "metadata": {
    "colab": {},
    "colab_type": "code",
    "id": "QN0IvOmJ3cuW"
   },
   "outputs": [],
   "source": [
    "categorical_pairs = list(itertools.combinations(categorical_var,2))"
   ]
  },
  {
   "cell_type": "code",
   "execution_count": 0,
   "metadata": {
    "colab": {
     "base_uri": "https://localhost:8080/"
    },
    "colab_type": "code",
    "id": "FmpddMCv3cuc",
    "outputId": "ad2d1a0a-7194-4844-8171-39ab071c08ac"
   },
   "outputs": [
    {
     "name": "stdout",
     "output_type": "stream",
     "text": [
      "The Cramer's V of SameDayAppointment and SMS_received is 0.5037\n",
      "The Cramer's V of SameDayAppointment and No-show is 0.2855\n",
      "The Cramer's V of Diabetes and Hipertension is 0.4333\n"
     ]
    }
   ],
   "source": [
    "# Only print Cramer's V if it is above 0.2\n",
    "for x,y in categorical_pairs:\n",
    "    get_categorical_corr(data,x,y)"
   ]
  },
  {
   "cell_type": "markdown",
   "metadata": {
    "colab_type": "text",
    "id": "qAeVzdHO3cue"
   },
   "source": [
    "**No strong relationships between features and between features and the response.**"
   ]
  },
  {
   "cell_type": "code",
   "execution_count": 0,
   "metadata": {
    "colab": {},
    "colab_type": "code",
    "id": "BDI_M7Zm3cue"
   },
   "outputs": [],
   "source": []
  },
  {
   "cell_type": "markdown",
   "metadata": {
    "colab_type": "text",
    "id": "hE2tx07H3cuh"
   },
   "source": [
    "## One hot encode the nominal variable \"Neighbourhood\""
   ]
  },
  {
   "cell_type": "code",
   "execution_count": 0,
   "metadata": {
    "colab": {
     "base_uri": "https://localhost:8080/",
     "height": 34
    },
    "colab_type": "code",
    "id": "l6wjK3it3cuh",
    "outputId": "cd716a9d-3ed7-4ad9-d9fc-32b2e8828b74"
   },
   "outputs": [
    {
     "data": {
      "text/plain": [
       "(108055, 80)"
      ]
     },
     "execution_count": 76,
     "metadata": {
      "tags": []
     },
     "output_type": "execute_result"
    }
   ],
   "source": [
    "dummy_df = pd.get_dummies(data[\"Neighbourhood\"], drop_first=True)\n",
    "dummy_df.shape"
   ]
  },
  {
   "cell_type": "code",
   "execution_count": 0,
   "metadata": {
    "colab": {},
    "colab_type": "code",
    "id": "12Y9mJzP3cuj"
   },
   "outputs": [],
   "source": [
    "# Drop features that I think are not needed\n",
    "processed = data.drop([\"PatientId\",\"AppointmentID\",\"ScheduledDay\",\"AppointmentDay\",\"AwaitingTime\",\"Neighbourhood\"], axis=1)"
   ]
  },
  {
   "cell_type": "code",
   "execution_count": 0,
   "metadata": {
    "colab": {},
    "colab_type": "code",
    "id": "gLtmCmRP3cuk"
   },
   "outputs": [],
   "source": [
    "processed = pd.concat([processed, dummy_df], axis=1)"
   ]
  },
  {
   "cell_type": "code",
   "execution_count": 0,
   "metadata": {
    "colab": {},
    "colab_type": "code",
    "id": "FmmR-QWP3cum"
   },
   "outputs": [],
   "source": []
  },
  {
   "cell_type": "markdown",
   "metadata": {
    "colab_type": "text",
    "id": "XgG6hnuu3cup"
   },
   "source": [
    "## Split Data into train and test datasets"
   ]
  },
  {
   "cell_type": "code",
   "execution_count": 0,
   "metadata": {
    "colab": {},
    "colab_type": "code",
    "id": "2GmhY3Ib3cuq"
   },
   "outputs": [],
   "source": [
    "from sklearn.model_selection import train_test_split\n",
    "from sklearn.model_selection import cross_validate\n",
    "from sklearn.metrics import accuracy_score, confusion_matrix, classification_report"
   ]
  },
  {
   "cell_type": "code",
   "execution_count": 0,
   "metadata": {
    "colab": {},
    "colab_type": "code",
    "id": "UPUxoWYn3cus"
   },
   "outputs": [],
   "source": [
    "X = processed.drop(\"No-show\", axis=1)"
   ]
  },
  {
   "cell_type": "code",
   "execution_count": 0,
   "metadata": {
    "colab": {},
    "colab_type": "code",
    "id": "W6debGp-3cuu"
   },
   "outputs": [],
   "source": [
    "y = processed[\"No-show\"]"
   ]
  },
  {
   "cell_type": "code",
   "execution_count": 0,
   "metadata": {
    "colab": {},
    "colab_type": "code",
    "id": "9N8RwUVg3cux"
   },
   "outputs": [],
   "source": [
    "X_train, X_test, y_train, y_test = train_test_split(X, y, test_size= 0.3, random_state= 101, stratify=y)"
   ]
  },
  {
   "cell_type": "code",
   "execution_count": 0,
   "metadata": {
    "colab": {
     "base_uri": "https://localhost:8080/",
     "height": 34
    },
    "colab_type": "code",
    "id": "NlGYKxEV3cuz",
    "outputId": "27cdda47-c74c-46fd-a124-cac40aa5a353"
   },
   "outputs": [
    {
     "data": {
      "text/plain": [
       "((75638, 92), (32417, 92), (75638,), (32417,))"
      ]
     },
     "execution_count": 83,
     "metadata": {
      "tags": []
     },
     "output_type": "execute_result"
    }
   ],
   "source": [
    "X_train.shape, X_test.shape, y_train.shape, y_test.shape"
   ]
  },
  {
   "cell_type": "code",
   "execution_count": 0,
   "metadata": {
    "colab": {},
    "colab_type": "code",
    "id": "Mjj4Mtyb3cu6"
   },
   "outputs": [],
   "source": []
  },
  {
   "cell_type": "markdown",
   "metadata": {
    "colab_type": "text",
    "id": "SwtIZUIn3cu8"
   },
   "source": [
    "## Baseline Prediction\n",
    "- For classification problem, we predict the class value that is most common in the train dataset."
   ]
  },
  {
   "cell_type": "code",
   "execution_count": 0,
   "metadata": {
    "colab": {
     "base_uri": "https://localhost:8080/",
     "height": 68
    },
    "colab_type": "code",
    "id": "xOBhVdaB3cu8",
    "outputId": "1b58a7cc-7e19-470d-e35d-283ee860bb4b"
   },
   "outputs": [
    {
     "data": {
      "text/plain": [
       "0    60531\n",
       "1    15107\n",
       "Name: No-show, dtype: int64"
      ]
     },
     "execution_count": 84,
     "metadata": {
      "tags": []
     },
     "output_type": "execute_result"
    }
   ],
   "source": [
    "y_train.value_counts().sort_values(ascending=False)"
   ]
  },
  {
   "cell_type": "markdown",
   "metadata": {
    "colab_type": "text",
    "id": "BvO2Prer3cvA"
   },
   "source": [
    "Since in my train dataset, No-show = 0 is the most frequent class, I predict No-show=0 for all observations in my baseline model."
   ]
  },
  {
   "cell_type": "code",
   "execution_count": 0,
   "metadata": {
    "colab": {},
    "colab_type": "code",
    "id": "f9UpQncn3cvC"
   },
   "outputs": [],
   "source": [
    "baseline_pred = np.zeros(len(y_test))"
   ]
  },
  {
   "cell_type": "code",
   "execution_count": 0,
   "metadata": {
    "colab": {
     "base_uri": "https://localhost:8080/",
     "height": 34
    },
    "colab_type": "code",
    "id": "MLiGCOhh3cvF",
    "outputId": "728d9dc5-4c4e-42e5-bdb0-6328f60ddb0c",
    "scrolled": true
   },
   "outputs": [
    {
     "data": {
      "text/plain": [
       "0.8002899713113489"
      ]
     },
     "execution_count": 86,
     "metadata": {
      "tags": []
     },
     "output_type": "execute_result"
    }
   ],
   "source": [
    "accuracy_score(baseline_pred,y_test)"
   ]
  },
  {
   "cell_type": "markdown",
   "metadata": {
    "colab_type": "text",
    "id": "vkgitXTp3cvG"
   },
   "source": [
    "**My baseline accuracy_score is 0.80**"
   ]
  },
  {
   "cell_type": "code",
   "execution_count": 0,
   "metadata": {
    "colab": {},
    "colab_type": "code",
    "id": "2w_HfsS43cvH"
   },
   "outputs": [],
   "source": []
  },
  {
   "cell_type": "markdown",
   "metadata": {
    "colab_type": "text",
    "id": "8Gpj_P5Z3cvK"
   },
   "source": [
    "# Modelling\n",
    "- I will use grid search to optimize models built from a number of different types estimators, which we will then compare and properly evaluate the best hyperparameters that each model has to offer.\n",
    "- I will use pipeline:\n",
    "    - Step 1: Scaling the features: Scaling is sometimes necessary because features are in different units, and we want to normalize the features so the units do not affect the algorithm. Linear Regression and Random Forest do not require feature scaling, but other methods, such as support vector machines and k nearest neighbors, do require it because they take into account the Euclidean distance between observations. For this reason, it is a best practice to scale features when we are comparing multiple algorithms.\n",
    "    - Step 2: Use PCA to get a lower-dimension representation of the features (to reduce the complexity/flexibility of the model)\n",
    "    - Step 3: Train the estimator: Fit the scaled data to a model.\n",
    "- Use GridSearchCV to find the best hyperparameter for each model.\n",
    "- Select the best model.  "
   ]
  },
  {
   "cell_type": "code",
   "execution_count": 0,
   "metadata": {
    "colab": {},
    "colab_type": "code",
    "id": "wx0mH6LE3cvL"
   },
   "outputs": [],
   "source": [
    "from sklearn.preprocessing import StandardScaler\n",
    "from sklearn.decomposition import PCA\n",
    "from sklearn.pipeline import Pipeline\n",
    "from sklearn.model_selection import GridSearchCV\n",
    "from sklearn.metrics import accuracy_score, f1_score, classification_report\n",
    "\n",
    "from sklearn.linear_model import LogisticRegression\n",
    "from sklearn.ensemble import RandomForestClassifier, AdaBoostClassifier"
   ]
  },
  {
   "cell_type": "markdown",
   "metadata": {
    "colab_type": "text",
    "id": "sQej4xgP3cvN"
   },
   "source": [
    "**Construct some pipelines**"
   ]
  },
  {
   "cell_type": "code",
   "execution_count": 0,
   "metadata": {
    "colab": {},
    "colab_type": "code",
    "id": "JdqVyNXr3cvN"
   },
   "outputs": [],
   "source": [
    "pipe_lr = Pipeline([('scl', StandardScaler()),\n",
    "                    ('clf', LogisticRegression(random_state=42))]) # pipeline for logreg\n",
    "\n",
    "pipe_lr_pca = Pipeline([('scl', StandardScaler()),\n",
    "                        ('pca', PCA(n_components=2)), # use default n_components for now, we will need to tune this parameter\n",
    "                        ('clf', LogisticRegression(random_state=42))]) # pipeline for logreg with pca"
   ]
  },
  {
   "cell_type": "code",
   "execution_count": 0,
   "metadata": {
    "colab": {},
    "colab_type": "code",
    "id": "5pF3TwT83cvU"
   },
   "outputs": [],
   "source": [
    "pipe_rf = Pipeline([('scl', StandardScaler()),\n",
    "                    ('clf', RandomForestClassifier(criterion = 'gini', min_samples_leaf = 1,\n",
    "                                                   min_samples_split = 2, random_state=42))]) # pipeline for random forest classifier\n",
    "\n",
    "pipe_rf_pca = Pipeline([('scl', StandardScaler()),\n",
    "                        ('pca', PCA(n_components=2)),\n",
    "                        ('clf', RandomForestClassifier(random_state=42))]) # pipeline for random forest with pca"
   ]
  },
  {
   "cell_type": "code",
   "execution_count": 0,
   "metadata": {
    "colab": {},
    "colab_type": "code",
    "id": "l6Yp6USM3cvW"
   },
   "outputs": [],
   "source": [
    "pipe_ab = Pipeline([('scl', StandardScaler()),\n",
    "                     ('clf', AdaBoostClassifier(random_state=42))]) # pipeline for adaboost\n",
    "\n",
    "pipe_ab_pca = Pipeline([('scl', StandardScaler()),\n",
    "                         ('pca', PCA(n_components=2)),\n",
    "                         ('clf', AdaBoostClassifier(random_state=42))])  # pipeline for adaboost with PCA"
   ]
  },
  {
   "cell_type": "markdown",
   "metadata": {
    "colab_type": "text",
    "id": "O1yjg5rt3cvb"
   },
   "source": [
    "**Set the grid search parameters**"
   ]
  },
  {
   "cell_type": "code",
   "execution_count": 0,
   "metadata": {
    "colab": {},
    "colab_type": "code",
    "id": "Mj38HnLr3cvd"
   },
   "outputs": [],
   "source": [
    "grid_params_lr = [{'clf__penalty': ['l1', 'l2'],\n",
    "                   'clf__C': [0.1,0.5,1],\n",
    "                   'clf__solver': ['liblinear']}] \n",
    "\n",
    "grid_params_rf = [{'clf__n_estimators': [20,21,22],\n",
    "                   'clf__max_depth': [22,24,25]}]\n",
    "\n",
    "grid_params_ab = [{'clf__n_estimators': [1,3,5], \n",
    "                    'clf__learning_rate': [0.001,0.01]}]"
   ]
  },
  {
   "cell_type": "markdown",
   "metadata": {
    "colab_type": "text",
    "id": "0P_r2uDo3cvi"
   },
   "source": [
    "**Grid search models**"
   ]
  },
  {
   "cell_type": "code",
   "execution_count": 0,
   "metadata": {
    "colab": {},
    "colab_type": "code",
    "id": "NmLHJ-sA3cvi"
   },
   "outputs": [],
   "source": [
    "num_jobs = -1 # use all processors"
   ]
  },
  {
   "cell_type": "code",
   "execution_count": 0,
   "metadata": {
    "colab": {},
    "colab_type": "code",
    "id": "H3DFEbUC3cvk"
   },
   "outputs": [],
   "source": [
    "gs_lr = GridSearchCV(estimator=pipe_lr,\n",
    "                     param_grid=grid_params_lr,\n",
    "                     scoring='f1',\n",
    "                     cv=10,\n",
    "                     n_jobs = num_jobs)\n",
    "                     \n",
    "gs_lr_pca = GridSearchCV(estimator=pipe_lr_pca,\n",
    "                         param_grid=grid_params_lr,\n",
    "                         scoring='f1',\n",
    "                         cv=10)"
   ]
  },
  {
   "cell_type": "code",
   "execution_count": 0,
   "metadata": {
    "colab": {},
    "colab_type": "code",
    "id": "jcBJZXEf3cvv"
   },
   "outputs": [],
   "source": [
    "gs_rf = GridSearchCV(estimator=pipe_rf,\n",
    "                     param_grid=grid_params_rf,\n",
    "                     scoring='f1',\n",
    "                     cv=10,\n",
    "                     n_jobs=num_jobs,\n",
    "                     verbose=2) \n",
    "\n",
    "gs_rf_pca = GridSearchCV(estimator=pipe_rf_pca,\n",
    "                         param_grid=grid_params_rf,\n",
    "                         scoring='f1',\n",
    "                         cv=10,\n",
    "                         n_jobs=num_jobs,\n",
    "                         verbose=2)"
   ]
  },
  {
   "cell_type": "code",
   "execution_count": 0,
   "metadata": {
    "colab": {},
    "colab_type": "code",
    "id": "aIKs2PtZ3cvx"
   },
   "outputs": [],
   "source": [
    "gs_ab = GridSearchCV(estimator=pipe_ab,\n",
    "                     param_grid=grid_params_ab,\n",
    "                     scoring='f1',\n",
    "                     cv=10,\n",
    "                     n_jobs=num_jobs,\n",
    "                     verbose=2) \n",
    "\n",
    "gs_ab_pca = GridSearchCV(estimator=pipe_ab_pca,\n",
    "                         param_grid=grid_params_ab,\n",
    "                         scoring='f1',\n",
    "                         cv=10,\n",
    "                         n_jobs=num_jobs,\n",
    "                         verbose=2)"
   ]
  },
  {
   "cell_type": "code",
   "execution_count": 0,
   "metadata": {
    "colab": {},
    "colab_type": "code",
    "id": "nDdRirHN3cvy"
   },
   "outputs": [],
   "source": [
    "# List of pipelines for iteration\n",
    "grids = [gs_lr_pca,\n",
    "         gs_rf,\n",
    "         gs_ab]"
   ]
  },
  {
   "cell_type": "code",
   "execution_count": 0,
   "metadata": {
    "colab": {},
    "colab_type": "code",
    "id": "X7omR15T3cv0"
   },
   "outputs": [],
   "source": [
    "grids = [gs_lr_pca,gs_rf,gs_ab]"
   ]
  },
  {
   "cell_type": "code",
   "execution_count": 0,
   "metadata": {
    "colab": {},
    "colab_type": "code",
    "id": "xT3MaQqC3cv2"
   },
   "outputs": [],
   "source": [
    "# Dictionary of pipelines and type of classifier for reference\n",
    "grid_dict = {0: 'Logistic Regression with PCA', 1: 'Random Forest', 2:'Adaboost'}"
   ]
  },
  {
   "cell_type": "code",
   "execution_count": 0,
   "metadata": {
    "colab": {
     "base_uri": "https://localhost:8080/",
     "height": 510
    },
    "colab_type": "code",
    "id": "sFXMcy683cv5",
    "outputId": "3a904247-46a4-4f85-8075-b95a2a6559d8"
   },
   "outputs": [
    {
     "name": "stdout",
     "output_type": "stream",
     "text": [
      "Training...\n",
      "\n",
      "Estimator: Logistic Regression with PCA\n",
      "Best parameters are: {'clf__C': 1, 'clf__penalty': 'l1', 'clf__solver': 'liblinear'}\n",
      "Best estimated test f1: 0.011921213065966493\n",
      "Accuracy score for model with best parameters (Test dataset): 0.7983465465650739\n",
      "f1 score for model with best parameters (Test dataset): 0.012985052091197342\n",
      "\n",
      "Estimator: Random Forest\n",
      "Fitting 10 folds for each of 9 candidates, totalling 90 fits\n"
     ]
    },
    {
     "name": "stderr",
     "output_type": "stream",
     "text": [
      "[Parallel(n_jobs=-1)]: Using backend LokyBackend with 2 concurrent workers.\n",
      "[Parallel(n_jobs=-1)]: Done  37 tasks      | elapsed:  1.2min\n",
      "[Parallel(n_jobs=-1)]: Done  90 out of  90 | elapsed:  2.9min finished\n"
     ]
    },
    {
     "name": "stdout",
     "output_type": "stream",
     "text": [
      "Best parameters are: {'clf__max_depth': 25, 'clf__n_estimators': 20}\n",
      "Best estimated test f1: 0.11029528760872451\n",
      "Accuracy score for model with best parameters (Test dataset): 0.8026961162353087\n",
      "f1 score for model with best parameters (Test dataset): 0.11314475873544093\n",
      "\n",
      "Estimator: Adaboost\n",
      "Fitting 10 folds for each of 6 candidates, totalling 60 fits\n"
     ]
    },
    {
     "name": "stderr",
     "output_type": "stream",
     "text": [
      "[Parallel(n_jobs=-1)]: Using backend LokyBackend with 2 concurrent workers.\n",
      "[Parallel(n_jobs=-1)]: Done  37 tasks      | elapsed:   12.7s\n",
      "[Parallel(n_jobs=-1)]: Done  60 out of  60 | elapsed:   21.8s finished\n"
     ]
    },
    {
     "name": "stdout",
     "output_type": "stream",
     "text": [
      "Best parameters are: {'clf__learning_rate': 0.001, 'clf__n_estimators': 1}\n",
      "Best estimated test f1: 0.0\n",
      "Accuracy score for model with best parameters (Test dataset): 0.8002899713113489\n",
      "f1 score for model with best parameters (Test dataset): 0.0\n",
      "\n",
      "Classifier with best test set f1: Random Forest\n"
     ]
    }
   ],
   "source": [
    "# Train the grid search models\n",
    "\n",
    "print('Training...')\n",
    "\n",
    "# init the \"best\" variables\n",
    "best_f1 = 0.0\n",
    "best_clf_index = 0\n",
    "best_gs = ''\n",
    "\n",
    "for i, gs in enumerate(grids):\n",
    "    print(\"\\nEstimator: {}\".format(grid_dict[i])) # classifier name\n",
    "    \n",
    "    # fit grid search\n",
    "    gs.fit(X_train, y_train)\n",
    "    \n",
    "    # Get best parameters\n",
    "    print(\"Best parameters are: {}\".format(gs.best_params_))\n",
    "    \n",
    "    # Best estimated test accuracy score (CV)\n",
    "    print(\"Best estimated test f1: {}\".format(gs.best_score_))\n",
    "    \n",
    "    # test predictions \n",
    "    y_pred = gs.predict(X_test)\n",
    "    \n",
    "    # Test data accuracy and f1 of model with best parameters\n",
    "    print(\"Accuracy score for model with best parameters (Test dataset): {}\".format(accuracy_score(y_test, y_pred)))\n",
    "    print(\"f1 score for model with best parameters (Test dataset): {}\".format(f1_score(y_test, y_pred)))\n",
    "    \n",
    "    # Record best model with highest accuracy score\n",
    "    if f1_score(y_test, y_pred) > best_f1:\n",
    "        best_f2 = f1_score(y_test, y_pred) # update best accuracy score\n",
    "        best_gs = gs  # update model\n",
    "        best_clf_index = i\n",
    "\n",
    "# Print final results\n",
    "print(\"\\nClassifier with best test set f1: {}\".format(grid_dict[best_clf_index]))\n",
    "\n",
    "# Save best grid search pipeline to file\n",
    "#dump_file = 'best_gs_pipeline.pkl'\n",
    "#joblib.dump(best_gs, dump_file, compress=1)\n",
    "#print('\\nSaved %s grid search pipeline to file: {}'.format(grid_dict[best_clf_index], dump_file))\n",
    "    "
   ]
  },
  {
   "cell_type": "code",
   "execution_count": 0,
   "metadata": {
    "colab": {
     "base_uri": "https://localhost:8080/",
     "height": 34
    },
    "colab_type": "code",
    "id": "Triw82_hsHbj",
    "outputId": "ef85bd7f-afa4-4f3b-f7fc-d6f0698b673c"
   },
   "outputs": [
    {
     "data": {
      "text/plain": [
       "0.11029528760872451"
      ]
     },
     "execution_count": 227,
     "metadata": {
      "tags": []
     },
     "output_type": "execute_result"
    }
   ],
   "source": [
    "best_gs.best_score_ # VERY low"
   ]
  },
  {
   "cell_type": "code",
   "execution_count": 0,
   "metadata": {
    "colab": {},
    "colab_type": "code",
    "id": "-Srincw1YQQj"
   },
   "outputs": [],
   "source": [
    "final_model= best_gs.best_estimator_"
   ]
  },
  {
   "cell_type": "markdown",
   "metadata": {
    "colab_type": "text",
    "id": "y8bcx6hCWw-A"
   },
   "source": [
    "Classification Report"
   ]
  },
  {
   "cell_type": "code",
   "execution_count": 0,
   "metadata": {
    "colab": {
     "base_uri": "https://localhost:8080/",
     "height": 170
    },
    "colab_type": "code",
    "id": "cAPkTF4wW0OF",
    "outputId": "ebb51100-6ffc-47a4-c327-e9b86909b29b"
   },
   "outputs": [
    {
     "name": "stdout",
     "output_type": "stream",
     "text": [
      "              precision    recall  f1-score   support\n",
      "\n",
      "           0       0.81      0.99      0.89     25943\n",
      "           1       0.55      0.06      0.11      6474\n",
      "\n",
      "    accuracy                           0.80     32417\n",
      "   macro avg       0.68      0.53      0.50     32417\n",
      "weighted avg       0.76      0.80      0.73     32417\n",
      "\n"
     ]
    }
   ],
   "source": [
    "print(classification_report(y_test,final_model.predict(X_test)))  "
   ]
  },
  {
   "cell_type": "markdown",
   "metadata": {
    "colab_type": "text",
    "id": "WF4THsp56o3b"
   },
   "source": [
    "- The ccuracy score is no better than the baseline model, recall for 1 is close to 0.  This means due to the large number of class 0 observations, almost all of the predictions of class 1 made by the model is wrong! "
   ]
  },
  {
   "cell_type": "markdown",
   "metadata": {
    "colab_type": "text",
    "id": "UmDzdpIfNfas"
   },
   "source": [
    "## Feature Importance"
   ]
  },
  {
   "cell_type": "code",
   "execution_count": 0,
   "metadata": {
    "colab": {
     "base_uri": "https://localhost:8080/",
     "height": 54
    },
    "colab_type": "code",
    "id": "ijGIXfQa3cv_",
    "outputId": "6be8386a-411d-40cd-fbcc-b4e587805fea"
   },
   "outputs": [
    {
     "name": "stdout",
     "output_type": "stream",
     "text": [
      "[(0.2305, 'AwaitingDays'), (0.2203, 'Age'), (0.133, 'SameDayAppointment'), (0.1066, 'num_appointments'), (0.0793, 'Appoint_Day_of_Week'), (0.0252, 'Gender'), (0.0229, 'SMS_received'), (0.0151, 'Hipertension'), (0.0108, 'Scholarship'), (0.009, 'Diabetes'), (0.0084, 'Alcoholism'), (0.0055, 'Handcap'), (0.0047, 'ITARARÉ'), (0.0036, 'JESUS DE NAZARETH'), (0.0035, 'GURIGICA'), (0.0032, 'SANTO ANDRÉ'), (0.0032, 'RESISTÊNCIA'), (0.0032, 'CARATOÍRA'), (0.0031, 'ILHA DO PRÍNCIPE'), (0.0029, 'SÃO PEDRO'), (0.0029, 'SÃO JOSÉ'), (0.0029, 'SANTOS DUMONT'), (0.0028, 'ANDORINHAS'), (0.0026, 'MARIA ORTIZ'), (0.0026, 'BONFIM'), (0.0025, 'SANTO ANTÔNIO'), (0.0025, 'BELA VISTA'), (0.0024, 'TABUAZEIRO'), (0.0024, 'SÃO BENEDITO'), (0.0024, 'JARDIM DA PENHA'), (0.0024, 'DO QUADRO'), (0.0024, 'DA PENHA'), (0.0023, 'ROMÃO'), (0.0023, 'JARDIM CAMBURI'), (0.0023, 'ILHA DAS CAIEIRAS'), (0.0022, 'SANTA MARTHA'), (0.0022, 'MARUÍPE'), (0.0021, 'SANTA TEREZA'), (0.0021, 'NOVA PALESTINA'), (0.0021, 'ILHA DE SANTA MARIA'), (0.0021, 'GRANDE VITÓRIA'), (0.0021, 'CENTRO'), (0.002, 'JABOUR'), (0.002, 'FORTE SÃO JOÃO'), (0.0019, 'PRAIA DO SUÁ'), (0.0019, 'CRUZAMENTO'), (0.0018, 'SÃO CRISTÓVÃO'), (0.0018, 'REDENÇÃO'), (0.0018, 'JOANA D´ARC'), (0.0016, 'PRAIA DO CANTO'), (0.0016, 'INHANGUETÁ'), (0.0016, 'CONSOLAÇÃO'), (0.0016, 'BENTO FERREIRA'), (0.0015, 'FONTE GRANDE'), (0.0015, 'CONQUISTA'), (0.0014, 'VILA RUBIM'), (0.0014, 'SANTOS REIS'), (0.0014, 'SANTA CLARA'), (0.0014, 'REPÚBLICA'), (0.0014, 'PARQUE MOSCOSO'), (0.0014, 'GOIABEIRAS'), (0.0013, 'ESTRELINHA'), (0.0013, 'DO MOSCOSO'), (0.0012, 'MÁRIO CYPRESTE'), (0.0012, 'DO CABRAL'), (0.0011, 'SANTA CECÍLIA'), (0.0011, 'MONTE BELO'), (0.001, 'SANTA LUÍZA'), (0.001, 'PIEDADE'), (0.001, 'JUCUTUQUARA'), (0.0009, 'MATA DA PRAIA'), (0.0009, 'ENSEADA DO SUÁ'), (0.0009, 'BOA VISTA'), (0.0008, 'SANTA LÚCIA'), (0.0008, 'COMDUSA'), (0.0008, 'BARRO VERMELHO'), (0.0007, 'SOLON BORGES'), (0.0007, 'DE LOURDES'), (0.0007, 'ARIOVALDO FAVALESSA'), (0.0006, 'SEGURANÇA DO LAR'), (0.0006, 'HORTO'), (0.0006, 'FRADINHOS'), (0.0006, 'ANTÔNIO HONÓRIO'), (0.0005, 'UNIVERSITÁRIO'), (0.0005, 'SANTA HELENA'), (0.0005, 'MORADA DE CAMBURI'), (0.0004, 'NAZARETH'), (0.0003, 'PONTAL DE CAMBURI'), (0.0001, 'ILHAS OCEÂNICAS DE TRINDADE'), (0.0001, 'ILHA DO FRADE'), (0.0001, 'ILHA DO BOI'), (0.0, 'PARQUE INDUSTRIAL')]\n"
     ]
    }
   ],
   "source": [
    "importances = final_model[\"clf\"].feature_importances_\n",
    "names = list(X.columns.values)\n",
    "feature_ranked = (sorted(zip(map(lambda x: round(x, 4), importances), names), \n",
    "             reverse=True))\n",
    "print(feature_ranked)"
   ]
  },
  {
   "cell_type": "markdown",
   "metadata": {
    "colab_type": "text",
    "id": "SN9wTXQtNmoT"
   },
   "source": [
    "## Thoughts:\n",
    "- The f1 score is very low 0.11 and the recall for the minority class (class 1) is close to 0.  This is because the dataset is imbalaced-- there are a lot more people who DID not missed appointment than those that did.\n",
    "\n",
    "- I can up-sample the minority class and rerun model with only the 15 most important features.  With no additional information about the neighbourhoods, perhaps I can omit most of the dummies from the model.  "
   ]
  },
  {
   "cell_type": "markdown",
   "metadata": {
    "colab_type": "text",
    "id": "nwqTCzfaek5p"
   },
   "source": [
    "## **Second Iteration**"
   ]
  },
  {
   "cell_type": "code",
   "execution_count": 0,
   "metadata": {
    "colab": {},
    "colab_type": "code",
    "id": "8OlCCV1o3moE"
   },
   "outputs": [],
   "source": [
    "feature_ranked=[(0.2305, 'AwaitingDays'), (0.2203, 'Age'), (0.133, 'SameDayAppointment'), (0.1066, 'num_appointments'), (0.0793, 'Appoint_Day_of_Week'), (0.0252, 'Gender'), (0.0229, 'SMS_received'), (0.0151, 'Hipertension'), (0.0108, 'Scholarship'), (0.009, 'Diabetes'), (0.0084, 'Alcoholism'), (0.0055, 'Handcap'), (0.0047, 'ITARARÉ'), (0.0036, 'JESUS DE NAZARETH'), (0.0035, 'GURIGICA'), (0.0032, 'SANTO ANDRÉ'), (0.0032, 'RESISTÊNCIA'), (0.0032, 'CARATOÍRA'), (0.0031, 'ILHA DO PRÍNCIPE'), (0.0029, 'SÃO PEDRO'), (0.0029, 'SÃO JOSÉ'), (0.0029, 'SANTOS DUMONT'), (0.0028, 'ANDORINHAS'), (0.0026, 'MARIA ORTIZ'), (0.0026, 'BONFIM'), (0.0025, 'SANTO ANTÔNIO'), (0.0025, 'BELA VISTA'), (0.0024, 'TABUAZEIRO'), (0.0024, 'SÃO BENEDITO'), (0.0024, 'JARDIM DA PENHA'), (0.0024, 'DO QUADRO'), (0.0024, 'DA PENHA'), (0.0023, 'ROMÃO'), (0.0023, 'JARDIM CAMBURI'), (0.0023, 'ILHA DAS CAIEIRAS'), (0.0022, 'SANTA MARTHA'), (0.0022, 'MARUÍPE'), (0.0021, 'SANTA TEREZA'), (0.0021, 'NOVA PALESTINA'), (0.0021, 'ILHA DE SANTA MARIA'), (0.0021, 'GRANDE VITÓRIA'), (0.0021, 'CENTRO'), (0.002, 'JABOUR'), (0.002, 'FORTE SÃO JOÃO'), (0.0019, 'PRAIA DO SUÁ'), (0.0019, 'CRUZAMENTO'), (0.0018, 'SÃO CRISTÓVÃO'), (0.0018, 'REDENÇÃO'), (0.0018, 'JOANA D´ARC'), (0.0016, 'PRAIA DO CANTO'), (0.0016, 'INHANGUETÁ'), (0.0016, 'CONSOLAÇÃO'), (0.0016, 'BENTO FERREIRA'), (0.0015, 'FONTE GRANDE'), (0.0015, 'CONQUISTA'), (0.0014, 'VILA RUBIM'), (0.0014, 'SANTOS REIS'), (0.0014, 'SANTA CLARA'), (0.0014, 'REPÚBLICA'), (0.0014, 'PARQUE MOSCOSO'), (0.0014, 'GOIABEIRAS'), (0.0013, 'ESTRELINHA'), (0.0013, 'DO MOSCOSO'), (0.0012, 'MÁRIO CYPRESTE'), (0.0012, 'DO CABRAL'), (0.0011, 'SANTA CECÍLIA'), (0.0011, 'MONTE BELO'), (0.001, 'SANTA LUÍZA'), (0.001, 'PIEDADE'), (0.001, 'JUCUTUQUARA'), (0.0009, 'MATA DA PRAIA'), (0.0009, 'ENSEADA DO SUÁ'), (0.0009, 'BOA VISTA'), (0.0008, 'SANTA LÚCIA'), (0.0008, 'COMDUSA'), (0.0008, 'BARRO VERMELHO'), (0.0007, 'SOLON BORGES'), (0.0007, 'DE LOURDES'), (0.0007, 'ARIOVALDO FAVALESSA'), (0.0006, 'SEGURANÇA DO LAR'), (0.0006, 'HORTO'), (0.0006, 'FRADINHOS'), (0.0006, 'ANTÔNIO HONÓRIO'), (0.0005, 'UNIVERSITÁRIO'), (0.0005, 'SANTA HELENA'), (0.0005, 'MORADA DE CAMBURI'), (0.0004, 'NAZARETH'), (0.0003, 'PONTAL DE CAMBURI'), (0.0001, 'ILHAS OCEÂNICAS DE TRINDADE'), (0.0001, 'ILHA DO FRADE'), (0.0001, 'ILHA DO BOI'), (0.0, 'PARQUE INDUSTRIAL')]"
   ]
  },
  {
   "cell_type": "code",
   "execution_count": 0,
   "metadata": {
    "colab": {},
    "colab_type": "code",
    "id": "J-Rx6KOLNuUZ"
   },
   "outputs": [],
   "source": [
    "temp =list(zip(*feature_ranked))[1]"
   ]
  },
  {
   "cell_type": "code",
   "execution_count": 0,
   "metadata": {
    "colab": {},
    "colab_type": "code",
    "id": "yBQkGXgYPRyZ"
   },
   "outputs": [],
   "source": [
    "top_features= list(temp[:15])\n",
    "top_features.append(\"No-show\")"
   ]
  },
  {
   "cell_type": "markdown",
   "metadata": {
    "colab_type": "text",
    "id": "tDQVOFk2ey1s"
   },
   "source": [
    "**Include only the top 15 most important features in the new model**"
   ]
  },
  {
   "cell_type": "code",
   "execution_count": 0,
   "metadata": {
    "colab": {},
    "colab_type": "code",
    "id": "33xzoe7OQQCB"
   },
   "outputs": [],
   "source": [
    "processed_new = processed[top_features]\n",
    "X = processed_new.drop(\"No-show\", axis=1)\n",
    "y= processed_new[\"No-show\"]"
   ]
  },
  {
   "cell_type": "markdown",
   "metadata": {
    "colab_type": "text",
    "id": "axvPYnDge7uM"
   },
   "source": [
    "**Up-sample the minority class (No-show = 1)**\n",
    "- Use ADASYN\n",
    "- https://medium.com/coinmonks/smote-and-adasyn-handling-imbalanced-data-set-34f5223e167\n",
    "\n"
   ]
  },
  {
   "cell_type": "code",
   "execution_count": 301,
   "metadata": {
    "colab": {
     "base_uri": "https://localhost:8080/",
     "height": 71
    },
    "colab_type": "code",
    "id": "JiF7ktaBxulO",
    "outputId": "ef1bc7c5-0a51-4c9c-ffb5-78743f1fb1b6"
   },
   "outputs": [
    {
     "name": "stderr",
     "output_type": "stream",
     "text": [
      "/usr/local/lib/python3.6/dist-packages/sklearn/utils/deprecation.py:87: FutureWarning: Function safe_indexing is deprecated; safe_indexing is deprecated in version 0.22 and will be removed in version 0.24.\n",
      "  warnings.warn(msg, category=FutureWarning)\n"
     ]
    }
   ],
   "source": [
    "from imblearn.over_sampling import ADASYN\n",
    "X_resampled, y_resampled = ADASYN().fit_sample(X, y)"
   ]
  },
  {
   "cell_type": "markdown",
   "metadata": {
    "colab_type": "text",
    "id": "BwvQN7xSfPo5"
   },
   "source": [
    "**Train test split**"
   ]
  },
  {
   "cell_type": "code",
   "execution_count": 304,
   "metadata": {
    "colab": {
     "base_uri": "https://localhost:8080/",
     "height": 34
    },
    "colab_type": "code",
    "id": "40XRBUvNcufx",
    "outputId": "3c9029c2-8193-4afc-8c98-913820698884"
   },
   "outputs": [
    {
     "data": {
      "text/plain": [
       "((124132, 15), (53200, 15), (124132,), (53200,))"
      ]
     },
     "execution_count": 304,
     "metadata": {
      "tags": []
     },
     "output_type": "execute_result"
    }
   ],
   "source": [
    "X_train2, X_test2, y_train2, y_test2 = train_test_split(X_resampled, y_resampled, test_size= 0.3, random_state= 101, shuffle=True)\n",
    "X_train2.shape, X_test2.shape, y_train2.shape, y_test2.shape"
   ]
  },
  {
   "cell_type": "markdown",
   "metadata": {
    "colab_type": "text",
    "id": "sGI7dxYBdW3D"
   },
   "source": [
    "Focus only on Random Forest in this iteration"
   ]
  },
  {
   "cell_type": "code",
   "execution_count": 0,
   "metadata": {
    "colab": {},
    "colab_type": "code",
    "id": "_zdW4V8fdgwh"
   },
   "outputs": [],
   "source": [
    "pipe_rf2 = Pipeline([('scl', StandardScaler()),\n",
    "                    ('clf', RandomForestClassifier(criterion = 'gini', min_samples_leaf = 1, \n",
    "                                                   min_samples_split =2, random_state=42))]) # pipeline for random forest classifier"
   ]
  },
  {
   "cell_type": "code",
   "execution_count": 0,
   "metadata": {
    "colab": {},
    "colab_type": "code",
    "id": "s0KL09O-drir"
   },
   "outputs": [],
   "source": [
    "grid_params_rf2 = [{'clf__n_estimators': [10,20,30,40],\n",
    "                   'clf__max_depth': [40,50,60,70]}]"
   ]
  },
  {
   "cell_type": "code",
   "execution_count": 0,
   "metadata": {
    "colab": {},
    "colab_type": "code",
    "id": "o6nqaKIidmeW"
   },
   "outputs": [],
   "source": [
    "gs_rf2 = GridSearchCV(estimator=pipe_rf2,\n",
    "                     param_grid=grid_params_rf2,\n",
    "                     scoring='f1',\n",
    "                     cv=10,\n",
    "                     n_jobs=num_jobs,\n",
    "                     verbose=2) "
   ]
  },
  {
   "cell_type": "code",
   "execution_count": 312,
   "metadata": {
    "colab": {
     "base_uri": "https://localhost:8080/",
     "height": 629
    },
    "colab_type": "code",
    "id": "DKpLUGzzeQ3Y",
    "outputId": "579008e0-1b65-4b1b-843e-8a5c62571656"
   },
   "outputs": [
    {
     "name": "stdout",
     "output_type": "stream",
     "text": [
      "Fitting 10 folds for each of 16 candidates, totalling 160 fits\n"
     ]
    },
    {
     "name": "stderr",
     "output_type": "stream",
     "text": [
      "[Parallel(n_jobs=-1)]: Using backend LokyBackend with 2 concurrent workers.\n",
      "[Parallel(n_jobs=-1)]: Done  37 tasks      | elapsed:  1.5min\n",
      "[Parallel(n_jobs=-1)]: Done 160 out of 160 | elapsed:  6.6min finished\n"
     ]
    },
    {
     "data": {
      "text/plain": [
       "GridSearchCV(cv=10, error_score=nan,\n",
       "             estimator=Pipeline(memory=None,\n",
       "                                steps=[('scl',\n",
       "                                        StandardScaler(copy=True,\n",
       "                                                       with_mean=True,\n",
       "                                                       with_std=True)),\n",
       "                                       ('clf',\n",
       "                                        RandomForestClassifier(bootstrap=True,\n",
       "                                                               ccp_alpha=0.0,\n",
       "                                                               class_weight=None,\n",
       "                                                               criterion='gini',\n",
       "                                                               max_depth=None,\n",
       "                                                               max_features='auto',\n",
       "                                                               max_leaf_nodes=None,\n",
       "                                                               max_samples=None,\n",
       "                                                               min_impurity_decrease=0.0,\n",
       "                                                               min_impurity_split=None,\n",
       "                                                               min_samples_leaf=1,\n",
       "                                                               min_samples_split=2,\n",
       "                                                               min_weight_fraction_leaf=0.0,\n",
       "                                                               n_estimators=100,\n",
       "                                                               n_jobs=None,\n",
       "                                                               oob_score=False,\n",
       "                                                               random_state=42,\n",
       "                                                               verbose=0,\n",
       "                                                               warm_start=False))],\n",
       "                                verbose=False),\n",
       "             iid='deprecated', n_jobs=-1,\n",
       "             param_grid=[{'clf__max_depth': [40, 50, 60, 70],\n",
       "                          'clf__n_estimators': [10, 20, 30, 40]}],\n",
       "             pre_dispatch='2*n_jobs', refit=True, return_train_score=False,\n",
       "             scoring='f1', verbose=2)"
      ]
     },
     "execution_count": 312,
     "metadata": {
      "tags": []
     },
     "output_type": "execute_result"
    }
   ],
   "source": [
    "# fit grid search\n",
    "gs_rf2.fit(X_train2, y_train2)"
   ]
  },
  {
   "cell_type": "code",
   "execution_count": 313,
   "metadata": {
    "colab": {
     "base_uri": "https://localhost:8080/",
     "height": 34
    },
    "colab_type": "code",
    "id": "-kvAMheWt-Bt",
    "outputId": "a904dae6-b5e0-4d50-a390-f128060f28dc"
   },
   "outputs": [
    {
     "data": {
      "text/plain": [
       "{'clf__max_depth': 40, 'clf__n_estimators': 40}"
      ]
     },
     "execution_count": 313,
     "metadata": {
      "tags": []
     },
     "output_type": "execute_result"
    }
   ],
   "source": [
    "gs_rf2.best_params_"
   ]
  },
  {
   "cell_type": "code",
   "execution_count": 314,
   "metadata": {
    "colab": {
     "base_uri": "https://localhost:8080/",
     "height": 34
    },
    "colab_type": "code",
    "id": "Gimq3KlseVj2",
    "outputId": "72831092-4bae-4441-a673-077514ca6eda"
   },
   "outputs": [
    {
     "data": {
      "text/plain": [
       "0.7896435684465516"
      ]
     },
     "execution_count": 314,
     "metadata": {
      "tags": []
     },
     "output_type": "execute_result"
    }
   ],
   "source": [
    "gs_rf2.best_score_ # best estimated test f1 score (a large improvement from the model in the first iteration)"
   ]
  },
  {
   "cell_type": "code",
   "execution_count": 0,
   "metadata": {
    "colab": {},
    "colab_type": "code",
    "id": "oZwUoP5Sr5F_"
   },
   "outputs": [],
   "source": [
    "y_pred=gs_rf2.best_estimator_[\"clf\"].predict(X_test2)"
   ]
  },
  {
   "cell_type": "code",
   "execution_count": 0,
   "metadata": {
    "colab": {
     "base_uri": "https://localhost:8080/",
     "height": 170
    },
    "colab_type": "code",
    "id": "49YXFO6Wtd3r",
    "outputId": "f93f57e9-55e9-49f9-f10b-11163e63e729"
   },
   "outputs": [
    {
     "name": "stdout",
     "output_type": "stream",
     "text": [
      "              precision    recall  f1-score   support\n",
      "\n",
      "           0       0.63      0.72      0.67     26115\n",
      "           1       0.69      0.59      0.64     27253\n",
      "\n",
      "    accuracy                           0.65     53368\n",
      "   macro avg       0.66      0.65      0.65     53368\n",
      "weighted avg       0.66      0.65      0.65     53368\n",
      "\n"
     ]
    }
   ],
   "source": [
    "print(classification_report(y_test2, y_pred)) "
   ]
  },
  {
   "cell_type": "markdown",
   "metadata": {
    "colab_type": "text",
    "id": "4LA0oAc9I8OB"
   },
   "source": [
    "### **Thoughts**"
   ]
  },
  {
   "cell_type": "markdown",
   "metadata": {
    "colab_type": "text",
    "id": "yO67-Xldtidh"
   },
   "source": [
    "Compared to the first model, the accuracy score is lower, but recall and precison for class 1 (the minority class), which was close to 0 in the first model, has greatly improved."
   ]
  },
  {
   "cell_type": "code",
   "execution_count": 0,
   "metadata": {
    "colab": {},
    "colab_type": "code",
    "id": "ajRG0jye59pS"
   },
   "outputs": [],
   "source": []
  }
 ],
 "metadata": {
  "colab": {
   "collapsed_sections": [
    "sGLio0_T3csK",
    "AYjhoe4F3csT",
    "UgDOCiF-3csu",
    "TrXPmiby3cs-",
    "_eGxv4r43ctP",
    "5KwyVncL3ctc",
    "iQcDxaPe3cuL"
   ],
   "name": "Medical_Appointments_Classification.ipynb",
   "provenance": []
  },
  "kernelspec": {
   "display_name": "Python 3",
   "language": "python",
   "name": "python3"
  },
  "language_info": {
   "codemirror_mode": {
    "name": "ipython",
    "version": 3
   },
   "file_extension": ".py",
   "mimetype": "text/x-python",
   "name": "python",
   "nbconvert_exporter": "python",
   "pygments_lexer": "ipython3",
   "version": "3.7.5"
  },
  "varInspector": {
   "cols": {
    "lenName": 16,
    "lenType": 16,
    "lenVar": 40
   },
   "kernels_config": {
    "python": {
     "delete_cmd_postfix": "",
     "delete_cmd_prefix": "del ",
     "library": "var_list.py",
     "varRefreshCmd": "print(var_dic_list())"
    },
    "r": {
     "delete_cmd_postfix": ") ",
     "delete_cmd_prefix": "rm(",
     "library": "var_list.r",
     "varRefreshCmd": "cat(var_dic_list()) "
    }
   },
   "types_to_exclude": [
    "module",
    "function",
    "builtin_function_or_method",
    "instance",
    "_Feature"
   ],
   "window_display": false
  }
 },
 "nbformat": 4,
 "nbformat_minor": 1
}
